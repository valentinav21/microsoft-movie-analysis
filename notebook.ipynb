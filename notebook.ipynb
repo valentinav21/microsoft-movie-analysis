{
 "cells": [
  {
   "cell_type": "markdown",
   "metadata": {},
   "source": [
    "# Microsoft Movie Analysis\n",
    "\n",
    "_Author: Valentina Valdez_"
   ]
  },
  {
   "cell_type": "markdown",
   "metadata": {},
   "source": [
    "![picture of motion picture camera](Images/pexels-donald-tong-66134.jpg)"
   ]
  },
  {
   "cell_type": "markdown",
   "metadata": {},
   "source": [
    "## Business Understanding"
   ]
  },
  {
   "cell_type": "markdown",
   "metadata": {},
   "source": [
    "### Company Vision and High Level Goals\n",
    "\n",
    "Microsoft's decision to venture into the movie industry marks an exciting strategic shift. By telling compelling stories through film, Microsoft can connect with audiences on an emotional level and establish a stronger presence in popular culture, leading to increased brand awareness. \n",
    "\n",
    "Other tech companies such as Apple and Amazon have successfully transitioned into the filmmaking industry. Microsoft, by leveraging its extensive technological expertise, vast resources, and global reach, can produce high-quality movies that will enhance its brand image and increase its cultural influence. Within this analysis, I will explore how Microsoft should approach this new venture with the goal of **maximizing profitability** and **creating positive brand exposure**. \n",
    "\n",
    "The filmmaking industry is more than one hundred years old. However, this research will its analysis to films released between 2010 and 2019. This timeframe will ensure that the insights from this analysis reflect the current state of the filmmaking industry.\n",
    "\n",
    "### Research Goals\n",
    "\n",
    "Given the above goals, this research aims to answer the following questions:\n",
    "- What is the right budget to maximize profits?\n",
    "- Which directors can deliver high profits? \n",
    "- Which directors can deliver acclaimed films?\n",
    "- Are there directors that do both?\n",
    "\n",
    "Let's dive in!"
   ]
  },
  {
   "cell_type": "markdown",
   "metadata": {},
   "source": [
    "## Data Understanding"
   ]
  },
  {
   "cell_type": "markdown",
   "metadata": {},
   "source": [
    "This analysis uses a variety of trusted data sources. The datasets will be used to narrow down how Microsoft should  invest in its filmmaking efforts. The sources are as follows:\n",
    "\n",
    "- **IMDB:** Launched in 1990 - and owned by Amazon since 1998 - IMDB is one of the most popular and recognizable databases. This database houses a large amount of information such as directors, writers, genres, and release date.  \n",
    "- **The Numbers:** This database was started in 1997, and is now the largest freely available database of movie business information. The available data contains information about movie titles, production budgets, and gross revenue data. \n",
    "- **The Academy Awards**: This data was created by scraping the <a href=\"https://awardsdatabase.oscars.org/\">academy database</a> for a Kaggle competition. The Academy Awards is considered the most prestigious filmaking award in America, and this data will provide valuable insights in identifying individuals capable of making prestige films. This dataset contains information on Academy Award nominees and winners between the years 1927 and 2023. Access the data <a href=\"https://www.kaggle.com/datasets/unanimad/the-oscar-award\">here</a> .  \n",
    "\n",
    "\n",
    "This analysis is limited by the information in these datasets, and may not fully encompass the full scope of the filmmaking industry. However, the data is current enough that this analysis can still provide valuable insight and guide Microsoft on their next steps.\n",
    "\n",
    "\n",
    "The first step in this analysis is to understand the data and how we can transform it to gleam insights. First, I am importing the necessary libraries to read the data and perform the necessary analysis. I will review the data sources one by one to determine what needs to be done before we can perform analysis. "
   ]
  },
  {
   "cell_type": "code",
   "execution_count": 48,
   "metadata": {},
   "outputs": [],
   "source": [
    "#Import libraries\n",
    "import pandas as pd\n",
    "import numpy as np\n",
    "import matplotlib.pyplot as plt\n",
    "import seaborn as sns\n",
    "import sqlite3\n",
    "import datetime\n",
    "%matplotlib inline\n",
    "\n",
    "# Change pandas formatting to avoid scientific notation\n",
    "pd.options.display.float_format = '{:.2f}'.format"
   ]
  },
  {
   "cell_type": "markdown",
   "metadata": {},
   "source": [
    "### IMDB"
   ]
  },
  {
   "cell_type": "markdown",
   "metadata": {},
   "source": [
    "Let's examine IMDB's database first, which is the most extensive of the three. From this database, I will need information on movies titles, release years, and the directors per film. "
   ]
  },
  {
   "cell_type": "code",
   "execution_count": 49,
   "metadata": {},
   "outputs": [
    {
     "data": {
      "text/html": [
       "<div>\n",
       "<style scoped>\n",
       "    .dataframe tbody tr th:only-of-type {\n",
       "        vertical-align: middle;\n",
       "    }\n",
       "\n",
       "    .dataframe tbody tr th {\n",
       "        vertical-align: top;\n",
       "    }\n",
       "\n",
       "    .dataframe thead th {\n",
       "        text-align: right;\n",
       "    }\n",
       "</style>\n",
       "<table border=\"1\" class=\"dataframe\">\n",
       "  <thead>\n",
       "    <tr style=\"text-align: right;\">\n",
       "      <th></th>\n",
       "      <th>name</th>\n",
       "    </tr>\n",
       "  </thead>\n",
       "  <tbody>\n",
       "    <tr>\n",
       "      <th>0</th>\n",
       "      <td>movie_basics</td>\n",
       "    </tr>\n",
       "    <tr>\n",
       "      <th>1</th>\n",
       "      <td>directors</td>\n",
       "    </tr>\n",
       "    <tr>\n",
       "      <th>2</th>\n",
       "      <td>known_for</td>\n",
       "    </tr>\n",
       "    <tr>\n",
       "      <th>3</th>\n",
       "      <td>movie_akas</td>\n",
       "    </tr>\n",
       "    <tr>\n",
       "      <th>4</th>\n",
       "      <td>movie_ratings</td>\n",
       "    </tr>\n",
       "    <tr>\n",
       "      <th>5</th>\n",
       "      <td>persons</td>\n",
       "    </tr>\n",
       "    <tr>\n",
       "      <th>6</th>\n",
       "      <td>principals</td>\n",
       "    </tr>\n",
       "    <tr>\n",
       "      <th>7</th>\n",
       "      <td>writers</td>\n",
       "    </tr>\n",
       "  </tbody>\n",
       "</table>\n",
       "</div>"
      ],
      "text/plain": [
       "            name\n",
       "0   movie_basics\n",
       "1      directors\n",
       "2      known_for\n",
       "3     movie_akas\n",
       "4  movie_ratings\n",
       "5        persons\n",
       "6     principals\n",
       "7        writers"
      ]
     },
     "execution_count": 49,
     "metadata": {},
     "output_type": "execute_result"
    }
   ],
   "source": [
    "#Connect to database\n",
    "conn = sqlite3.connect(\"Data/im.db\")\n",
    "\n",
    "#Review tables\n",
    "imdb_tables = pd.read_sql(\"\"\"SELECT name FROM sqlite_master;\"\"\", conn)\n",
    "imdb_tables"
   ]
  },
  {
   "cell_type": "code",
   "execution_count": 50,
   "metadata": {},
   "outputs": [
    {
     "data": {
      "text/html": [
       "<div>\n",
       "<style scoped>\n",
       "    .dataframe tbody tr th:only-of-type {\n",
       "        vertical-align: middle;\n",
       "    }\n",
       "\n",
       "    .dataframe tbody tr th {\n",
       "        vertical-align: top;\n",
       "    }\n",
       "\n",
       "    .dataframe thead th {\n",
       "        text-align: right;\n",
       "    }\n",
       "</style>\n",
       "<table border=\"1\" class=\"dataframe\">\n",
       "  <thead>\n",
       "    <tr style=\"text-align: right;\">\n",
       "      <th></th>\n",
       "      <th>movie_id</th>\n",
       "      <th>primary_title</th>\n",
       "      <th>original_title</th>\n",
       "      <th>start_year</th>\n",
       "      <th>runtime_minutes</th>\n",
       "      <th>genres</th>\n",
       "    </tr>\n",
       "  </thead>\n",
       "  <tbody>\n",
       "    <tr>\n",
       "      <th>0</th>\n",
       "      <td>tt0063540</td>\n",
       "      <td>Sunghursh</td>\n",
       "      <td>Sunghursh</td>\n",
       "      <td>2013</td>\n",
       "      <td>175.00</td>\n",
       "      <td>Action,Crime,Drama</td>\n",
       "    </tr>\n",
       "    <tr>\n",
       "      <th>1</th>\n",
       "      <td>tt0066787</td>\n",
       "      <td>One Day Before the Rainy Season</td>\n",
       "      <td>Ashad Ka Ek Din</td>\n",
       "      <td>2019</td>\n",
       "      <td>114.00</td>\n",
       "      <td>Biography,Drama</td>\n",
       "    </tr>\n",
       "    <tr>\n",
       "      <th>2</th>\n",
       "      <td>tt0069049</td>\n",
       "      <td>The Other Side of the Wind</td>\n",
       "      <td>The Other Side of the Wind</td>\n",
       "      <td>2018</td>\n",
       "      <td>122.00</td>\n",
       "      <td>Drama</td>\n",
       "    </tr>\n",
       "    <tr>\n",
       "      <th>3</th>\n",
       "      <td>tt0069204</td>\n",
       "      <td>Sabse Bada Sukh</td>\n",
       "      <td>Sabse Bada Sukh</td>\n",
       "      <td>2018</td>\n",
       "      <td>nan</td>\n",
       "      <td>Comedy,Drama</td>\n",
       "    </tr>\n",
       "    <tr>\n",
       "      <th>4</th>\n",
       "      <td>tt0100275</td>\n",
       "      <td>The Wandering Soap Opera</td>\n",
       "      <td>La Telenovela Errante</td>\n",
       "      <td>2017</td>\n",
       "      <td>80.00</td>\n",
       "      <td>Comedy,Drama,Fantasy</td>\n",
       "    </tr>\n",
       "  </tbody>\n",
       "</table>\n",
       "</div>"
      ],
      "text/plain": [
       "    movie_id                    primary_title              original_title  \\\n",
       "0  tt0063540                        Sunghursh                   Sunghursh   \n",
       "1  tt0066787  One Day Before the Rainy Season             Ashad Ka Ek Din   \n",
       "2  tt0069049       The Other Side of the Wind  The Other Side of the Wind   \n",
       "3  tt0069204                  Sabse Bada Sukh             Sabse Bada Sukh   \n",
       "4  tt0100275         The Wandering Soap Opera       La Telenovela Errante   \n",
       "\n",
       "   start_year  runtime_minutes                genres  \n",
       "0        2013           175.00    Action,Crime,Drama  \n",
       "1        2019           114.00       Biography,Drama  \n",
       "2        2018           122.00                 Drama  \n",
       "3        2018              nan          Comedy,Drama  \n",
       "4        2017            80.00  Comedy,Drama,Fantasy  "
      ]
     },
     "execution_count": 50,
     "metadata": {},
     "output_type": "execute_result"
    }
   ],
   "source": [
    "#Query 'movie_basics' tables\n",
    "movie_basics = pd.read_sql(\"\"\"SELECT * FROM movie_basics;\"\"\", conn)\n",
    "movie_basics.head()"
   ]
  },
  {
   "cell_type": "code",
   "execution_count": 51,
   "metadata": {},
   "outputs": [
    {
     "name": "stdout",
     "output_type": "stream",
     "text": [
      "<class 'pandas.core.frame.DataFrame'>\n",
      "RangeIndex: 146144 entries, 0 to 146143\n",
      "Data columns (total 6 columns):\n",
      " #   Column           Non-Null Count   Dtype  \n",
      "---  ------           --------------   -----  \n",
      " 0   movie_id         146144 non-null  object \n",
      " 1   primary_title    146144 non-null  object \n",
      " 2   original_title   146123 non-null  object \n",
      " 3   start_year       146144 non-null  int64  \n",
      " 4   runtime_minutes  114405 non-null  float64\n",
      " 5   genres           140736 non-null  object \n",
      "dtypes: float64(1), int64(1), object(4)\n",
      "memory usage: 6.7+ MB\n"
     ]
    }
   ],
   "source": [
    "#Review structure of 'movie_basics' table\n",
    "movie_basics.info()"
   ]
  },
  {
   "cell_type": "code",
   "execution_count": 52,
   "metadata": {},
   "outputs": [
    {
     "name": "stdout",
     "output_type": "stream",
     "text": [
      "<class 'pandas.core.frame.DataFrame'>\n",
      "RangeIndex: 331703 entries, 0 to 331702\n",
      "Data columns (total 8 columns):\n",
      " #   Column             Non-Null Count   Dtype  \n",
      "---  ------             --------------   -----  \n",
      " 0   movie_id           331703 non-null  object \n",
      " 1   ordering           331703 non-null  int64  \n",
      " 2   title              331703 non-null  object \n",
      " 3   region             278410 non-null  object \n",
      " 4   language           41715 non-null   object \n",
      " 5   types              168447 non-null  object \n",
      " 6   attributes         14925 non-null   object \n",
      " 7   is_original_title  331678 non-null  float64\n",
      "dtypes: float64(1), int64(1), object(6)\n",
      "memory usage: 20.2+ MB\n"
     ]
    }
   ],
   "source": [
    "#Query 'movie_akas' table\n",
    "movie_akas = pd.read_sql(\"\"\"\n",
    "SELECT * \n",
    "FROM movie_akas\n",
    ";\"\"\", conn)\n",
    "\n",
    "#Review structure of 'movie_akas' table\n",
    "movie_akas.info()"
   ]
  },
  {
   "cell_type": "markdown",
   "metadata": {},
   "source": [
    "Based on the samples above, I should be able to make a table that has the movie title, directors, and release years. I will also be able to filter out any foreign films by using the 'movie_akas' table. "
   ]
  },
  {
   "cell_type": "markdown",
   "metadata": {},
   "source": [
    "### The Numbers"
   ]
  },
  {
   "cell_type": "markdown",
   "metadata": {},
   "source": [
    "For this dataset, the goal is to calculate the Return on Investment per film. Additionally, films will be categorized by production budget so that the budget can be described as low, mid, or high. Eventually, I can tie this information to the IMDB table and identify which films and directors have produced high ROIs. "
   ]
  },
  {
   "cell_type": "code",
   "execution_count": 53,
   "metadata": {},
   "outputs": [
    {
     "data": {
      "text/html": [
       "<div>\n",
       "<style scoped>\n",
       "    .dataframe tbody tr th:only-of-type {\n",
       "        vertical-align: middle;\n",
       "    }\n",
       "\n",
       "    .dataframe tbody tr th {\n",
       "        vertical-align: top;\n",
       "    }\n",
       "\n",
       "    .dataframe thead th {\n",
       "        text-align: right;\n",
       "    }\n",
       "</style>\n",
       "<table border=\"1\" class=\"dataframe\">\n",
       "  <thead>\n",
       "    <tr style=\"text-align: right;\">\n",
       "      <th></th>\n",
       "      <th>id</th>\n",
       "      <th>release_date</th>\n",
       "      <th>movie</th>\n",
       "      <th>production_budget</th>\n",
       "      <th>domestic_gross</th>\n",
       "      <th>worldwide_gross</th>\n",
       "    </tr>\n",
       "  </thead>\n",
       "  <tbody>\n",
       "    <tr>\n",
       "      <th>0</th>\n",
       "      <td>1</td>\n",
       "      <td>Dec 18, 2009</td>\n",
       "      <td>Avatar</td>\n",
       "      <td>$425,000,000</td>\n",
       "      <td>$760,507,625</td>\n",
       "      <td>$2,776,345,279</td>\n",
       "    </tr>\n",
       "    <tr>\n",
       "      <th>1</th>\n",
       "      <td>2</td>\n",
       "      <td>May 20, 2011</td>\n",
       "      <td>Pirates of the Caribbean: On Stranger Tides</td>\n",
       "      <td>$410,600,000</td>\n",
       "      <td>$241,063,875</td>\n",
       "      <td>$1,045,663,875</td>\n",
       "    </tr>\n",
       "    <tr>\n",
       "      <th>2</th>\n",
       "      <td>3</td>\n",
       "      <td>Jun 7, 2019</td>\n",
       "      <td>Dark Phoenix</td>\n",
       "      <td>$350,000,000</td>\n",
       "      <td>$42,762,350</td>\n",
       "      <td>$149,762,350</td>\n",
       "    </tr>\n",
       "    <tr>\n",
       "      <th>3</th>\n",
       "      <td>4</td>\n",
       "      <td>May 1, 2015</td>\n",
       "      <td>Avengers: Age of Ultron</td>\n",
       "      <td>$330,600,000</td>\n",
       "      <td>$459,005,868</td>\n",
       "      <td>$1,403,013,963</td>\n",
       "    </tr>\n",
       "    <tr>\n",
       "      <th>4</th>\n",
       "      <td>5</td>\n",
       "      <td>Dec 15, 2017</td>\n",
       "      <td>Star Wars Ep. VIII: The Last Jedi</td>\n",
       "      <td>$317,000,000</td>\n",
       "      <td>$620,181,382</td>\n",
       "      <td>$1,316,721,747</td>\n",
       "    </tr>\n",
       "  </tbody>\n",
       "</table>\n",
       "</div>"
      ],
      "text/plain": [
       "   id  release_date                                        movie  \\\n",
       "0   1  Dec 18, 2009                                       Avatar   \n",
       "1   2  May 20, 2011  Pirates of the Caribbean: On Stranger Tides   \n",
       "2   3   Jun 7, 2019                                 Dark Phoenix   \n",
       "3   4   May 1, 2015                      Avengers: Age of Ultron   \n",
       "4   5  Dec 15, 2017            Star Wars Ep. VIII: The Last Jedi   \n",
       "\n",
       "  production_budget domestic_gross worldwide_gross  \n",
       "0      $425,000,000   $760,507,625  $2,776,345,279  \n",
       "1      $410,600,000   $241,063,875  $1,045,663,875  \n",
       "2      $350,000,000    $42,762,350    $149,762,350  \n",
       "3      $330,600,000   $459,005,868  $1,403,013,963  \n",
       "4      $317,000,000   $620,181,382  $1,316,721,747  "
      ]
     },
     "execution_count": 53,
     "metadata": {},
     "output_type": "execute_result"
    }
   ],
   "source": [
    "#Import data\n",
    "numbers_df = pd.read_csv('Data/tn.movie_budgets.csv.gz')\n",
    "\n",
    "#Preview table\n",
    "numbers_df.head()"
   ]
  },
  {
   "cell_type": "code",
   "execution_count": 54,
   "metadata": {},
   "outputs": [
    {
     "name": "stdout",
     "output_type": "stream",
     "text": [
      "<class 'pandas.core.frame.DataFrame'>\n",
      "RangeIndex: 5782 entries, 0 to 5781\n",
      "Data columns (total 6 columns):\n",
      " #   Column             Non-Null Count  Dtype \n",
      "---  ------             --------------  ----- \n",
      " 0   id                 5782 non-null   int64 \n",
      " 1   release_date       5782 non-null   object\n",
      " 2   movie              5782 non-null   object\n",
      " 3   production_budget  5782 non-null   object\n",
      " 4   domestic_gross     5782 non-null   object\n",
      " 5   worldwide_gross    5782 non-null   object\n",
      "dtypes: int64(1), object(5)\n",
      "memory usage: 271.2+ KB\n"
     ]
    }
   ],
   "source": [
    "#Review data structure\n",
    "numbers_df.info()"
   ]
  },
  {
   "cell_type": "markdown",
   "metadata": {},
   "source": [
    "Based on the preliminary review, this dataset should be sufficient to calculate net profit and ROI per film. "
   ]
  },
  {
   "cell_type": "markdown",
   "metadata": {},
   "source": [
    "### The Academy Awards"
   ]
  },
  {
   "cell_type": "markdown",
   "metadata": {},
   "source": [
    "While there are many other awards for filmmaking, the Academy Awards is the most prestigious US based filmmkaing award. This dataset will be critical in providing information on which films and directors have been critically acclaimed. "
   ]
  },
  {
   "cell_type": "code",
   "execution_count": 55,
   "metadata": {},
   "outputs": [
    {
     "data": {
      "text/html": [
       "<div>\n",
       "<style scoped>\n",
       "    .dataframe tbody tr th:only-of-type {\n",
       "        vertical-align: middle;\n",
       "    }\n",
       "\n",
       "    .dataframe tbody tr th {\n",
       "        vertical-align: top;\n",
       "    }\n",
       "\n",
       "    .dataframe thead th {\n",
       "        text-align: right;\n",
       "    }\n",
       "</style>\n",
       "<table border=\"1\" class=\"dataframe\">\n",
       "  <thead>\n",
       "    <tr style=\"text-align: right;\">\n",
       "      <th></th>\n",
       "      <th>year_film</th>\n",
       "      <th>year_ceremony</th>\n",
       "      <th>ceremony</th>\n",
       "      <th>category</th>\n",
       "      <th>name</th>\n",
       "      <th>film</th>\n",
       "      <th>winner</th>\n",
       "    </tr>\n",
       "  </thead>\n",
       "  <tbody>\n",
       "    <tr>\n",
       "      <th>0</th>\n",
       "      <td>1927</td>\n",
       "      <td>1928</td>\n",
       "      <td>1</td>\n",
       "      <td>ACTOR</td>\n",
       "      <td>Richard Barthelmess</td>\n",
       "      <td>The Noose</td>\n",
       "      <td>False</td>\n",
       "    </tr>\n",
       "    <tr>\n",
       "      <th>1</th>\n",
       "      <td>1927</td>\n",
       "      <td>1928</td>\n",
       "      <td>1</td>\n",
       "      <td>ACTOR</td>\n",
       "      <td>Emil Jannings</td>\n",
       "      <td>The Last Command</td>\n",
       "      <td>True</td>\n",
       "    </tr>\n",
       "    <tr>\n",
       "      <th>2</th>\n",
       "      <td>1927</td>\n",
       "      <td>1928</td>\n",
       "      <td>1</td>\n",
       "      <td>ACTRESS</td>\n",
       "      <td>Louise Dresser</td>\n",
       "      <td>A Ship Comes In</td>\n",
       "      <td>False</td>\n",
       "    </tr>\n",
       "    <tr>\n",
       "      <th>3</th>\n",
       "      <td>1927</td>\n",
       "      <td>1928</td>\n",
       "      <td>1</td>\n",
       "      <td>ACTRESS</td>\n",
       "      <td>Janet Gaynor</td>\n",
       "      <td>7th Heaven</td>\n",
       "      <td>True</td>\n",
       "    </tr>\n",
       "    <tr>\n",
       "      <th>4</th>\n",
       "      <td>1927</td>\n",
       "      <td>1928</td>\n",
       "      <td>1</td>\n",
       "      <td>ACTRESS</td>\n",
       "      <td>Gloria Swanson</td>\n",
       "      <td>Sadie Thompson</td>\n",
       "      <td>False</td>\n",
       "    </tr>\n",
       "  </tbody>\n",
       "</table>\n",
       "</div>"
      ],
      "text/plain": [
       "   year_film  year_ceremony  ceremony category                 name  \\\n",
       "0       1927           1928         1    ACTOR  Richard Barthelmess   \n",
       "1       1927           1928         1    ACTOR        Emil Jannings   \n",
       "2       1927           1928         1  ACTRESS       Louise Dresser   \n",
       "3       1927           1928         1  ACTRESS         Janet Gaynor   \n",
       "4       1927           1928         1  ACTRESS       Gloria Swanson   \n",
       "\n",
       "               film  winner  \n",
       "0         The Noose   False  \n",
       "1  The Last Command    True  \n",
       "2   A Ship Comes In   False  \n",
       "3        7th Heaven    True  \n",
       "4    Sadie Thompson   False  "
      ]
     },
     "execution_count": 55,
     "metadata": {},
     "output_type": "execute_result"
    }
   ],
   "source": [
    "#Import data\n",
    "oscars_df = pd.read_csv('Data/the_oscar_award.csv')\n",
    "\n",
    "#Preview table\n",
    "oscars_df.head()"
   ]
  },
  {
   "cell_type": "code",
   "execution_count": 56,
   "metadata": {},
   "outputs": [
    {
     "name": "stdout",
     "output_type": "stream",
     "text": [
      "<class 'pandas.core.frame.DataFrame'>\n",
      "RangeIndex: 10765 entries, 0 to 10764\n",
      "Data columns (total 7 columns):\n",
      " #   Column         Non-Null Count  Dtype \n",
      "---  ------         --------------  ----- \n",
      " 0   year_film      10765 non-null  int64 \n",
      " 1   year_ceremony  10765 non-null  int64 \n",
      " 2   ceremony       10765 non-null  int64 \n",
      " 3   category       10765 non-null  object\n",
      " 4   name           10761 non-null  object\n",
      " 5   film           10450 non-null  object\n",
      " 6   winner         10765 non-null  bool  \n",
      "dtypes: bool(1), int64(3), object(3)\n",
      "memory usage: 515.2+ KB\n"
     ]
    }
   ],
   "source": [
    "#Review data structure \n",
    "oscars_df.info()"
   ]
  },
  {
   "cell_type": "markdown",
   "metadata": {},
   "source": [
    "The simplest way to use this data will be to use the film name and aggregate the number of awards. We can combine this data with the tables above to determine which films and directors have been recognized - as in nominated - by the Academy."
   ]
  },
  {
   "cell_type": "markdown",
   "metadata": {},
   "source": [
    "## Data Preparation"
   ]
  },
  {
   "cell_type": "markdown",
   "metadata": {},
   "source": [
    "Now that we have a good understanding of our data, the next step is to clean the datasets and engineer some features."
   ]
  },
  {
   "cell_type": "markdown",
   "metadata": {},
   "source": [
    "### IMDB"
   ]
  },
  {
   "cell_type": "markdown",
   "metadata": {},
   "source": [
    "#### Feature Engineering"
   ]
  },
  {
   "cell_type": "markdown",
   "metadata": {},
   "source": [
    "For the IMDB dataset, I will need the film name, release year, director. The following filters and features are also addressed in the query below:\n",
    "- Filter films made before 2010 or after 2019 to stay consistent with other datasets.\n",
    "- Remove any foreign language films by using a sub-query that ensures films in this list are from the US region and that the language is English. \n",
    "- Create a column based on the director's 'death_year', which will be tastefully called 'current'. This information will let us know if the director is currently alive, which will help me narrow down the list of available directors for future Microsoft projects. \n",
    "- Create a column called 'm_id', which will help me identify movies more accurately based on their title and release date. Some movies share the same name, but it is rare that movies of the same name are released in the same year. This feature will be useful when combining datasets. \n",
    "\n",
    "Since the feature engineering will be done as part of the query, the data cleaning will come after. For the other datasets, this process will be inverted. "
   ]
  },
  {
   "cell_type": "code",
   "execution_count": 57,
   "metadata": {},
   "outputs": [
    {
     "data": {
      "text/html": [
       "<div>\n",
       "<style scoped>\n",
       "    .dataframe tbody tr th:only-of-type {\n",
       "        vertical-align: middle;\n",
       "    }\n",
       "\n",
       "    .dataframe tbody tr th {\n",
       "        vertical-align: top;\n",
       "    }\n",
       "\n",
       "    .dataframe thead th {\n",
       "        text-align: right;\n",
       "    }\n",
       "</style>\n",
       "<table border=\"1\" class=\"dataframe\">\n",
       "  <thead>\n",
       "    <tr style=\"text-align: right;\">\n",
       "      <th></th>\n",
       "      <th>movie</th>\n",
       "      <th>release_year</th>\n",
       "      <th>genres</th>\n",
       "      <th>director</th>\n",
       "      <th>m_id</th>\n",
       "      <th>current</th>\n",
       "    </tr>\n",
       "  </thead>\n",
       "  <tbody>\n",
       "    <tr>\n",
       "      <th>0</th>\n",
       "      <td>The Other Side of the Wind</td>\n",
       "      <td>2018</td>\n",
       "      <td>Drama</td>\n",
       "      <td>Orson Welles</td>\n",
       "      <td>The Other Side of the Wind2018</td>\n",
       "      <td>0</td>\n",
       "    </tr>\n",
       "    <tr>\n",
       "      <th>1</th>\n",
       "      <td>The Other Side of the Wind</td>\n",
       "      <td>2018</td>\n",
       "      <td>Drama</td>\n",
       "      <td>Orson Welles</td>\n",
       "      <td>The Other Side of the Wind2018</td>\n",
       "      <td>0</td>\n",
       "    </tr>\n",
       "    <tr>\n",
       "      <th>2</th>\n",
       "      <td>Bigfoot</td>\n",
       "      <td>2017</td>\n",
       "      <td>Horror,Thriller</td>\n",
       "      <td>Mc Jones</td>\n",
       "      <td>Bigfoot2017</td>\n",
       "      <td>1</td>\n",
       "    </tr>\n",
       "    <tr>\n",
       "      <th>3</th>\n",
       "      <td>Cooper and Hemingway: The True Gen</td>\n",
       "      <td>2013</td>\n",
       "      <td>Documentary</td>\n",
       "      <td>John Mulholland</td>\n",
       "      <td>Cooper and Hemingway: The True Gen2013</td>\n",
       "      <td>1</td>\n",
       "    </tr>\n",
       "    <tr>\n",
       "      <th>4</th>\n",
       "      <td>Heaven &amp; Hell</td>\n",
       "      <td>2018</td>\n",
       "      <td>Drama</td>\n",
       "      <td>Stuart Paul</td>\n",
       "      <td>Heaven &amp; Hell2018</td>\n",
       "      <td>1</td>\n",
       "    </tr>\n",
       "  </tbody>\n",
       "</table>\n",
       "</div>"
      ],
      "text/plain": [
       "                                movie  release_year           genres  \\\n",
       "0          The Other Side of the Wind          2018            Drama   \n",
       "1          The Other Side of the Wind          2018            Drama   \n",
       "2                             Bigfoot          2017  Horror,Thriller   \n",
       "3  Cooper and Hemingway: The True Gen          2013      Documentary   \n",
       "4                       Heaven & Hell          2018            Drama   \n",
       "\n",
       "          director                                    m_id  current  \n",
       "0     Orson Welles          The Other Side of the Wind2018        0  \n",
       "1     Orson Welles          The Other Side of the Wind2018        0  \n",
       "2         Mc Jones                             Bigfoot2017        1  \n",
       "3  John Mulholland  Cooper and Hemingway: The True Gen2013        1  \n",
       "4      Stuart Paul                       Heaven & Hell2018        1  "
      ]
     },
     "execution_count": 57,
     "metadata": {},
     "output_type": "execute_result"
    }
   ],
   "source": [
    "#Query relevant tables and preview data\n",
    "movies_data = pd.read_sql(\n",
    "\"\"\"\n",
    "SELECT primary_title AS movie, \n",
    "       start_year AS release_year, \n",
    "       genres,\n",
    "       primary_name AS director,\n",
    "       primary_title || start_year AS m_id,\n",
    "       CASE\n",
    "           WHEN death_year IS NULL THEN 1\n",
    "           ELSE 0\n",
    "        END AS current\n",
    "  FROM movie_basics\n",
    "      JOIN directors \n",
    "           USING(movie_id)\n",
    "      JOIN persons\n",
    "           USING(person_id)\n",
    "  WHERE start_year BETWEEN 2010 AND 2019\n",
    "    AND movie_id IN (SELECT movie_id\n",
    "                     FROM movie_akas\n",
    "                     WHERE region IS 'US'\n",
    "                     AND (language = 'en' OR language IS NULL)\n",
    ");\"\"\", conn)\n",
    "\n",
    "#Preview results\n",
    "movies_data.head()"
   ]
  },
  {
   "cell_type": "code",
   "execution_count": 58,
   "metadata": {},
   "outputs": [
    {
     "name": "stdout",
     "output_type": "stream",
     "text": [
      "<class 'pandas.core.frame.DataFrame'>\n",
      "RangeIndex: 107173 entries, 0 to 107172\n",
      "Data columns (total 6 columns):\n",
      " #   Column        Non-Null Count   Dtype \n",
      "---  ------        --------------   ----- \n",
      " 0   movie         107173 non-null  object\n",
      " 1   release_year  107173 non-null  int64 \n",
      " 2   genres        106423 non-null  object\n",
      " 3   director      107173 non-null  object\n",
      " 4   m_id          107173 non-null  object\n",
      " 5   current       107173 non-null  int64 \n",
      "dtypes: int64(2), object(4)\n",
      "memory usage: 4.9+ MB\n"
     ]
    }
   ],
   "source": [
    "#Review DataFrame structure\n",
    "movies_data.info()"
   ]
  },
  {
   "cell_type": "markdown",
   "metadata": {},
   "source": [
    "#### Data Cleaning"
   ]
  },
  {
   "cell_type": "code",
   "execution_count": 59,
   "metadata": {},
   "outputs": [
    {
     "name": "stdout",
     "output_type": "stream",
     "text": [
      "52917\n"
     ]
    },
    {
     "data": {
      "text/html": [
       "<div>\n",
       "<style scoped>\n",
       "    .dataframe tbody tr th:only-of-type {\n",
       "        vertical-align: middle;\n",
       "    }\n",
       "\n",
       "    .dataframe tbody tr th {\n",
       "        vertical-align: top;\n",
       "    }\n",
       "\n",
       "    .dataframe thead th {\n",
       "        text-align: right;\n",
       "    }\n",
       "</style>\n",
       "<table border=\"1\" class=\"dataframe\">\n",
       "  <thead>\n",
       "    <tr style=\"text-align: right;\">\n",
       "      <th></th>\n",
       "      <th>movie</th>\n",
       "      <th>release_year</th>\n",
       "      <th>genres</th>\n",
       "      <th>director</th>\n",
       "      <th>m_id</th>\n",
       "      <th>current</th>\n",
       "    </tr>\n",
       "  </thead>\n",
       "  <tbody>\n",
       "    <tr>\n",
       "      <th>1</th>\n",
       "      <td>The Other Side of the Wind</td>\n",
       "      <td>2018</td>\n",
       "      <td>Drama</td>\n",
       "      <td>Orson Welles</td>\n",
       "      <td>The Other Side of the Wind2018</td>\n",
       "      <td>0</td>\n",
       "    </tr>\n",
       "    <tr>\n",
       "      <th>6</th>\n",
       "      <td>The Final Journey</td>\n",
       "      <td>2010</td>\n",
       "      <td>Drama</td>\n",
       "      <td>R.J. Adams</td>\n",
       "      <td>The Final Journey2010</td>\n",
       "      <td>0</td>\n",
       "    </tr>\n",
       "    <tr>\n",
       "      <th>7</th>\n",
       "      <td>The Final Journey</td>\n",
       "      <td>2010</td>\n",
       "      <td>Drama</td>\n",
       "      <td>R.J. Adams</td>\n",
       "      <td>The Final Journey2010</td>\n",
       "      <td>0</td>\n",
       "    </tr>\n",
       "    <tr>\n",
       "      <th>9</th>\n",
       "      <td>Foodfight!</td>\n",
       "      <td>2012</td>\n",
       "      <td>Action,Animation,Comedy</td>\n",
       "      <td>Lawrence Kasanoff</td>\n",
       "      <td>Foodfight!2012</td>\n",
       "      <td>1</td>\n",
       "    </tr>\n",
       "    <tr>\n",
       "      <th>10</th>\n",
       "      <td>Foodfight!</td>\n",
       "      <td>2012</td>\n",
       "      <td>Action,Animation,Comedy</td>\n",
       "      <td>Lawrence Kasanoff</td>\n",
       "      <td>Foodfight!2012</td>\n",
       "      <td>1</td>\n",
       "    </tr>\n",
       "  </tbody>\n",
       "</table>\n",
       "</div>"
      ],
      "text/plain": [
       "                         movie  release_year                   genres  \\\n",
       "1   The Other Side of the Wind          2018                    Drama   \n",
       "6            The Final Journey          2010                    Drama   \n",
       "7            The Final Journey          2010                    Drama   \n",
       "9                   Foodfight!          2012  Action,Animation,Comedy   \n",
       "10                  Foodfight!          2012  Action,Animation,Comedy   \n",
       "\n",
       "             director                            m_id  current  \n",
       "1        Orson Welles  The Other Side of the Wind2018        0  \n",
       "6          R.J. Adams           The Final Journey2010        0  \n",
       "7          R.J. Adams           The Final Journey2010        0  \n",
       "9   Lawrence Kasanoff                  Foodfight!2012        1  \n",
       "10  Lawrence Kasanoff                  Foodfight!2012        1  "
      ]
     },
     "execution_count": 59,
     "metadata": {},
     "output_type": "execute_result"
    }
   ],
   "source": [
    "#Check for duplicates\n",
    "duplicates = movies_data[movies_data.duplicated()]\n",
    "print(len(duplicates))\n",
    "duplicates.head()"
   ]
  },
  {
   "cell_type": "code",
   "execution_count": 60,
   "metadata": {},
   "outputs": [
    {
     "name": "stdout",
     "output_type": "stream",
     "text": [
      "Number of records: 54256\n"
     ]
    },
    {
     "data": {
      "text/html": [
       "<div>\n",
       "<style scoped>\n",
       "    .dataframe tbody tr th:only-of-type {\n",
       "        vertical-align: middle;\n",
       "    }\n",
       "\n",
       "    .dataframe tbody tr th {\n",
       "        vertical-align: top;\n",
       "    }\n",
       "\n",
       "    .dataframe thead th {\n",
       "        text-align: right;\n",
       "    }\n",
       "</style>\n",
       "<table border=\"1\" class=\"dataframe\">\n",
       "  <thead>\n",
       "    <tr style=\"text-align: right;\">\n",
       "      <th></th>\n",
       "      <th>movie</th>\n",
       "      <th>release_year</th>\n",
       "      <th>genres</th>\n",
       "      <th>director</th>\n",
       "      <th>m_id</th>\n",
       "      <th>current</th>\n",
       "    </tr>\n",
       "  </thead>\n",
       "  <tbody>\n",
       "    <tr>\n",
       "      <th>0</th>\n",
       "      <td>The Other Side of the Wind</td>\n",
       "      <td>2018</td>\n",
       "      <td>Drama</td>\n",
       "      <td>Orson Welles</td>\n",
       "      <td>The Other Side of the Wind2018</td>\n",
       "      <td>0</td>\n",
       "    </tr>\n",
       "    <tr>\n",
       "      <th>2</th>\n",
       "      <td>Bigfoot</td>\n",
       "      <td>2017</td>\n",
       "      <td>Horror,Thriller</td>\n",
       "      <td>Mc Jones</td>\n",
       "      <td>Bigfoot2017</td>\n",
       "      <td>1</td>\n",
       "    </tr>\n",
       "    <tr>\n",
       "      <th>3</th>\n",
       "      <td>Cooper and Hemingway: The True Gen</td>\n",
       "      <td>2013</td>\n",
       "      <td>Documentary</td>\n",
       "      <td>John Mulholland</td>\n",
       "      <td>Cooper and Hemingway: The True Gen2013</td>\n",
       "      <td>1</td>\n",
       "    </tr>\n",
       "    <tr>\n",
       "      <th>4</th>\n",
       "      <td>Heaven &amp; Hell</td>\n",
       "      <td>2018</td>\n",
       "      <td>Drama</td>\n",
       "      <td>Stuart Paul</td>\n",
       "      <td>Heaven &amp; Hell2018</td>\n",
       "      <td>1</td>\n",
       "    </tr>\n",
       "    <tr>\n",
       "      <th>5</th>\n",
       "      <td>The Final Journey</td>\n",
       "      <td>2010</td>\n",
       "      <td>Drama</td>\n",
       "      <td>R.J. Adams</td>\n",
       "      <td>The Final Journey2010</td>\n",
       "      <td>0</td>\n",
       "    </tr>\n",
       "  </tbody>\n",
       "</table>\n",
       "</div>"
      ],
      "text/plain": [
       "                                movie  release_year           genres  \\\n",
       "0          The Other Side of the Wind          2018            Drama   \n",
       "2                             Bigfoot          2017  Horror,Thriller   \n",
       "3  Cooper and Hemingway: The True Gen          2013      Documentary   \n",
       "4                       Heaven & Hell          2018            Drama   \n",
       "5                   The Final Journey          2010            Drama   \n",
       "\n",
       "          director                                    m_id  current  \n",
       "0     Orson Welles          The Other Side of the Wind2018        0  \n",
       "2         Mc Jones                             Bigfoot2017        1  \n",
       "3  John Mulholland  Cooper and Hemingway: The True Gen2013        1  \n",
       "4      Stuart Paul                       Heaven & Hell2018        1  \n",
       "5       R.J. Adams                   The Final Journey2010        0  "
      ]
     },
     "execution_count": 60,
     "metadata": {},
     "output_type": "execute_result"
    }
   ],
   "source": [
    "#Remove duplicates\n",
    "movies_data.drop_duplicates(inplace=True)\n",
    "\n",
    "#Check number of records\n",
    "print(f'Number of records: {len(movies_data)}')\n",
    "\n",
    "#Review results\n",
    "movies_data.head()"
   ]
  },
  {
   "cell_type": "code",
   "execution_count": 61,
   "metadata": {},
   "outputs": [
    {
     "name": "stdout",
     "output_type": "stream",
     "text": [
      "movie \n",
      " World of Death               0.00\n",
      "Venice 70: Future Reloaded   0.00\n",
      "Our RoboCop Remake           0.00\n",
      "Our Footloose Remake         0.00\n",
      "Grindsploitation             0.00\n",
      "Name: movie, dtype: float64 \n",
      "\n",
      "release_year \n",
      " 2016   0.13\n",
      "2014   0.12\n",
      "2013   0.12\n",
      "2015   0.12\n",
      "2017   0.11\n",
      "Name: release_year, dtype: float64 \n",
      "\n",
      "genres \n",
      " Documentary    0.17\n",
      "Drama          0.11\n",
      "Comedy         0.06\n",
      "Horror         0.05\n",
      "Comedy,Drama   0.03\n",
      "Name: genres, dtype: float64 \n",
      "\n",
      "director \n",
      " Larry Rosen       0.00\n",
      "Charlie Minn      0.00\n",
      "Philip Gardiner   0.00\n",
      "Dustin Ferguson   0.00\n",
      "James Franco      0.00\n",
      "Name: director, dtype: float64 \n",
      "\n",
      "m_id \n",
      " World of Death2016               0.00\n",
      "Venice 70: Future Reloaded2013   0.00\n",
      "Our RoboCop Remake2014           0.00\n",
      "Our Footloose Remake2011         0.00\n",
      "Grindsploitation2016             0.00\n",
      "Name: m_id, dtype: float64 \n",
      "\n",
      "current \n",
      " 1   1.00\n",
      "0   0.00\n",
      "Name: current, dtype: float64 \n",
      "\n"
     ]
    }
   ],
   "source": [
    "#Check for extraneous values\n",
    "for col in movies_data.columns:\n",
    "    print(col, '\\n', movies_data[col].value_counts(normalize=True).head(), '\\n')"
   ]
  },
  {
   "cell_type": "markdown",
   "metadata": {},
   "source": [
    "Last but not least, I will remove the id column since it is not being used."
   ]
  },
  {
   "cell_type": "code",
   "execution_count": 62,
   "metadata": {},
   "outputs": [
    {
     "name": "stdout",
     "output_type": "stream",
     "text": [
      " This table has 54256 entries. Each entry represents a film, its release date, and director.\n"
     ]
    }
   ],
   "source": [
    "#Print results from data cleaning\n",
    "print(f\" This table has {len(movies_data)} entries. \\\n",
    "Each entry represents a film, its release date, and director.\")"
   ]
  },
  {
   "cell_type": "markdown",
   "metadata": {},
   "source": [
    "### The Numbers"
   ]
  },
  {
   "cell_type": "markdown",
   "metadata": {},
   "source": [
    "Next step is to clean and create features for the numbers dataset. From here, we want to find net profits and ROI. In addition to that, each film will be categorized by the size of their budget. "
   ]
  },
  {
   "cell_type": "markdown",
   "metadata": {},
   "source": [
    "#### Data Cleaning"
   ]
  },
  {
   "cell_type": "code",
   "execution_count": 63,
   "metadata": {},
   "outputs": [
    {
     "name": "stdout",
     "output_type": "stream",
     "text": [
      "0\n"
     ]
    }
   ],
   "source": [
    "#Check for duplicates\n",
    "duplicates = numbers_df[numbers_df.duplicated()]\n",
    "print(len(duplicates))"
   ]
  },
  {
   "cell_type": "markdown",
   "metadata": {},
   "source": [
    "No duplicates, so no need to drop rows. "
   ]
  },
  {
   "cell_type": "code",
   "execution_count": 64,
   "metadata": {},
   "outputs": [
    {
     "name": "stdout",
     "output_type": "stream",
     "text": [
      "id \n",
      " 4    0.01\n",
      "53   0.01\n",
      "61   0.01\n",
      "65   0.01\n",
      "69   0.01\n",
      "Name: id, dtype: float64 \n",
      "\n",
      "\n",
      "release_date \n",
      " Dec 31, 2014   0.00\n",
      "Dec 31, 2015   0.00\n",
      "Dec 31, 2010   0.00\n",
      "Dec 31, 2008   0.00\n",
      "Dec 31, 2013   0.00\n",
      "Name: release_date, dtype: float64 \n",
      "\n",
      "\n",
      "movie \n",
      " Halloween               0.00\n",
      "King Kong               0.00\n",
      "Home                    0.00\n",
      "Fantastic Four          0.00\n",
      "The Birth of a Nation   0.00\n",
      "Name: movie, dtype: float64 \n",
      "\n",
      "\n",
      "production_budget \n",
      " $20,000,000   0.04\n",
      "$10,000,000   0.04\n",
      "$30,000,000   0.03\n",
      "$15,000,000   0.03\n",
      "$25,000,000   0.03\n",
      "Name: production_budget, dtype: float64 \n",
      "\n",
      "\n",
      "domestic_gross \n",
      " $0            0.09\n",
      "$8,000,000    0.00\n",
      "$2,000,000    0.00\n",
      "$7,000,000    0.00\n",
      "$10,000,000   0.00\n",
      "Name: domestic_gross, dtype: float64 \n",
      "\n",
      "\n",
      "worldwide_gross \n",
      " $0           0.06\n",
      "$8,000,000   0.00\n",
      "$7,000,000   0.00\n",
      "$2,000,000   0.00\n",
      "$9,000,000   0.00\n",
      "Name: worldwide_gross, dtype: float64 \n",
      "\n",
      "\n"
     ]
    }
   ],
   "source": [
    "#Check for extraneous values\n",
    "for col in numbers_df.columns:\n",
    "    print(col, '\\n', numbers_df[col].value_counts(normalize=True).head(), '\\n\\n')"
   ]
  },
  {
   "cell_type": "markdown",
   "metadata": {},
   "source": [
    "Unfortunately, this dataset contains some movies that do not have reported worldwide gross numbers. These will be dropped since we are interested only in films that have global reach. However, all of the numbers are stored as strings. will convert the columns to their appropriate data type. "
   ]
  },
  {
   "cell_type": "code",
   "execution_count": 65,
   "metadata": {},
   "outputs": [
    {
     "data": {
      "text/html": [
       "<div>\n",
       "<style scoped>\n",
       "    .dataframe tbody tr th:only-of-type {\n",
       "        vertical-align: middle;\n",
       "    }\n",
       "\n",
       "    .dataframe tbody tr th {\n",
       "        vertical-align: top;\n",
       "    }\n",
       "\n",
       "    .dataframe thead th {\n",
       "        text-align: right;\n",
       "    }\n",
       "</style>\n",
       "<table border=\"1\" class=\"dataframe\">\n",
       "  <thead>\n",
       "    <tr style=\"text-align: right;\">\n",
       "      <th></th>\n",
       "      <th>id</th>\n",
       "      <th>release_date</th>\n",
       "      <th>movie</th>\n",
       "      <th>production_budget</th>\n",
       "      <th>domestic_gross</th>\n",
       "      <th>worldwide_gross</th>\n",
       "    </tr>\n",
       "  </thead>\n",
       "  <tbody>\n",
       "    <tr>\n",
       "      <th>1</th>\n",
       "      <td>2</td>\n",
       "      <td>2011-05-20</td>\n",
       "      <td>Pirates of the Caribbean: On Stranger Tides</td>\n",
       "      <td>$410,600,000</td>\n",
       "      <td>$241,063,875</td>\n",
       "      <td>$1,045,663,875</td>\n",
       "    </tr>\n",
       "    <tr>\n",
       "      <th>2</th>\n",
       "      <td>3</td>\n",
       "      <td>2019-06-07</td>\n",
       "      <td>Dark Phoenix</td>\n",
       "      <td>$350,000,000</td>\n",
       "      <td>$42,762,350</td>\n",
       "      <td>$149,762,350</td>\n",
       "    </tr>\n",
       "    <tr>\n",
       "      <th>3</th>\n",
       "      <td>4</td>\n",
       "      <td>2015-05-01</td>\n",
       "      <td>Avengers: Age of Ultron</td>\n",
       "      <td>$330,600,000</td>\n",
       "      <td>$459,005,868</td>\n",
       "      <td>$1,403,013,963</td>\n",
       "    </tr>\n",
       "    <tr>\n",
       "      <th>4</th>\n",
       "      <td>5</td>\n",
       "      <td>2017-12-15</td>\n",
       "      <td>Star Wars Ep. VIII: The Last Jedi</td>\n",
       "      <td>$317,000,000</td>\n",
       "      <td>$620,181,382</td>\n",
       "      <td>$1,316,721,747</td>\n",
       "    </tr>\n",
       "    <tr>\n",
       "      <th>5</th>\n",
       "      <td>6</td>\n",
       "      <td>2015-12-18</td>\n",
       "      <td>Star Wars Ep. VII: The Force Awakens</td>\n",
       "      <td>$306,000,000</td>\n",
       "      <td>$936,662,225</td>\n",
       "      <td>$2,053,311,220</td>\n",
       "    </tr>\n",
       "  </tbody>\n",
       "</table>\n",
       "</div>"
      ],
      "text/plain": [
       "   id release_date                                        movie  \\\n",
       "1   2   2011-05-20  Pirates of the Caribbean: On Stranger Tides   \n",
       "2   3   2019-06-07                                 Dark Phoenix   \n",
       "3   4   2015-05-01                      Avengers: Age of Ultron   \n",
       "4   5   2017-12-15            Star Wars Ep. VIII: The Last Jedi   \n",
       "5   6   2015-12-18         Star Wars Ep. VII: The Force Awakens   \n",
       "\n",
       "  production_budget domestic_gross worldwide_gross  \n",
       "1      $410,600,000   $241,063,875  $1,045,663,875  \n",
       "2      $350,000,000    $42,762,350    $149,762,350  \n",
       "3      $330,600,000   $459,005,868  $1,403,013,963  \n",
       "4      $317,000,000   $620,181,382  $1,316,721,747  \n",
       "5      $306,000,000   $936,662,225  $2,053,311,220  "
      ]
     },
     "execution_count": 65,
     "metadata": {},
     "output_type": "execute_result"
    }
   ],
   "source": [
    "#Converting release_date column to datetime object\n",
    "numbers_df['release_date'] = pd.to_datetime(numbers_df['release_date'])\n",
    "\n",
    "#Filter results to movies released after 1969 - start of the New Hollywood Era \n",
    "numbers_df = numbers_df.loc[numbers_df['release_date'] >= '2010']\n",
    "\n",
    "\n",
    "#Review results\n",
    "numbers_df.head()"
   ]
  },
  {
   "cell_type": "code",
   "execution_count": 66,
   "metadata": {},
   "outputs": [
    {
     "data": {
      "text/html": [
       "<div>\n",
       "<style scoped>\n",
       "    .dataframe tbody tr th:only-of-type {\n",
       "        vertical-align: middle;\n",
       "    }\n",
       "\n",
       "    .dataframe tbody tr th {\n",
       "        vertical-align: top;\n",
       "    }\n",
       "\n",
       "    .dataframe thead th {\n",
       "        text-align: right;\n",
       "    }\n",
       "</style>\n",
       "<table border=\"1\" class=\"dataframe\">\n",
       "  <thead>\n",
       "    <tr style=\"text-align: right;\">\n",
       "      <th></th>\n",
       "      <th>id</th>\n",
       "      <th>release_date</th>\n",
       "      <th>movie</th>\n",
       "      <th>production_budget</th>\n",
       "      <th>domestic_gross</th>\n",
       "      <th>worldwide_gross</th>\n",
       "    </tr>\n",
       "  </thead>\n",
       "  <tbody>\n",
       "    <tr>\n",
       "      <th>1</th>\n",
       "      <td>2</td>\n",
       "      <td>2011-05-20</td>\n",
       "      <td>Pirates of the Caribbean: On Stranger Tides</td>\n",
       "      <td>410600000</td>\n",
       "      <td>241063875</td>\n",
       "      <td>1045663875</td>\n",
       "    </tr>\n",
       "    <tr>\n",
       "      <th>2</th>\n",
       "      <td>3</td>\n",
       "      <td>2019-06-07</td>\n",
       "      <td>Dark Phoenix</td>\n",
       "      <td>350000000</td>\n",
       "      <td>42762350</td>\n",
       "      <td>149762350</td>\n",
       "    </tr>\n",
       "    <tr>\n",
       "      <th>3</th>\n",
       "      <td>4</td>\n",
       "      <td>2015-05-01</td>\n",
       "      <td>Avengers: Age of Ultron</td>\n",
       "      <td>330600000</td>\n",
       "      <td>459005868</td>\n",
       "      <td>1403013963</td>\n",
       "    </tr>\n",
       "    <tr>\n",
       "      <th>4</th>\n",
       "      <td>5</td>\n",
       "      <td>2017-12-15</td>\n",
       "      <td>Star Wars Ep. VIII: The Last Jedi</td>\n",
       "      <td>317000000</td>\n",
       "      <td>620181382</td>\n",
       "      <td>1316721747</td>\n",
       "    </tr>\n",
       "    <tr>\n",
       "      <th>5</th>\n",
       "      <td>6</td>\n",
       "      <td>2015-12-18</td>\n",
       "      <td>Star Wars Ep. VII: The Force Awakens</td>\n",
       "      <td>306000000</td>\n",
       "      <td>936662225</td>\n",
       "      <td>2053311220</td>\n",
       "    </tr>\n",
       "  </tbody>\n",
       "</table>\n",
       "</div>"
      ],
      "text/plain": [
       "   id release_date                                        movie  \\\n",
       "1   2   2011-05-20  Pirates of the Caribbean: On Stranger Tides   \n",
       "2   3   2019-06-07                                 Dark Phoenix   \n",
       "3   4   2015-05-01                      Avengers: Age of Ultron   \n",
       "4   5   2017-12-15            Star Wars Ep. VIII: The Last Jedi   \n",
       "5   6   2015-12-18         Star Wars Ep. VII: The Force Awakens   \n",
       "\n",
       "  production_budget domestic_gross worldwide_gross  \n",
       "1         410600000      241063875      1045663875  \n",
       "2         350000000       42762350       149762350  \n",
       "3         330600000      459005868      1403013963  \n",
       "4         317000000      620181382      1316721747  \n",
       "5         306000000      936662225      2053311220  "
      ]
     },
     "execution_count": 66,
     "metadata": {},
     "output_type": "execute_result"
    }
   ],
   "source": [
    "#Convert 'production_budget', 'domestic_gross', 'worldwide_gross' to integers\n",
    "\n",
    "#Remove extra symbols from strings\n",
    "cols = ['production_budget', 'domestic_gross', 'worldwide_gross']\n",
    "\n",
    "for col in cols:\n",
    "    numbers_df[col] = numbers_df[col].str.replace('$','').str.replace(',','')\n",
    "numbers_df.head()"
   ]
  },
  {
   "cell_type": "code",
   "execution_count": 67,
   "metadata": {},
   "outputs": [
    {
     "name": "stdout",
     "output_type": "stream",
     "text": [
      "<class 'pandas.core.frame.DataFrame'>\n",
      "Int64Index: 2194 entries, 1 to 5780\n",
      "Data columns (total 6 columns):\n",
      " #   Column             Non-Null Count  Dtype         \n",
      "---  ------             --------------  -----         \n",
      " 0   id                 2194 non-null   int64         \n",
      " 1   release_date       2194 non-null   datetime64[ns]\n",
      " 2   movie              2194 non-null   object        \n",
      " 3   production_budget  2194 non-null   int64         \n",
      " 4   domestic_gross     2194 non-null   int64         \n",
      " 5   worldwide_gross    2194 non-null   int64         \n",
      "dtypes: datetime64[ns](1), int64(4), object(1)\n",
      "memory usage: 120.0+ KB\n"
     ]
    }
   ],
   "source": [
    "#Convert columns to integers\n",
    "cols = ['production_budget', 'domestic_gross', 'worldwide_gross']\n",
    "numbers_df[cols] = numbers_df[cols].apply(pd.to_numeric, axis=1)\n",
    "\n",
    "#Review results\n",
    "numbers_df.info()"
   ]
  },
  {
   "cell_type": "code",
   "execution_count": 68,
   "metadata": {},
   "outputs": [
    {
     "name": "stdout",
     "output_type": "stream",
     "text": [
      " This table has 1922 entries. Each entry represents a film and its respective financial data.\n"
     ]
    }
   ],
   "source": [
    "#Drop rows where worldwide_gross is 0. \n",
    "numbers_df = numbers_df.loc[numbers_df['worldwide_gross'] > 0]\n",
    "\n",
    "#Drop id row since Pandas created a new index for this table\n",
    "numbers_df.drop(['id'], axis = 1, inplace=True)\n",
    "\n",
    "#Print results from data cleaning\n",
    "print(f\" This table has {len(numbers_df)} entries. \\\n",
    "Each entry represents a film and its respective financial data.\")"
   ]
  },
  {
   "cell_type": "markdown",
   "metadata": {},
   "source": [
    "#### Feature Engineering"
   ]
  },
  {
   "cell_type": "markdown",
   "metadata": {},
   "source": [
    "Now that the data is clean, we can create the 'ROI' (Return on Investment) column with the following formula:"
   ]
  },
  {
   "cell_type": "markdown",
   "metadata": {},
   "source": [
    "$$\n",
    "ROI = \\frac{Net Profit}{Production Budget} * 100\n",
    "$$"
   ]
  },
  {
   "cell_type": "code",
   "execution_count": 69,
   "metadata": {},
   "outputs": [
    {
     "data": {
      "text/html": [
       "<div>\n",
       "<style scoped>\n",
       "    .dataframe tbody tr th:only-of-type {\n",
       "        vertical-align: middle;\n",
       "    }\n",
       "\n",
       "    .dataframe tbody tr th {\n",
       "        vertical-align: top;\n",
       "    }\n",
       "\n",
       "    .dataframe thead th {\n",
       "        text-align: right;\n",
       "    }\n",
       "</style>\n",
       "<table border=\"1\" class=\"dataframe\">\n",
       "  <thead>\n",
       "    <tr style=\"text-align: right;\">\n",
       "      <th></th>\n",
       "      <th>release_date</th>\n",
       "      <th>movie</th>\n",
       "      <th>production_budget</th>\n",
       "      <th>domestic_gross</th>\n",
       "      <th>worldwide_gross</th>\n",
       "      <th>net_profit</th>\n",
       "      <th>ROI</th>\n",
       "    </tr>\n",
       "  </thead>\n",
       "  <tbody>\n",
       "    <tr>\n",
       "      <th>1</th>\n",
       "      <td>2011-05-20</td>\n",
       "      <td>Pirates of the Caribbean: On Stranger Tides</td>\n",
       "      <td>410600000</td>\n",
       "      <td>241063875</td>\n",
       "      <td>1045663875</td>\n",
       "      <td>635064000</td>\n",
       "      <td>150.00</td>\n",
       "    </tr>\n",
       "    <tr>\n",
       "      <th>2</th>\n",
       "      <td>2019-06-07</td>\n",
       "      <td>Dark Phoenix</td>\n",
       "      <td>350000000</td>\n",
       "      <td>42762350</td>\n",
       "      <td>149762350</td>\n",
       "      <td>-200238000</td>\n",
       "      <td>-60.00</td>\n",
       "    </tr>\n",
       "    <tr>\n",
       "      <th>3</th>\n",
       "      <td>2015-05-01</td>\n",
       "      <td>Avengers: Age of Ultron</td>\n",
       "      <td>330600000</td>\n",
       "      <td>459005868</td>\n",
       "      <td>1403013963</td>\n",
       "      <td>1072414000</td>\n",
       "      <td>320.00</td>\n",
       "    </tr>\n",
       "    <tr>\n",
       "      <th>4</th>\n",
       "      <td>2017-12-15</td>\n",
       "      <td>Star Wars Ep. VIII: The Last Jedi</td>\n",
       "      <td>317000000</td>\n",
       "      <td>620181382</td>\n",
       "      <td>1316721747</td>\n",
       "      <td>999722000</td>\n",
       "      <td>320.00</td>\n",
       "    </tr>\n",
       "    <tr>\n",
       "      <th>5</th>\n",
       "      <td>2015-12-18</td>\n",
       "      <td>Star Wars Ep. VII: The Force Awakens</td>\n",
       "      <td>306000000</td>\n",
       "      <td>936662225</td>\n",
       "      <td>2053311220</td>\n",
       "      <td>1747311000</td>\n",
       "      <td>570.00</td>\n",
       "    </tr>\n",
       "  </tbody>\n",
       "</table>\n",
       "</div>"
      ],
      "text/plain": [
       "  release_date                                        movie  \\\n",
       "1   2011-05-20  Pirates of the Caribbean: On Stranger Tides   \n",
       "2   2019-06-07                                 Dark Phoenix   \n",
       "3   2015-05-01                      Avengers: Age of Ultron   \n",
       "4   2017-12-15            Star Wars Ep. VIII: The Last Jedi   \n",
       "5   2015-12-18         Star Wars Ep. VII: The Force Awakens   \n",
       "\n",
       "   production_budget  domestic_gross  worldwide_gross  net_profit    ROI  \n",
       "1          410600000       241063875       1045663875   635064000 150.00  \n",
       "2          350000000        42762350        149762350  -200238000 -60.00  \n",
       "3          330600000       459005868       1403013963  1072414000 320.00  \n",
       "4          317000000       620181382       1316721747   999722000 320.00  \n",
       "5          306000000       936662225       2053311220  1747311000 570.00  "
      ]
     },
     "execution_count": 69,
     "metadata": {},
     "output_type": "execute_result"
    }
   ],
   "source": [
    "#Add Net Profit Column\n",
    "numbers_df['net_profit'] = (numbers_df['worldwide_gross'] - numbers_df['production_budget']).round(-3)\n",
    "\n",
    "#Add ROI Column\n",
    "numbers_df['ROI'] = (numbers_df['net_profit'] / numbers_df['production_budget'] * 100).round(-1)\n",
    "\n",
    "#Check results\n",
    "numbers_df.head()"
   ]
  },
  {
   "cell_type": "markdown",
   "metadata": {},
   "source": [
    "Next, I will categorize the production budget into three different types:\n",
    "- **Low Budget:** Less than **\\\\$5 million**\n",
    "- **Mid Budget:** Between **\\\\$5 million and $50 million**\n",
    "- **High Budget:** Greater than **\\\\$50 million**"
   ]
  },
  {
   "cell_type": "code",
   "execution_count": 70,
   "metadata": {},
   "outputs": [],
   "source": [
    "#Budget categorization - first, define function\n",
    "\n",
    "def budget_ranking(budget):\n",
    "    if budget < 500000:\n",
    "        return \"low\"\n",
    "    elif budget > 50000000:\n",
    "        return \"high\"\n",
    "    else:\n",
    "        return \"mid\""
   ]
  },
  {
   "cell_type": "code",
   "execution_count": 71,
   "metadata": {},
   "outputs": [
    {
     "data": {
      "text/html": [
       "<div>\n",
       "<style scoped>\n",
       "    .dataframe tbody tr th:only-of-type {\n",
       "        vertical-align: middle;\n",
       "    }\n",
       "\n",
       "    .dataframe tbody tr th {\n",
       "        vertical-align: top;\n",
       "    }\n",
       "\n",
       "    .dataframe thead th {\n",
       "        text-align: right;\n",
       "    }\n",
       "</style>\n",
       "<table border=\"1\" class=\"dataframe\">\n",
       "  <thead>\n",
       "    <tr style=\"text-align: right;\">\n",
       "      <th></th>\n",
       "      <th>release_date</th>\n",
       "      <th>movie</th>\n",
       "      <th>production_budget</th>\n",
       "      <th>domestic_gross</th>\n",
       "      <th>worldwide_gross</th>\n",
       "      <th>net_profit</th>\n",
       "      <th>ROI</th>\n",
       "      <th>budget_level</th>\n",
       "    </tr>\n",
       "  </thead>\n",
       "  <tbody>\n",
       "    <tr>\n",
       "      <th>1</th>\n",
       "      <td>2011-05-20</td>\n",
       "      <td>Pirates of the Caribbean: On Stranger Tides</td>\n",
       "      <td>410600000</td>\n",
       "      <td>241063875</td>\n",
       "      <td>1045663875</td>\n",
       "      <td>635064000</td>\n",
       "      <td>150.00</td>\n",
       "      <td>high</td>\n",
       "    </tr>\n",
       "    <tr>\n",
       "      <th>2</th>\n",
       "      <td>2019-06-07</td>\n",
       "      <td>Dark Phoenix</td>\n",
       "      <td>350000000</td>\n",
       "      <td>42762350</td>\n",
       "      <td>149762350</td>\n",
       "      <td>-200238000</td>\n",
       "      <td>-60.00</td>\n",
       "      <td>high</td>\n",
       "    </tr>\n",
       "    <tr>\n",
       "      <th>3</th>\n",
       "      <td>2015-05-01</td>\n",
       "      <td>Avengers: Age of Ultron</td>\n",
       "      <td>330600000</td>\n",
       "      <td>459005868</td>\n",
       "      <td>1403013963</td>\n",
       "      <td>1072414000</td>\n",
       "      <td>320.00</td>\n",
       "      <td>high</td>\n",
       "    </tr>\n",
       "    <tr>\n",
       "      <th>4</th>\n",
       "      <td>2017-12-15</td>\n",
       "      <td>Star Wars Ep. VIII: The Last Jedi</td>\n",
       "      <td>317000000</td>\n",
       "      <td>620181382</td>\n",
       "      <td>1316721747</td>\n",
       "      <td>999722000</td>\n",
       "      <td>320.00</td>\n",
       "      <td>high</td>\n",
       "    </tr>\n",
       "    <tr>\n",
       "      <th>5</th>\n",
       "      <td>2015-12-18</td>\n",
       "      <td>Star Wars Ep. VII: The Force Awakens</td>\n",
       "      <td>306000000</td>\n",
       "      <td>936662225</td>\n",
       "      <td>2053311220</td>\n",
       "      <td>1747311000</td>\n",
       "      <td>570.00</td>\n",
       "      <td>high</td>\n",
       "    </tr>\n",
       "  </tbody>\n",
       "</table>\n",
       "</div>"
      ],
      "text/plain": [
       "  release_date                                        movie  \\\n",
       "1   2011-05-20  Pirates of the Caribbean: On Stranger Tides   \n",
       "2   2019-06-07                                 Dark Phoenix   \n",
       "3   2015-05-01                      Avengers: Age of Ultron   \n",
       "4   2017-12-15            Star Wars Ep. VIII: The Last Jedi   \n",
       "5   2015-12-18         Star Wars Ep. VII: The Force Awakens   \n",
       "\n",
       "   production_budget  domestic_gross  worldwide_gross  net_profit    ROI  \\\n",
       "1          410600000       241063875       1045663875   635064000 150.00   \n",
       "2          350000000        42762350        149762350  -200238000 -60.00   \n",
       "3          330600000       459005868       1403013963  1072414000 320.00   \n",
       "4          317000000       620181382       1316721747   999722000 320.00   \n",
       "5          306000000       936662225       2053311220  1747311000 570.00   \n",
       "\n",
       "  budget_level  \n",
       "1         high  \n",
       "2         high  \n",
       "3         high  \n",
       "4         high  \n",
       "5         high  "
      ]
     },
     "execution_count": 71,
     "metadata": {},
     "output_type": "execute_result"
    }
   ],
   "source": [
    "#Create new column and apply function\n",
    "numbers_df['budget_level'] = numbers_df['production_budget'].apply(budget_ranking)\n",
    "numbers_df.head() #Check results"
   ]
  },
  {
   "cell_type": "markdown",
   "metadata": {},
   "source": [
    "Now that the budgets, profits, and ROI columns are sorted, I will fix the date columns. "
   ]
  },
  {
   "cell_type": "code",
   "execution_count": 72,
   "metadata": {},
   "outputs": [
    {
     "data": {
      "text/html": [
       "<div>\n",
       "<style scoped>\n",
       "    .dataframe tbody tr th:only-of-type {\n",
       "        vertical-align: middle;\n",
       "    }\n",
       "\n",
       "    .dataframe tbody tr th {\n",
       "        vertical-align: top;\n",
       "    }\n",
       "\n",
       "    .dataframe thead th {\n",
       "        text-align: right;\n",
       "    }\n",
       "</style>\n",
       "<table border=\"1\" class=\"dataframe\">\n",
       "  <thead>\n",
       "    <tr style=\"text-align: right;\">\n",
       "      <th></th>\n",
       "      <th>release_date</th>\n",
       "      <th>movie</th>\n",
       "      <th>production_budget</th>\n",
       "      <th>domestic_gross</th>\n",
       "      <th>worldwide_gross</th>\n",
       "      <th>net_profit</th>\n",
       "      <th>ROI</th>\n",
       "      <th>budget_level</th>\n",
       "      <th>release_year</th>\n",
       "    </tr>\n",
       "  </thead>\n",
       "  <tbody>\n",
       "    <tr>\n",
       "      <th>1</th>\n",
       "      <td>2011-05-20</td>\n",
       "      <td>Pirates of the Caribbean: On Stranger Tides</td>\n",
       "      <td>410600000</td>\n",
       "      <td>241063875</td>\n",
       "      <td>1045663875</td>\n",
       "      <td>635064000</td>\n",
       "      <td>150.00</td>\n",
       "      <td>high</td>\n",
       "      <td>2011</td>\n",
       "    </tr>\n",
       "    <tr>\n",
       "      <th>2</th>\n",
       "      <td>2019-06-07</td>\n",
       "      <td>Dark Phoenix</td>\n",
       "      <td>350000000</td>\n",
       "      <td>42762350</td>\n",
       "      <td>149762350</td>\n",
       "      <td>-200238000</td>\n",
       "      <td>-60.00</td>\n",
       "      <td>high</td>\n",
       "      <td>2019</td>\n",
       "    </tr>\n",
       "    <tr>\n",
       "      <th>3</th>\n",
       "      <td>2015-05-01</td>\n",
       "      <td>Avengers: Age of Ultron</td>\n",
       "      <td>330600000</td>\n",
       "      <td>459005868</td>\n",
       "      <td>1403013963</td>\n",
       "      <td>1072414000</td>\n",
       "      <td>320.00</td>\n",
       "      <td>high</td>\n",
       "      <td>2015</td>\n",
       "    </tr>\n",
       "    <tr>\n",
       "      <th>4</th>\n",
       "      <td>2017-12-15</td>\n",
       "      <td>Star Wars Ep. VIII: The Last Jedi</td>\n",
       "      <td>317000000</td>\n",
       "      <td>620181382</td>\n",
       "      <td>1316721747</td>\n",
       "      <td>999722000</td>\n",
       "      <td>320.00</td>\n",
       "      <td>high</td>\n",
       "      <td>2017</td>\n",
       "    </tr>\n",
       "    <tr>\n",
       "      <th>5</th>\n",
       "      <td>2015-12-18</td>\n",
       "      <td>Star Wars Ep. VII: The Force Awakens</td>\n",
       "      <td>306000000</td>\n",
       "      <td>936662225</td>\n",
       "      <td>2053311220</td>\n",
       "      <td>1747311000</td>\n",
       "      <td>570.00</td>\n",
       "      <td>high</td>\n",
       "      <td>2015</td>\n",
       "    </tr>\n",
       "  </tbody>\n",
       "</table>\n",
       "</div>"
      ],
      "text/plain": [
       "  release_date                                        movie  \\\n",
       "1   2011-05-20  Pirates of the Caribbean: On Stranger Tides   \n",
       "2   2019-06-07                                 Dark Phoenix   \n",
       "3   2015-05-01                      Avengers: Age of Ultron   \n",
       "4   2017-12-15            Star Wars Ep. VIII: The Last Jedi   \n",
       "5   2015-12-18         Star Wars Ep. VII: The Force Awakens   \n",
       "\n",
       "   production_budget  domestic_gross  worldwide_gross  net_profit    ROI  \\\n",
       "1          410600000       241063875       1045663875   635064000 150.00   \n",
       "2          350000000        42762350        149762350  -200238000 -60.00   \n",
       "3          330600000       459005868       1403013963  1072414000 320.00   \n",
       "4          317000000       620181382       1316721747   999722000 320.00   \n",
       "5          306000000       936662225       2053311220  1747311000 570.00   \n",
       "\n",
       "  budget_level  release_year  \n",
       "1         high          2011  \n",
       "2         high          2019  \n",
       "3         high          2015  \n",
       "4         high          2017  \n",
       "5         high          2015  "
      ]
     },
     "execution_count": 72,
     "metadata": {},
     "output_type": "execute_result"
    }
   ],
   "source": [
    "#Add new column \"Year\" as integer\n",
    "numbers_df['release_year'] = pd.DatetimeIndex(numbers_df['release_date']).year\n",
    "\n",
    "#Check results\n",
    "numbers_df.head()"
   ]
  },
  {
   "cell_type": "markdown",
   "metadata": {},
   "source": [
    "Lastly, I will create the 'm_id' column so that we can merge this dataset. "
   ]
  },
  {
   "cell_type": "code",
   "execution_count": 73,
   "metadata": {},
   "outputs": [
    {
     "data": {
      "text/html": [
       "<div>\n",
       "<style scoped>\n",
       "    .dataframe tbody tr th:only-of-type {\n",
       "        vertical-align: middle;\n",
       "    }\n",
       "\n",
       "    .dataframe tbody tr th {\n",
       "        vertical-align: top;\n",
       "    }\n",
       "\n",
       "    .dataframe thead th {\n",
       "        text-align: right;\n",
       "    }\n",
       "</style>\n",
       "<table border=\"1\" class=\"dataframe\">\n",
       "  <thead>\n",
       "    <tr style=\"text-align: right;\">\n",
       "      <th></th>\n",
       "      <th>release_date</th>\n",
       "      <th>movie</th>\n",
       "      <th>production_budget</th>\n",
       "      <th>domestic_gross</th>\n",
       "      <th>worldwide_gross</th>\n",
       "      <th>net_profit</th>\n",
       "      <th>ROI</th>\n",
       "      <th>budget_level</th>\n",
       "      <th>release_year</th>\n",
       "      <th>m_id</th>\n",
       "    </tr>\n",
       "  </thead>\n",
       "  <tbody>\n",
       "    <tr>\n",
       "      <th>1</th>\n",
       "      <td>2011-05-20</td>\n",
       "      <td>Pirates of the Caribbean: On Stranger Tides</td>\n",
       "      <td>410600000</td>\n",
       "      <td>241063875</td>\n",
       "      <td>1045663875</td>\n",
       "      <td>635064000</td>\n",
       "      <td>150.00</td>\n",
       "      <td>high</td>\n",
       "      <td>2011</td>\n",
       "      <td>Pirates of the Caribbean: On Stranger Tides2011</td>\n",
       "    </tr>\n",
       "    <tr>\n",
       "      <th>2</th>\n",
       "      <td>2019-06-07</td>\n",
       "      <td>Dark Phoenix</td>\n",
       "      <td>350000000</td>\n",
       "      <td>42762350</td>\n",
       "      <td>149762350</td>\n",
       "      <td>-200238000</td>\n",
       "      <td>-60.00</td>\n",
       "      <td>high</td>\n",
       "      <td>2019</td>\n",
       "      <td>Dark Phoenix2019</td>\n",
       "    </tr>\n",
       "    <tr>\n",
       "      <th>3</th>\n",
       "      <td>2015-05-01</td>\n",
       "      <td>Avengers: Age of Ultron</td>\n",
       "      <td>330600000</td>\n",
       "      <td>459005868</td>\n",
       "      <td>1403013963</td>\n",
       "      <td>1072414000</td>\n",
       "      <td>320.00</td>\n",
       "      <td>high</td>\n",
       "      <td>2015</td>\n",
       "      <td>Avengers: Age of Ultron2015</td>\n",
       "    </tr>\n",
       "    <tr>\n",
       "      <th>4</th>\n",
       "      <td>2017-12-15</td>\n",
       "      <td>Star Wars Ep. VIII: The Last Jedi</td>\n",
       "      <td>317000000</td>\n",
       "      <td>620181382</td>\n",
       "      <td>1316721747</td>\n",
       "      <td>999722000</td>\n",
       "      <td>320.00</td>\n",
       "      <td>high</td>\n",
       "      <td>2017</td>\n",
       "      <td>Star Wars Ep. VIII: The Last Jedi2017</td>\n",
       "    </tr>\n",
       "    <tr>\n",
       "      <th>5</th>\n",
       "      <td>2015-12-18</td>\n",
       "      <td>Star Wars Ep. VII: The Force Awakens</td>\n",
       "      <td>306000000</td>\n",
       "      <td>936662225</td>\n",
       "      <td>2053311220</td>\n",
       "      <td>1747311000</td>\n",
       "      <td>570.00</td>\n",
       "      <td>high</td>\n",
       "      <td>2015</td>\n",
       "      <td>Star Wars Ep. VII: The Force Awakens2015</td>\n",
       "    </tr>\n",
       "  </tbody>\n",
       "</table>\n",
       "</div>"
      ],
      "text/plain": [
       "  release_date                                        movie  \\\n",
       "1   2011-05-20  Pirates of the Caribbean: On Stranger Tides   \n",
       "2   2019-06-07                                 Dark Phoenix   \n",
       "3   2015-05-01                      Avengers: Age of Ultron   \n",
       "4   2017-12-15            Star Wars Ep. VIII: The Last Jedi   \n",
       "5   2015-12-18         Star Wars Ep. VII: The Force Awakens   \n",
       "\n",
       "   production_budget  domestic_gross  worldwide_gross  net_profit    ROI  \\\n",
       "1          410600000       241063875       1045663875   635064000 150.00   \n",
       "2          350000000        42762350        149762350  -200238000 -60.00   \n",
       "3          330600000       459005868       1403013963  1072414000 320.00   \n",
       "4          317000000       620181382       1316721747   999722000 320.00   \n",
       "5          306000000       936662225       2053311220  1747311000 570.00   \n",
       "\n",
       "  budget_level  release_year                                             m_id  \n",
       "1         high          2011  Pirates of the Caribbean: On Stranger Tides2011  \n",
       "2         high          2019                                 Dark Phoenix2019  \n",
       "3         high          2015                      Avengers: Age of Ultron2015  \n",
       "4         high          2017            Star Wars Ep. VIII: The Last Jedi2017  \n",
       "5         high          2015         Star Wars Ep. VII: The Force Awakens2015  "
      ]
     },
     "execution_count": 73,
     "metadata": {},
     "output_type": "execute_result"
    }
   ],
   "source": [
    "#Create new column for identifying movies based on title and year\n",
    "numbers_df['m_id'] = numbers_df['movie'] + numbers_df['release_year'].astype(str)\n",
    "\n",
    "#Check results\n",
    "numbers_df.head()"
   ]
  },
  {
   "cell_type": "code",
   "execution_count": 74,
   "metadata": {},
   "outputs": [
    {
     "name": "stdout",
     "output_type": "stream",
     "text": [
      " This table has 1922 entries. Each entry represents a film and its financial data.\n"
     ]
    }
   ],
   "source": [
    "#Print results from data cleaning\n",
    "print(f\" This table has {len(numbers_df)} entries. \\\n",
    "Each entry represents a film and its financial data.\")"
   ]
  },
  {
   "cell_type": "markdown",
   "metadata": {},
   "source": [
    "### The Academy Awards"
   ]
  },
  {
   "cell_type": "markdown",
   "metadata": {},
   "source": [
    "#### Data Cleaning"
   ]
  },
  {
   "cell_type": "markdown",
   "metadata": {},
   "source": [
    "As with the datasets above, I will be checking for duplicates and addressing null or invalid results. First, I am filtering the table to the established timeframe. "
   ]
  },
  {
   "cell_type": "code",
   "execution_count": 75,
   "metadata": {},
   "outputs": [
    {
     "name": "stdout",
     "output_type": "stream",
     "text": [
      "Min year:  2010\n",
      "Max year:  2019\n"
     ]
    }
   ],
   "source": [
    "#Filtering for films made between 1969 and 2019\n",
    "oscars_df = oscars_df.loc[(oscars_df['year_film'] >= 2010) & (oscars_df['year_film'] <= 2019)].reset_index()\n",
    "print(\"Min year: \", oscars_df['year_film'].min())\n",
    "print(\"Max year: \", oscars_df['year_film'].max())\n"
   ]
  },
  {
   "cell_type": "code",
   "execution_count": 76,
   "metadata": {},
   "outputs": [
    {
     "name": "stdout",
     "output_type": "stream",
     "text": [
      "0\n"
     ]
    }
   ],
   "source": [
    "#Check for duplicates\n",
    "duplicates = oscars_df[oscars_df.duplicated()]\n",
    "print(len(duplicates))"
   ]
  },
  {
   "cell_type": "code",
   "execution_count": 77,
   "metadata": {},
   "outputs": [
    {
     "name": "stdout",
     "output_type": "stream",
     "text": [
      "index \n",
      " 10239   0.00\n",
      "9406    0.00\n",
      "9399    0.00\n",
      "9400    0.00\n",
      "9401    0.00\n",
      "Name: index, dtype: float64 \n",
      "\n",
      "\n",
      "year_film \n",
      " 2019   0.10\n",
      "2017   0.10\n",
      "2016   0.10\n",
      "2013   0.10\n",
      "2012   0.10\n",
      "Name: year_film, dtype: float64 \n",
      "\n",
      "\n",
      "year_ceremony \n",
      " 2020   0.10\n",
      "2018   0.10\n",
      "2017   0.10\n",
      "2014   0.10\n",
      "2013   0.10\n",
      "Name: year_ceremony, dtype: float64 \n",
      "\n",
      "\n",
      "ceremony \n",
      " 92   0.10\n",
      "90   0.10\n",
      "89   0.10\n",
      "86   0.10\n",
      "85   0.10\n",
      "Name: ceremony, dtype: float64 \n",
      "\n",
      "\n",
      "category \n",
      " BEST PICTURE               0.07\n",
      "DIRECTING                  0.04\n",
      "SHORT FILM (Live Action)   0.04\n",
      "SOUND MIXING               0.04\n",
      "DOCUMENTARY (Feature)      0.04\n",
      "Name: category, dtype: float64 \n",
      "\n",
      "\n",
      "name \n",
      " Alexandre Desplat   0.01\n",
      "John Williams       0.01\n",
      "Sandy Powell        0.00\n",
      "Jacqueline Durran   0.00\n",
      "Denmark             0.00\n",
      "Name: name, dtype: float64 \n",
      "\n",
      "\n",
      "film \n",
      " La La Land           0.01\n",
      "The Shape of Water   0.01\n",
      "The Revenant         0.01\n",
      "The King's Speech    0.01\n",
      "Lincoln              0.01\n",
      "Name: film, dtype: float64 \n",
      "\n",
      "\n",
      "winner \n",
      " False   0.78\n",
      "True    0.22\n",
      "Name: winner, dtype: float64 \n",
      "\n",
      "\n"
     ]
    }
   ],
   "source": [
    "#Check for extraneous values\n",
    "for col in oscars_df.columns:\n",
    "    print(col, '\\n', oscars_df[col].value_counts(normalize=True).head(), '\\n\\n')"
   ]
  },
  {
   "cell_type": "code",
   "execution_count": 78,
   "metadata": {},
   "outputs": [
    {
     "name": "stdout",
     "output_type": "stream",
     "text": [
      "<class 'pandas.core.frame.DataFrame'>\n",
      "RangeIndex: 1253 entries, 0 to 1252\n",
      "Data columns (total 8 columns):\n",
      " #   Column         Non-Null Count  Dtype \n",
      "---  ------         --------------  ----- \n",
      " 0   index          1253 non-null   int64 \n",
      " 1   year_film      1253 non-null   int64 \n",
      " 2   year_ceremony  1253 non-null   int64 \n",
      " 3   ceremony       1253 non-null   int64 \n",
      " 4   category       1253 non-null   object\n",
      " 5   name           1253 non-null   object\n",
      " 6   film           1214 non-null   object\n",
      " 7   winner         1253 non-null   bool  \n",
      "dtypes: bool(1), int64(4), object(3)\n",
      "memory usage: 69.9+ KB\n"
     ]
    }
   ],
   "source": [
    "oscars_df.info()"
   ]
  },
  {
   "cell_type": "markdown",
   "metadata": {},
   "source": [
    "This dataset seems very complete except for a few null values in the 'film' column. This is due to some awards that about achievements and are not tied to a film. These values will be dropped since they are not relevant to this analysis. "
   ]
  },
  {
   "cell_type": "code",
   "execution_count": 79,
   "metadata": {},
   "outputs": [
    {
     "name": "stdout",
     "output_type": "stream",
     "text": [
      "<class 'pandas.core.frame.DataFrame'>\n",
      "Int64Index: 1214 entries, 0 to 1248\n",
      "Data columns (total 8 columns):\n",
      " #   Column         Non-Null Count  Dtype \n",
      "---  ------         --------------  ----- \n",
      " 0   index          1214 non-null   int64 \n",
      " 1   year_film      1214 non-null   int64 \n",
      " 2   year_ceremony  1214 non-null   int64 \n",
      " 3   ceremony       1214 non-null   int64 \n",
      " 4   category       1214 non-null   object\n",
      " 5   name           1214 non-null   object\n",
      " 6   film           1214 non-null   object\n",
      " 7   winner         1214 non-null   bool  \n",
      "dtypes: bool(1), int64(4), object(3)\n",
      "memory usage: 77.1+ KB\n",
      " This table has 1214 entries. Each entry represents an award category that can be attributed to a film.\n"
     ]
    }
   ],
   "source": [
    "#Drop null values\n",
    "oscars_df.dropna(inplace=True)\n",
    "\n",
    "#Recheck null values\n",
    "oscars_df.info()\n",
    "\n",
    "#Print results from data cleaning\n",
    "print(f\" This table has {len(oscars_df)} entries. \\\n",
    "Each entry represents an award category that can be attributed to a film.\")"
   ]
  },
  {
   "cell_type": "markdown",
   "metadata": {},
   "source": [
    "#### Feature Engineering"
   ]
  },
  {
   "cell_type": "markdown",
   "metadata": {},
   "source": [
    "For this dataset, I will build the following features:\n",
    "- **Group by film:** Since the data is structured by Award, I will group by film so that each row represents one film and the number of nominations that film received. \n",
    "- **Film Year:** I want to keep this date, so I am getting the 'mean', which will retain the appropriate value. \n",
    "- **m_id:** As with the other datasets, I am creating a film id column to prevent incorrectly merging films with the same name. "
   ]
  },
  {
   "cell_type": "markdown",
   "metadata": {},
   "source": [
    "I am also going to filter the awards and remove any awards for short films, international or foreign language."
   ]
  },
  {
   "cell_type": "code",
   "execution_count": 80,
   "metadata": {},
   "outputs": [
    {
     "data": {
      "text/plain": [
       "array(['ACTOR IN A LEADING ROLE', 'ACTOR IN A SUPPORTING ROLE',\n",
       "       'ACTRESS IN A LEADING ROLE', 'ACTRESS IN A SUPPORTING ROLE',\n",
       "       'ANIMATED FEATURE FILM', 'ART DIRECTION', 'CINEMATOGRAPHY',\n",
       "       'COSTUME DESIGN', 'DIRECTING', 'DOCUMENTARY (Feature)',\n",
       "       'DOCUMENTARY (Short Subject)', 'FILM EDITING',\n",
       "       'FOREIGN LANGUAGE FILM', 'MAKEUP', 'MUSIC (Original Score)',\n",
       "       'MUSIC (Original Song)', 'BEST PICTURE', 'SHORT FILM (Animated)',\n",
       "       'SHORT FILM (Live Action)', 'SOUND EDITING', 'SOUND MIXING',\n",
       "       'VISUAL EFFECTS', 'WRITING (Adapted Screenplay)',\n",
       "       'WRITING (Original Screenplay)', 'MAKEUP AND HAIRSTYLING',\n",
       "       'PRODUCTION DESIGN', 'INTERNATIONAL FEATURE FILM'], dtype=object)"
      ]
     },
     "execution_count": 80,
     "metadata": {},
     "output_type": "execute_result"
    }
   ],
   "source": [
    "# First, review categories\n",
    "oscars_df['category'].unique()"
   ]
  },
  {
   "cell_type": "code",
   "execution_count": 81,
   "metadata": {},
   "outputs": [
    {
     "data": {
      "text/plain": [
       "array(['ACTOR IN A LEADING ROLE', 'ACTOR IN A SUPPORTING ROLE',\n",
       "       'ACTRESS IN A LEADING ROLE', 'ACTRESS IN A SUPPORTING ROLE',\n",
       "       'ANIMATED FEATURE FILM', 'ART DIRECTION', 'CINEMATOGRAPHY',\n",
       "       'COSTUME DESIGN', 'DIRECTING', 'DOCUMENTARY (Feature)',\n",
       "       'FILM EDITING', 'MAKEUP', 'MUSIC (Original Score)',\n",
       "       'MUSIC (Original Song)', 'BEST PICTURE', 'SOUND EDITING',\n",
       "       'SOUND MIXING', 'VISUAL EFFECTS', 'WRITING (Adapted Screenplay)',\n",
       "       'WRITING (Original Screenplay)', 'MAKEUP AND HAIRSTYLING',\n",
       "       'PRODUCTION DESIGN'], dtype=object)"
      ]
     },
     "execution_count": 81,
     "metadata": {},
     "output_type": "execute_result"
    }
   ],
   "source": [
    "#Filter unwanted award categories\n",
    "oscars_df = oscars_df[~oscars_df['category'].str.contains(\\\n",
    "                        'foreign|international|short', case=False)]\n",
    "\n",
    "#Review results\n",
    "oscars_df['category'].unique()"
   ]
  },
  {
   "cell_type": "code",
   "execution_count": 82,
   "metadata": {},
   "outputs": [
    {
     "name": "stdout",
     "output_type": "stream",
     "text": [
      "<class 'pandas.core.frame.DataFrame'>\n",
      "RangeIndex: 382 entries, 0 to 381\n",
      "Data columns (total 4 columns):\n",
      " #   Column       Non-Null Count  Dtype \n",
      "---  ------       --------------  ----- \n",
      " 0   film         382 non-null    object\n",
      " 1   nominations  382 non-null    int64 \n",
      " 2   year_film    382 non-null    int64 \n",
      " 3   m_id         382 non-null    object\n",
      "dtypes: int64(2), object(2)\n",
      "memory usage: 12.1+ KB\n"
     ]
    }
   ],
   "source": [
    "#Create new DataFrame showing how many nominartions each film received\n",
    "oscars_by_film = oscars_df.groupby('film').agg( {'category': 'count','year_film': 'mean',})\\\n",
    "                         .reset_index()\\\n",
    "                        .rename(columns= {'category':'nominations'})\n",
    "#Change 'year_film' type to integer\n",
    "oscars_by_film['year_film'] = oscars_by_film['year_film'].astype(int)\n",
    "\n",
    "#Create 'm_id' to merge with other tables\n",
    "oscars_by_film['m_id'] = oscars_by_film['film'] + oscars_by_film['year_film'].astype(str)\n",
    "\n",
    "#Review results\n",
    "oscars_by_film.info()"
   ]
  },
  {
   "cell_type": "markdown",
   "metadata": {},
   "source": [
    "## Exploratory Data Analysis"
   ]
  },
  {
   "cell_type": "markdown",
   "metadata": {},
   "source": [
    "Now that the data is clean and has the necessary features, it is time to answer our original business questions."
   ]
  },
  {
   "cell_type": "markdown",
   "metadata": {},
   "source": [
    "### What is the right budget to maximize profit?"
   ]
  },
  {
   "cell_type": "markdown",
   "metadata": {},
   "source": [
    "First, lets visually examine the correlation between ROI and net profit."
   ]
  },
  {
   "cell_type": "code",
   "execution_count": 83,
   "metadata": {},
   "outputs": [
    {
     "data": {
      "image/png": "[encoded data removed]",
      "text/plain": [
       "<Figure size 1008x432 with 1 Axes>"
      ]
     },
     "metadata": {
      "needs_background": "light"
     },
     "output_type": "display_data"
    }
   ],
   "source": [
    "# Set the width, height, and style\n",
    "plt.figure(figsize=(14,6))\n",
    "sns.set_palette('muted')\n",
    "\n",
    "#Create plot\n",
    "ax1 = sns.regplot(x=numbers_df['production_budget'],y=numbers_df['net_profit'])\n",
    "\n",
    "#Create labels\n",
    "ax1.ticklabel_format(style='plain')\n",
    "plt.title('Correlation Between Production Budget and Net Profit', fontsize=20)\n",
    "ax1.set_xlabel(\"Producttion Budget\")\n",
    "ax1.set_ylabel(\"Net Profit\");"
   ]
  },
  {
   "cell_type": "markdown",
   "metadata": {},
   "source": [
    "From the graph above, we can observe a modest positive correlation between budget and net profit. \n",
    "\n",
    "Breaking it down by budget level might bring insights into which budgets have high potential for commercial success - and profits."
   ]
  },
  {
   "cell_type": "code",
   "execution_count": 84,
   "metadata": {},
   "outputs": [
    {
     "data": {
      "image/png": "[encoded data removed]",
      "text/plain": [
       "<Figure size 576x432 with 1 Axes>"
      ]
     },
     "metadata": {
      "needs_background": "light"
     },
     "output_type": "display_data"
    }
   ],
   "source": [
    "# Set the width and height\n",
    "plt.figure(figsize=(8,6))\n",
    "\n",
    "#Create plot\n",
    "ax1 = sns.stripplot(x=numbers_df['budget_level'],y=numbers_df['net_profit'])\n",
    "\n",
    "#Create labels\n",
    "ax1.set_xlabel(\"Budget Level\")\n",
    "ax1.set_ylabel(\"Net Profit\")\n",
    "plt.title('Net Profit by Budget Level', fontsize=20);"
   ]
  },
  {
   "cell_type": "code",
   "execution_count": 85,
   "metadata": {},
   "outputs": [
    {
     "data": {
      "text/plain": [
       "''"
      ]
     },
     "execution_count": 85,
     "metadata": {},
     "output_type": "execute_result"
    },
    {
     "data": {
      "image/png": "[encoded data removed]",
      "text/plain": [
       "<Figure size 1080x432 with 1 Axes>"
      ]
     },
     "metadata": {},
     "output_type": "display_data"
    }
   ],
   "source": [
    "#Set figure size and style\n",
    "sns.set(style=\"white\")\n",
    "plt.figure(figsize=(15, 6))\n",
    "\n",
    "#Create plot\n",
    "ax1 = sns.lineplot(data=numbers_df, x='release_year',y='net_profit', hue='budget_level', estimator='mean')\n",
    "\n",
    "#Create labels\n",
    "ax1.set_xlabel(\"Year\")\n",
    "ax1.set_ylabel(\"Net Profit\")\n",
    "ax1.ticklabel_format(style='plain')\n",
    "plt.title('Average Net Profit per Budget Level, by Year', fontsize=20)\n",
    "\n",
    ";"
   ]
  },
  {
   "cell_type": "markdown",
   "metadata": {},
   "source": [
    "The visualization *Average Net Profit per Budget Level, by Year* shows a significant dip in 2019. This is more than likely a result of the COVID-19 pandemic. \n",
    "\n",
    "While low budget movies can certainly be profitable, **mid (\\\\$5 to \\\\$50 million)** and **high (greater than \\\\$50 million)** budgets have a better chance of earning much higher profits. In addition to high, movies with higher profits tend to be much more culturally relevant."
   ]
  },
  {
   "cell_type": "markdown",
   "metadata": {},
   "source": [
    "### Which directors can deliver high profits? "
   ]
  },
  {
   "cell_type": "markdown",
   "metadata": {},
   "source": [
    "Directors are the creative leads of the film. It is critical to select directors that know how to turn ideas into profitable products (aka films). Lets find current directors with the highest good success records in delivering profitable films. \n",
    "\n",
    "Moving forward in this analysis, I will remove low budget films since these films would not meet Microsoft's financial or cultural goals."
   ]
  },
  {
   "cell_type": "code",
   "execution_count": 86,
   "metadata": {},
   "outputs": [
    {
     "data": {
      "text/html": [
       "<div>\n",
       "<style scoped>\n",
       "    .dataframe tbody tr th:only-of-type {\n",
       "        vertical-align: middle;\n",
       "    }\n",
       "\n",
       "    .dataframe tbody tr th {\n",
       "        vertical-align: top;\n",
       "    }\n",
       "\n",
       "    .dataframe thead th {\n",
       "        text-align: right;\n",
       "    }\n",
       "</style>\n",
       "<table border=\"1\" class=\"dataframe\">\n",
       "  <thead>\n",
       "    <tr style=\"text-align: right;\">\n",
       "      <th></th>\n",
       "      <th>movie</th>\n",
       "      <th>release_year</th>\n",
       "      <th>genres</th>\n",
       "      <th>director</th>\n",
       "      <th>m_id</th>\n",
       "      <th>current</th>\n",
       "      <th>release_date</th>\n",
       "      <th>production_budget</th>\n",
       "      <th>domestic_gross</th>\n",
       "      <th>worldwide_gross</th>\n",
       "      <th>net_profit</th>\n",
       "      <th>ROI</th>\n",
       "      <th>budget_level</th>\n",
       "    </tr>\n",
       "  </thead>\n",
       "  <tbody>\n",
       "    <tr>\n",
       "      <th>1180</th>\n",
       "      <td>Avengers: Infinity War</td>\n",
       "      <td>2018</td>\n",
       "      <td>Action,Adventure,Sci-Fi</td>\n",
       "      <td>Joe Russo</td>\n",
       "      <td>Avengers: Infinity War2018</td>\n",
       "      <td>1</td>\n",
       "      <td>2018-04-27</td>\n",
       "      <td>300000000</td>\n",
       "      <td>678815482</td>\n",
       "      <td>2048134200</td>\n",
       "      <td>1748134000</td>\n",
       "      <td>580.00</td>\n",
       "      <td>high</td>\n",
       "    </tr>\n",
       "    <tr>\n",
       "      <th>1179</th>\n",
       "      <td>Avengers: Infinity War</td>\n",
       "      <td>2018</td>\n",
       "      <td>Action,Adventure,Sci-Fi</td>\n",
       "      <td>Anthony Russo</td>\n",
       "      <td>Avengers: Infinity War2018</td>\n",
       "      <td>1</td>\n",
       "      <td>2018-04-27</td>\n",
       "      <td>300000000</td>\n",
       "      <td>678815482</td>\n",
       "      <td>2048134200</td>\n",
       "      <td>1748134000</td>\n",
       "      <td>580.00</td>\n",
       "      <td>high</td>\n",
       "    </tr>\n",
       "    <tr>\n",
       "      <th>3</th>\n",
       "      <td>Jurassic World</td>\n",
       "      <td>2015</td>\n",
       "      <td>Action,Adventure,Sci-Fi</td>\n",
       "      <td>Colin Trevorrow</td>\n",
       "      <td>Jurassic World2015</td>\n",
       "      <td>1</td>\n",
       "      <td>2015-06-12</td>\n",
       "      <td>215000000</td>\n",
       "      <td>652270625</td>\n",
       "      <td>1648854864</td>\n",
       "      <td>1433855000</td>\n",
       "      <td>670.00</td>\n",
       "      <td>high</td>\n",
       "    </tr>\n",
       "    <tr>\n",
       "      <th>1000</th>\n",
       "      <td>Furious 7</td>\n",
       "      <td>2015</td>\n",
       "      <td>Action,Crime,Thriller</td>\n",
       "      <td>James Wan</td>\n",
       "      <td>Furious 72015</td>\n",
       "      <td>1</td>\n",
       "      <td>2015-04-03</td>\n",
       "      <td>190000000</td>\n",
       "      <td>353007020</td>\n",
       "      <td>1518722794</td>\n",
       "      <td>1328723000</td>\n",
       "      <td>700.00</td>\n",
       "      <td>high</td>\n",
       "    </tr>\n",
       "    <tr>\n",
       "      <th>82</th>\n",
       "      <td>The Avengers</td>\n",
       "      <td>2012</td>\n",
       "      <td>Action,Adventure,Sci-Fi</td>\n",
       "      <td>Joss Whedon</td>\n",
       "      <td>The Avengers2012</td>\n",
       "      <td>1</td>\n",
       "      <td>2012-05-04</td>\n",
       "      <td>225000000</td>\n",
       "      <td>623279547</td>\n",
       "      <td>1517935897</td>\n",
       "      <td>1292936000</td>\n",
       "      <td>570.00</td>\n",
       "      <td>high</td>\n",
       "    </tr>\n",
       "  </tbody>\n",
       "</table>\n",
       "</div>"
      ],
      "text/plain": [
       "                       movie  release_year                   genres  \\\n",
       "1180  Avengers: Infinity War          2018  Action,Adventure,Sci-Fi   \n",
       "1179  Avengers: Infinity War          2018  Action,Adventure,Sci-Fi   \n",
       "3             Jurassic World          2015  Action,Adventure,Sci-Fi   \n",
       "1000               Furious 7          2015    Action,Crime,Thriller   \n",
       "82              The Avengers          2012  Action,Adventure,Sci-Fi   \n",
       "\n",
       "             director                        m_id  current release_date  \\\n",
       "1180        Joe Russo  Avengers: Infinity War2018        1   2018-04-27   \n",
       "1179    Anthony Russo  Avengers: Infinity War2018        1   2018-04-27   \n",
       "3     Colin Trevorrow          Jurassic World2015        1   2015-06-12   \n",
       "1000        James Wan               Furious 72015        1   2015-04-03   \n",
       "82        Joss Whedon            The Avengers2012        1   2012-05-04   \n",
       "\n",
       "      production_budget  domestic_gross  worldwide_gross  net_profit    ROI  \\\n",
       "1180          300000000       678815482       2048134200  1748134000 580.00   \n",
       "1179          300000000       678815482       2048134200  1748134000 580.00   \n",
       "3             215000000       652270625       1648854864  1433855000 670.00   \n",
       "1000          190000000       353007020       1518722794  1328723000 700.00   \n",
       "82            225000000       623279547       1517935897  1292936000 570.00   \n",
       "\n",
       "     budget_level  \n",
       "1180         high  \n",
       "1179         high  \n",
       "3            high  \n",
       "1000         high  \n",
       "82           high  "
      ]
     },
     "execution_count": 86,
     "metadata": {},
     "output_type": "execute_result"
    }
   ],
   "source": [
    "#Make list of current directors by dropping those with directors that are no longer current\n",
    "current_directors = movies_data[movies_data['current'] == 1]\n",
    "\n",
    "#Merge financial data using 'm_id' and make a new dataframe\n",
    "directors_budget = current_directors.merge(numbers_df, how='inner', \\\n",
    "                                           left_on=['m_id','movie','release_year'],\\\n",
    "                                          right_on=['m_id','movie','release_year'])\n",
    "\n",
    "#Remove low budget films\n",
    "directors_budget = directors_budget[~directors_budget['budget_level'].str.contains('low')]\n",
    "\n",
    "#Sort\n",
    "directors_budget.sort_values('net_profit', ascending=False).head()"
   ]
  },
  {
   "cell_type": "markdown",
   "metadata": {},
   "source": [
    "This data is sorted by film, but the question is focused on the directors. Let's rearrange this data to better suit that purpose.\n",
    "\n",
    "To narrow down results, I will check the top 30 directors based on financial results. "
   ]
  },
  {
   "cell_type": "code",
   "execution_count": 87,
   "metadata": {},
   "outputs": [],
   "source": [
    "#Rearrange data by directors\n",
    "all_directors = directors_budget.groupby('director').agg(\\\n",
    "                                               {'production_budget': 'mean', \\\n",
    "                                                'net_profit': 'mean', \\\n",
    "                                                'ROI': 'mean',\\\n",
    "                                                'movie': 'count'})\\\n",
    "                                          .sort_values('net_profit', ascending=False).reset_index()\n",
    "#Find top 30 directors\n",
    "top_bdirectors = all_directors.head(30)"
   ]
  },
  {
   "cell_type": "code",
   "execution_count": 88,
   "metadata": {},
   "outputs": [
    {
     "data": {
      "image/png": "[encoded data removed]",
      "text/plain": [
       "<Figure size 1080x432 with 2 Axes>"
      ]
     },
     "metadata": {},
     "output_type": "display_data"
    }
   ],
   "source": [
    "#Set figure size\n",
    "sns.set(style=\"white\")\n",
    "plt.figure(figsize=(15, 6))\n",
    "\n",
    "# Plot for net_profit on the left y-axis\n",
    "ax1 = sns.barplot(x=top_bdirectors['director'], y=top_bdirectors['net_profit'])\n",
    "\n",
    "# Plot for ROI on the right y-axis\n",
    "ax2 = ax1.twinx()\n",
    "sns.pointplot(x=top_bdirectors['director'], y=top_bdirectors['ROI'], label='Average ROI', ax=ax2)\n",
    "\n",
    "#Create labels\n",
    "ax1.set_xticklabels(ax1.get_xticklabels(), rotation=90)\n",
    "ax1.set_xlabel(\"Director\")\n",
    "ax1.set_ylabel(\"Average Net Profit\")\n",
    "ax1.ticklabel_format(style='plain', axis=\"y\")\n",
    "ax2.set_ylabel(\"Average ROI\")\n",
    "plt.title(\"Top 30 Directors by Average Net Profit\", fontsize=20);\n"
   ]
  },
  {
   "cell_type": "markdown",
   "metadata": {},
   "source": [
    "Great! We have a list of 30 directors that have a history of delivery profitable films. "
   ]
  },
  {
   "cell_type": "markdown",
   "metadata": {},
   "source": [
    "### Which directors can deliver acclaimed films?"
   ]
  },
  {
   "cell_type": "markdown",
   "metadata": {},
   "source": [
    "The idea here is very similar to the analysis above, but the analysis is now focused on which directors have worked on the most Oscar nominated films. I will use the merged dataset from earlier with the financial information. This merged dataset will be used once for the last question. "
   ]
  },
  {
   "cell_type": "code",
   "execution_count": 89,
   "metadata": {},
   "outputs": [
    {
     "data": {
      "text/html": [
       "<div>\n",
       "<style scoped>\n",
       "    .dataframe tbody tr th:only-of-type {\n",
       "        vertical-align: middle;\n",
       "    }\n",
       "\n",
       "    .dataframe tbody tr th {\n",
       "        vertical-align: top;\n",
       "    }\n",
       "\n",
       "    .dataframe thead th {\n",
       "        text-align: right;\n",
       "    }\n",
       "</style>\n",
       "<table border=\"1\" class=\"dataframe\">\n",
       "  <thead>\n",
       "    <tr style=\"text-align: right;\">\n",
       "      <th></th>\n",
       "      <th>movie</th>\n",
       "      <th>release_year</th>\n",
       "      <th>genres</th>\n",
       "      <th>director</th>\n",
       "      <th>m_id</th>\n",
       "      <th>release_date</th>\n",
       "      <th>production_budget</th>\n",
       "      <th>worldwide_gross</th>\n",
       "      <th>net_profit</th>\n",
       "      <th>ROI</th>\n",
       "      <th>budget_level</th>\n",
       "      <th>nominations</th>\n",
       "      <th>nominated</th>\n",
       "    </tr>\n",
       "  </thead>\n",
       "  <tbody>\n",
       "    <tr>\n",
       "      <th>7</th>\n",
       "      <td>Tangled</td>\n",
       "      <td>2010</td>\n",
       "      <td>Adventure,Animation,Comedy</td>\n",
       "      <td>Byron Howard</td>\n",
       "      <td>Tangled2010</td>\n",
       "      <td>2010-11-24</td>\n",
       "      <td>260000000</td>\n",
       "      <td>586477240</td>\n",
       "      <td>326477000</td>\n",
       "      <td>130.00</td>\n",
       "      <td>high</td>\n",
       "      <td>1.00</td>\n",
       "      <td>True</td>\n",
       "    </tr>\n",
       "    <tr>\n",
       "      <th>8</th>\n",
       "      <td>Tangled</td>\n",
       "      <td>2010</td>\n",
       "      <td>Adventure,Animation,Comedy</td>\n",
       "      <td>Nathan Greno</td>\n",
       "      <td>Tangled2010</td>\n",
       "      <td>2010-11-24</td>\n",
       "      <td>260000000</td>\n",
       "      <td>586477240</td>\n",
       "      <td>326477000</td>\n",
       "      <td>130.00</td>\n",
       "      <td>high</td>\n",
       "      <td>1.00</td>\n",
       "      <td>True</td>\n",
       "    </tr>\n",
       "    <tr>\n",
       "      <th>13</th>\n",
       "      <td>Real Steel</td>\n",
       "      <td>2011</td>\n",
       "      <td>Action,Drama,Family</td>\n",
       "      <td>Shawn Levy</td>\n",
       "      <td>Real Steel2011</td>\n",
       "      <td>2011-10-07</td>\n",
       "      <td>110000000</td>\n",
       "      <td>263880341</td>\n",
       "      <td>153880000</td>\n",
       "      <td>140.00</td>\n",
       "      <td>high</td>\n",
       "      <td>1.00</td>\n",
       "      <td>True</td>\n",
       "    </tr>\n",
       "    <tr>\n",
       "      <th>14</th>\n",
       "      <td>Toy Story 3</td>\n",
       "      <td>2010</td>\n",
       "      <td>Adventure,Animation,Comedy</td>\n",
       "      <td>Lee Unkrich</td>\n",
       "      <td>Toy Story 32010</td>\n",
       "      <td>2010-06-18</td>\n",
       "      <td>200000000</td>\n",
       "      <td>1068879522</td>\n",
       "      <td>868880000</td>\n",
       "      <td>430.00</td>\n",
       "      <td>high</td>\n",
       "      <td>5.00</td>\n",
       "      <td>True</td>\n",
       "    </tr>\n",
       "    <tr>\n",
       "      <th>16</th>\n",
       "      <td>Lincoln</td>\n",
       "      <td>2012</td>\n",
       "      <td>Biography,Drama,History</td>\n",
       "      <td>Steven Spielberg</td>\n",
       "      <td>Lincoln2012</td>\n",
       "      <td>2012-11-09</td>\n",
       "      <td>65000000</td>\n",
       "      <td>273346281</td>\n",
       "      <td>208346000</td>\n",
       "      <td>320.00</td>\n",
       "      <td>high</td>\n",
       "      <td>12.00</td>\n",
       "      <td>True</td>\n",
       "    </tr>\n",
       "  </tbody>\n",
       "</table>\n",
       "</div>"
      ],
      "text/plain": [
       "          movie  release_year                      genres          director  \\\n",
       "7       Tangled          2010  Adventure,Animation,Comedy      Byron Howard   \n",
       "8       Tangled          2010  Adventure,Animation,Comedy      Nathan Greno   \n",
       "13   Real Steel          2011         Action,Drama,Family        Shawn Levy   \n",
       "14  Toy Story 3          2010  Adventure,Animation,Comedy       Lee Unkrich   \n",
       "16      Lincoln          2012     Biography,Drama,History  Steven Spielberg   \n",
       "\n",
       "               m_id release_date  production_budget  worldwide_gross  \\\n",
       "7       Tangled2010   2010-11-24          260000000        586477240   \n",
       "8       Tangled2010   2010-11-24          260000000        586477240   \n",
       "13   Real Steel2011   2011-10-07          110000000        263880341   \n",
       "14  Toy Story 32010   2010-06-18          200000000       1068879522   \n",
       "16      Lincoln2012   2012-11-09           65000000        273346281   \n",
       "\n",
       "    net_profit    ROI budget_level  nominations  nominated  \n",
       "7    326477000 130.00         high         1.00       True  \n",
       "8    326477000 130.00         high         1.00       True  \n",
       "13   153880000 140.00         high         1.00       True  \n",
       "14   868880000 430.00         high         5.00       True  \n",
       "16   208346000 320.00         high        12.00       True  "
      ]
     },
     "execution_count": 89,
     "metadata": {},
     "output_type": "execute_result"
    }
   ],
   "source": [
    "#Merge tables\n",
    "oscars_budgets = directors_budget.merge(oscars_by_film, how='left', on='m_id')\n",
    "\n",
    "#Drop unnecessary rows\n",
    "oscars_budgets.drop(['film', 'year_film', 'current', 'domestic_gross'], axis = 1, inplace=True)\n",
    "\n",
    "#Fill null values in 'nominations' with 0\n",
    "oscars_budgets['nominations'] = oscars_budgets['nominations'].fillna(0)\n",
    "\n",
    "#Add new categorical column based on whether or not a film was nominated for any Academy Awards\n",
    "oscars_budgets['nominated'] = oscars_budgets['nominations'] > 0\n",
    "\n",
    "#Create new table with only Oscar nominated films\n",
    "oscars_final = oscars_budgets.loc[oscars_budgets['nominated'] == True]\n",
    "\n",
    "oscars_final.head()"
   ]
  },
  {
   "cell_type": "markdown",
   "metadata": {},
   "source": [
    "As before, the dataset is by film. I will rearrange the data by director and select the top 30 directors based on the number of acclaimed films they have worked on."
   ]
  },
  {
   "cell_type": "code",
   "execution_count": 90,
   "metadata": {},
   "outputs": [],
   "source": [
    "directors_awards = oscars_final.groupby('director').agg(\\\n",
    "                                                    {'net_profit': 'mean', \\\n",
    "                                                     'ROI': 'mean',\\\n",
    "                                                     'movie': 'count',\\\n",
    "                                                     'nominated': 'count'})\\\n",
    "                                                      .sort_values('nominated', ascending=False).reset_index()\n",
    "top_ndirectors = directors_awards.head(30)"
   ]
  },
  {
   "cell_type": "code",
   "execution_count": 91,
   "metadata": {},
   "outputs": [
    {
     "data": {
      "image/png": "[encoded data removed]",
      "text/plain": [
       "<Figure size 1080x432 with 2 Axes>"
      ]
     },
     "metadata": {},
     "output_type": "display_data"
    }
   ],
   "source": [
    "#Set figure size\n",
    "sns.set(style=\"white\")\n",
    "plt.figure(figsize=(15, 6))\n",
    "\n",
    "# Plot for net_profit on the left y-axis\n",
    "ax1 = sns.barplot(x=top_ndirectors['director'], y=top_ndirectors['nominated'])\n",
    "\n",
    "# Plot for ROI on the right y-axis\n",
    "ax2 = ax1.twinx()\n",
    "sns.pointplot(x=top_ndirectors['director'], y=top_ndirectors['ROI'], label='Average ROI', ax=ax2)\n",
    "\n",
    "#Create labels\n",
    "ax1.set_xticklabels(ax1.get_xticklabels(), rotation=90)\n",
    "ax1.set_xlabel(\"Director\")\n",
    "ax1.set_ylabel(\"Number of Nominated Films\")\n",
    "ax2.set_ylabel(\"Average ROI\")\n",
    "plt.title(\"Top 30 Directors by Number of Nominated Films\", fontsize=20);"
   ]
  },
  {
   "cell_type": "markdown",
   "metadata": {},
   "source": [
    "I kept the ROI data to see if critically acclaimed also meant that no one saw the film. Thankfully, that seems not to be the case. And now we have a list of directors that can deliver award winning films!"
   ]
  },
  {
   "cell_type": "markdown",
   "metadata": {},
   "source": [
    "### Are there directors that do both?"
   ]
  },
  {
   "cell_type": "markdown",
   "metadata": {},
   "source": [
    "Looking at our top 30 directors for awards and profit, there is no overlap. To answer this question, I will expand the top directors to 100 from each dataset to see if there is any overlap. "
   ]
  },
  {
   "cell_type": "code",
   "execution_count": 92,
   "metadata": {},
   "outputs": [
    {
     "data": {
      "text/html": [
       "<div>\n",
       "<style scoped>\n",
       "    .dataframe tbody tr th:only-of-type {\n",
       "        vertical-align: middle;\n",
       "    }\n",
       "\n",
       "    .dataframe tbody tr th {\n",
       "        vertical-align: top;\n",
       "    }\n",
       "\n",
       "    .dataframe thead th {\n",
       "        text-align: right;\n",
       "    }\n",
       "</style>\n",
       "<table border=\"1\" class=\"dataframe\">\n",
       "  <thead>\n",
       "    <tr style=\"text-align: right;\">\n",
       "      <th></th>\n",
       "      <th>director</th>\n",
       "      <th>net_profit</th>\n",
       "      <th>ROI</th>\n",
       "      <th>movie</th>\n",
       "      <th>nominated</th>\n",
       "      <th>production_budget</th>\n",
       "    </tr>\n",
       "  </thead>\n",
       "  <tbody>\n",
       "    <tr>\n",
       "      <th>0</th>\n",
       "      <td>Peter Jackson</td>\n",
       "      <td>724316333.33</td>\n",
       "      <td>290.00</td>\n",
       "      <td>3</td>\n",
       "      <td>3</td>\n",
       "      <td>250000000.00</td>\n",
       "    </tr>\n",
       "    <tr>\n",
       "      <th>1</th>\n",
       "      <td>Dean DeBlois</td>\n",
       "      <td>396571666.67</td>\n",
       "      <td>273.33</td>\n",
       "      <td>3</td>\n",
       "      <td>3</td>\n",
       "      <td>146333333.33</td>\n",
       "    </tr>\n",
       "    <tr>\n",
       "      <th>2</th>\n",
       "      <td>Sam Mendes</td>\n",
       "      <td>745074000.00</td>\n",
       "      <td>325.00</td>\n",
       "      <td>2</td>\n",
       "      <td>2</td>\n",
       "      <td>250000000.00</td>\n",
       "    </tr>\n",
       "    <tr>\n",
       "      <th>3</th>\n",
       "      <td>Rich Moore</td>\n",
       "      <td>600471000.00</td>\n",
       "      <td>390.00</td>\n",
       "      <td>2</td>\n",
       "      <td>2</td>\n",
       "      <td>157500000.00</td>\n",
       "    </tr>\n",
       "    <tr>\n",
       "      <th>4</th>\n",
       "      <td>Jon Favreau</td>\n",
       "      <td>619505500.00</td>\n",
       "      <td>360.00</td>\n",
       "      <td>2</td>\n",
       "      <td>2</td>\n",
       "      <td>172500000.00</td>\n",
       "    </tr>\n",
       "    <tr>\n",
       "      <th>5</th>\n",
       "      <td>Lee Unkrich</td>\n",
       "      <td>745944000.00</td>\n",
       "      <td>395.00</td>\n",
       "      <td>2</td>\n",
       "      <td>2</td>\n",
       "      <td>187500000.00</td>\n",
       "    </tr>\n",
       "    <tr>\n",
       "      <th>6</th>\n",
       "      <td>Byron Howard</td>\n",
       "      <td>597953500.00</td>\n",
       "      <td>355.00</td>\n",
       "      <td>2</td>\n",
       "      <td>2</td>\n",
       "      <td>205000000.00</td>\n",
       "    </tr>\n",
       "    <tr>\n",
       "      <th>7</th>\n",
       "      <td>Chris Sanders</td>\n",
       "      <td>383969500.00</td>\n",
       "      <td>260.00</td>\n",
       "      <td>2</td>\n",
       "      <td>2</td>\n",
       "      <td>150000000.00</td>\n",
       "    </tr>\n",
       "    <tr>\n",
       "      <th>8</th>\n",
       "      <td>Chris Williams</td>\n",
       "      <td>487322500.00</td>\n",
       "      <td>315.00</td>\n",
       "      <td>2</td>\n",
       "      <td>2</td>\n",
       "      <td>157500000.00</td>\n",
       "    </tr>\n",
       "    <tr>\n",
       "      <th>9</th>\n",
       "      <td>Pete Docter</td>\n",
       "      <td>679236000.00</td>\n",
       "      <td>390.00</td>\n",
       "      <td>1</td>\n",
       "      <td>1</td>\n",
       "      <td>175000000.00</td>\n",
       "    </tr>\n",
       "    <tr>\n",
       "      <th>10</th>\n",
       "      <td>Nathan Greno</td>\n",
       "      <td>326477000.00</td>\n",
       "      <td>130.00</td>\n",
       "      <td>1</td>\n",
       "      <td>1</td>\n",
       "      <td>260000000.00</td>\n",
       "    </tr>\n",
       "    <tr>\n",
       "      <th>11</th>\n",
       "      <td>Michael Gracey</td>\n",
       "      <td>302666000.00</td>\n",
       "      <td>360.00</td>\n",
       "      <td>1</td>\n",
       "      <td>1</td>\n",
       "      <td>84000000.00</td>\n",
       "    </tr>\n",
       "    <tr>\n",
       "      <th>12</th>\n",
       "      <td>Mark Andrews</td>\n",
       "      <td>369607000.00</td>\n",
       "      <td>200.00</td>\n",
       "      <td>1</td>\n",
       "      <td>1</td>\n",
       "      <td>185000000.00</td>\n",
       "    </tr>\n",
       "    <tr>\n",
       "      <th>13</th>\n",
       "      <td>Sam Taylor-Johnson</td>\n",
       "      <td>530998000.00</td>\n",
       "      <td>1330.00</td>\n",
       "      <td>1</td>\n",
       "      <td>1</td>\n",
       "      <td>40000000.00</td>\n",
       "    </tr>\n",
       "    <tr>\n",
       "      <th>14</th>\n",
       "      <td>Steve Purcell</td>\n",
       "      <td>369607000.00</td>\n",
       "      <td>200.00</td>\n",
       "      <td>1</td>\n",
       "      <td>1</td>\n",
       "      <td>185000000.00</td>\n",
       "    </tr>\n",
       "    <tr>\n",
       "      <th>15</th>\n",
       "      <td>Kirk DeMicco</td>\n",
       "      <td>438068000.00</td>\n",
       "      <td>320.00</td>\n",
       "      <td>1</td>\n",
       "      <td>1</td>\n",
       "      <td>135000000.00</td>\n",
       "    </tr>\n",
       "    <tr>\n",
       "      <th>16</th>\n",
       "      <td>Ronnie Del Carmen</td>\n",
       "      <td>679236000.00</td>\n",
       "      <td>390.00</td>\n",
       "      <td>1</td>\n",
       "      <td>1</td>\n",
       "      <td>175000000.00</td>\n",
       "    </tr>\n",
       "    <tr>\n",
       "      <th>17</th>\n",
       "      <td>Ron Clements</td>\n",
       "      <td>487517000.00</td>\n",
       "      <td>330.00</td>\n",
       "      <td>1</td>\n",
       "      <td>1</td>\n",
       "      <td>150000000.00</td>\n",
       "    </tr>\n",
       "    <tr>\n",
       "      <th>18</th>\n",
       "      <td>Robert Stromberg</td>\n",
       "      <td>578537000.00</td>\n",
       "      <td>320.00</td>\n",
       "      <td>1</td>\n",
       "      <td>1</td>\n",
       "      <td>180000000.00</td>\n",
       "    </tr>\n",
       "  </tbody>\n",
       "</table>\n",
       "</div>"
      ],
      "text/plain": [
       "              director   net_profit     ROI  movie  nominated  \\\n",
       "0        Peter Jackson 724316333.33  290.00      3          3   \n",
       "1         Dean DeBlois 396571666.67  273.33      3          3   \n",
       "2           Sam Mendes 745074000.00  325.00      2          2   \n",
       "3           Rich Moore 600471000.00  390.00      2          2   \n",
       "4          Jon Favreau 619505500.00  360.00      2          2   \n",
       "5          Lee Unkrich 745944000.00  395.00      2          2   \n",
       "6         Byron Howard 597953500.00  355.00      2          2   \n",
       "7        Chris Sanders 383969500.00  260.00      2          2   \n",
       "8       Chris Williams 487322500.00  315.00      2          2   \n",
       "9          Pete Docter 679236000.00  390.00      1          1   \n",
       "10        Nathan Greno 326477000.00  130.00      1          1   \n",
       "11      Michael Gracey 302666000.00  360.00      1          1   \n",
       "12        Mark Andrews 369607000.00  200.00      1          1   \n",
       "13  Sam Taylor-Johnson 530998000.00 1330.00      1          1   \n",
       "14       Steve Purcell 369607000.00  200.00      1          1   \n",
       "15        Kirk DeMicco 438068000.00  320.00      1          1   \n",
       "16   Ronnie Del Carmen 679236000.00  390.00      1          1   \n",
       "17        Ron Clements 487517000.00  330.00      1          1   \n",
       "18    Robert Stromberg 578537000.00  320.00      1          1   \n",
       "\n",
       "    production_budget  \n",
       "0        250000000.00  \n",
       "1        146333333.33  \n",
       "2        250000000.00  \n",
       "3        157500000.00  \n",
       "4        172500000.00  \n",
       "5        187500000.00  \n",
       "6        205000000.00  \n",
       "7        150000000.00  \n",
       "8        157500000.00  \n",
       "9        175000000.00  \n",
       "10       260000000.00  \n",
       "11        84000000.00  \n",
       "12       185000000.00  \n",
       "13        40000000.00  \n",
       "14       185000000.00  \n",
       "15       135000000.00  \n",
       "16       175000000.00  \n",
       "17       150000000.00  \n",
       "18       180000000.00  "
      ]
     },
     "execution_count": 92,
     "metadata": {},
     "output_type": "execute_result"
    }
   ],
   "source": [
    "#Merge top director datasets\n",
    "top_directors = directors_awards.head(100).merge(all_directors.head(100), how='inner')\n",
    "top_directors"
   ]
  },
  {
   "cell_type": "code",
   "execution_count": 93,
   "metadata": {},
   "outputs": [
    {
     "data": {
      "image/png": "[encoded data removed]",
      "text/plain": [
       "<Figure size 1080x432 with 2 Axes>"
      ]
     },
     "metadata": {},
     "output_type": "display_data"
    }
   ],
   "source": [
    "#Set figure size\n",
    "sns.set(style=\"white\")\n",
    "plt.figure(figsize=(15, 6))\n",
    "\n",
    "# Plot for net_profit on the left y-axis\n",
    "ax1 = sns.barplot(x=top_directors['director'], y=top_directors['net_profit'])\n",
    "\n",
    "# Plot for ROI on the right y-axis\n",
    "ax2 = ax1.twinx()\n",
    "sns.pointplot(x=top_directors['director'], y=top_directors['ROI'], label='Average ROI', ax=ax2)\n",
    "\n",
    "#Create labels\n",
    "ax1.set_xticklabels(ax1.get_xticklabels(), rotation=90)\n",
    "ax1.set_xlabel(\"Director\")\n",
    "ax1.set_ylabel(\"Average Net Profit\")\n",
    "ax1.ticklabel_format(style='plain', axis=\"y\")\n",
    "ax2.set_ylabel(\"Average ROI\")\n",
    "plt.title(\"Directors in the Top 100 for Net Profit and Oscar Nominations \", fontsize=18);"
   ]
  },
  {
   "cell_type": "markdown",
   "metadata": {},
   "source": [
    "Out of 100 top directors for each category, there are **19 directors** that can do both!"
   ]
  },
  {
   "cell_type": "markdown",
   "metadata": {},
   "source": [
    "## Recommendations"
   ]
  },
  {
   "cell_type": "markdown",
   "metadata": {},
   "source": [
    "After this preliminary review, we recommend that Microsoft invests in the following strategies:\n",
    "\n",
    "- **Invest in mostly high budget films**, with a mix of mid budget films. High budget films are more likely to be commercially successful and also have a much larger cultural presence and resonance. \n",
    "- **Select directors with experience delivering high net gross or high critical acclaim experience**. To keep Microsoft's brand reputation, we need the best shot at success (either financially or culturally). \n",
    "- **If possible, hire directors that can do both**. There is no overlap in the top 30 directors of each category. Directors either excel at critical acclaim or financial success. However, it is possible to select directorial talent that can deliver excellent films that can do both. "
   ]
  },
  {
   "cell_type": "markdown",
   "metadata": {},
   "source": [
    "## Next Steps"
   ]
  },
  {
   "cell_type": "markdown",
   "metadata": {},
   "source": [
    "The movie industry is large and complex, and this research only scratches the surface of the data Microsoft can use to make more informed decisions. My recommendations for next steps are as follows:\n",
    "- **Investigate other filmmaking talent aside from directors.** There are writers, actors, producers, and composers that can help make or break a film. \n",
    "- **Research movie genres.** The types of films made also vary by trends. What are the emerging genres? Which ones are the most profitable? Which ones are more likely to be nominated for an Oscar? \n",
    "- **Look into the role of intellectual property as a success factor**. Big IPs like Marvel, DC, Nintendo, Legos, and Disney tend to hog the marker. It is possible that there are popular IPs that have yet to be adapted into film. "
   ]
  }
 ],
 "metadata": {
  "kernelspec": {
   "display_name": "Python (learn-env)",
   "language": "python",
   "name": "learn-env"
  },
  "language_info": {
   "codemirror_mode": {
    "name": "ipython",
    "version": 3
   },
   "file_extension": ".py",
   "mimetype": "text/x-python",
   "name": "python",
   "nbconvert_exporter": "python",
   "pygments_lexer": "ipython3",
   "version": "3.8.5"
  },
  "toc": {
   "base_numbering": 1,
   "nav_menu": {},
   "number_sections": true,
   "sideBar": true,
   "skip_h1_title": false,
   "title_cell": "Table of Contents",
   "title_sidebar": "Contents",
   "toc_cell": false,
   "toc_position": {},
   "toc_section_display": true,
   "toc_window_display": false
  }
 },
 "nbformat": 4,
 "nbformat_minor": 4
}
