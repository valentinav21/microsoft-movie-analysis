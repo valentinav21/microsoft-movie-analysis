{
 "cells": [
  {
   "cell_type": "markdown",
   "metadata": {},
   "source": [
    "# Microsoft Movie Analysis\n",
    "\n",
    "_Author: Valentina Valdez_"
   ]
  },
  {
   "cell_type": "markdown",
   "metadata": {},
   "source": [
    "![picture of motion picture camera](Images/pexels-donald-tong-66134.jpg)"
   ]
  },
  {
   "cell_type": "markdown",
   "metadata": {},
   "source": [
    "## 1.0 Business Understanding"
   ]
  },
  {
   "cell_type": "markdown",
   "metadata": {},
   "source": [
    "### 1.1 Company Vision & High Level Goals\n",
    "\n",
    "Microsoft's decision to venture into the movie industry marks an exciting strategic shift. By telling compelling stories through film, Microsoft can connect with audiences on an emotional level and establish a stronger presence in popular culture, leading to increased brand awareness. \n",
    "\n",
    "Other tech companies, such as Apple and Amazon, have succesfully transitioned into the entertainment industry. By leveraging its extensive technological expertise, vast resources, and global reach, Microsoft can produce high-quality movies that will enhance its brand image and increase its cultural influence.\n",
    "\n",
    "This research seeks to use the available data to gain valuable insights into trends and consumption patterns, enabling the company to create tailored content that resonates with viewers and maximizes box office success. Within this notebook, I will explore what types of films Microsoft should make to maximize profitability and create positive brand exposure by producing critically acclaimed films. \n",
    "\n",
    "### 1.2 Film Industry Background\n",
    "\n",
    "The period that this analysis will focus on starts from the New Hollywood Era. The New Hollywood era, spanning the late 1960s to the 1970s, was marked by auteur-driven filmmaking. High recognizable directors like Francis Ford Coppola, Martin Scorsese, and Steven Spielberg emerged during this time period and are still relevant today. The era produced groundbreaking films like \"The Godfather,\" \"Taxi Driver,\" and \"Jaws,\" which not only achieved critical acclaim but also achieved significant commercial success.\n",
    "\n",
    "In the 1980s and 1990s, the blockbuster era took hold, with studios increasingly focusing on  films designed to attract large audiences and generate substantial profits. Directors like James Cameron and Steven Spielberg emerged and became synonymous with blockbuster filmmaking. \"Titanic\", which was directed by James Cameron, became the first billion dollar movie. It also won multiple awards, including an Oscar for Best Picture. \n",
    "\n",
    "In the 21st century, franchises, established intellectial properties (IPs), and cinematic universes are prevalent. Recognizable IPs such as Marvel and Star Wars series domanite the box office, attracting massive audiences and generating billions of dollars in revenue. Other IPs, such as Lego, Barbie, and Nintendo, have also plunged into filmmaking and have seen great success. These blockbusters often combine action, visual effects, and interconnected storytelling to create immersive cinematic experiences. However, strong independent voices in non-franchise cinema exist, with the likes of filmmakers like Quentin Tarantino and Wes Anderson. Prestige film awards, such as the Academy Awards, the Golden Globes, and the Cannes Film Festival, are also highly regarded in the industry and in popular culture.  \n",
    "\n",
    "\n",
    "### 1.3 Research Goals\n",
    "\n",
    "Given the above goals and industry background, this analysis will focus on the following topics:\n",
    "- Limit analysis to films released between 1969 and 2019.\n",
    "- Investigate the types of films that produce high ROIs. \n",
    "- Find directors with experience creating either high ROI, high prestige films, or both. \n",
    "\n",
    "Let's dive in!"
   ]
  },
  {
   "cell_type": "markdown",
   "metadata": {},
   "source": [
    "## 2.0 Data Understanding"
   ]
  },
  {
   "cell_type": "markdown",
   "metadata": {},
   "source": [
    "This analysis uses a variety of trusted data sources. The datasets will be used to narrow down how Microsoft should  invest in its filmaking efforts. The sources are as follows:\n",
    "\n",
    "- **IMDB:** Launched in 1990 - and owned by Amazon since 1998 - IMDB is one of the most popular and recognizable databases. This database houses a large amount of information such as directors, writers, genres, and release date.  \n",
    "- **The Numbers:** This database was started in 1997, and is now the largest freely available database of movie business information. The available data contains information about movie titles, production budgets, and gross revenue data. \n",
    "- **The Academy Awards**: This data was created by scraping the <a href=\"https://awardsdatabase.oscars.org/\">academy database</a> for a Kaggle competition. The Academy Awards is considered the most prestigious filmaking award in America, and this data will provide valuable insights in identifying individuals capable of making prestige films. This dataset contains information on Academy Award nominees and winners between the years 1927 and 2023. Access the data <a href=\"https://www.kaggle.com/datasets/unanimad/the-oscar-award\">here</a> .  \n",
    "\n",
    "\n",
    "This analysis is limited by the information in these datasets, and may not fully encompass the full scope of the filmaking industry. However, the data is current enough that this analysis can still provide valuable insight and guide Microsoft on their next steps.\n",
    "\n",
    "\n",
    "The first step in this analysis is to understand the data and how we can transform it to gleam insights. First, I am importing the necessary libraries to read the data and perform the necessary analysis. I will review the data sources one by one to determine what needs to be done before we can perform analysis. "
   ]
  },
  {
   "cell_type": "code",
   "execution_count": 1,
   "metadata": {},
   "outputs": [],
   "source": [
    "import pandas as pd\n",
    "import numpy as np\n",
    "import matplotlib.pyplot as plt\n",
    "import seaborn as sns\n",
    "import sqlite3\n",
    "import datetime\n",
    "\n",
    "%matplotlib inline"
   ]
  },
  {
   "cell_type": "markdown",
   "metadata": {},
   "source": [
    "### 2.1 IMDB"
   ]
  },
  {
   "cell_type": "markdown",
   "metadata": {},
   "source": [
    "Let's examine IMDB's database first, which is the most extensive of the three. I will need information on movies titles, their genres, and the directors per film. "
   ]
  },
  {
   "cell_type": "code",
   "execution_count": 2,
   "metadata": {},
   "outputs": [
    {
     "data": {
      "text/html": [
       "<div>\n",
       "<style scoped>\n",
       "    .dataframe tbody tr th:only-of-type {\n",
       "        vertical-align: middle;\n",
       "    }\n",
       "\n",
       "    .dataframe tbody tr th {\n",
       "        vertical-align: top;\n",
       "    }\n",
       "\n",
       "    .dataframe thead th {\n",
       "        text-align: right;\n",
       "    }\n",
       "</style>\n",
       "<table border=\"1\" class=\"dataframe\">\n",
       "  <thead>\n",
       "    <tr style=\"text-align: right;\">\n",
       "      <th></th>\n",
       "      <th>name</th>\n",
       "    </tr>\n",
       "  </thead>\n",
       "  <tbody>\n",
       "    <tr>\n",
       "      <th>0</th>\n",
       "      <td>movie_basics</td>\n",
       "    </tr>\n",
       "    <tr>\n",
       "      <th>1</th>\n",
       "      <td>directors</td>\n",
       "    </tr>\n",
       "    <tr>\n",
       "      <th>2</th>\n",
       "      <td>known_for</td>\n",
       "    </tr>\n",
       "    <tr>\n",
       "      <th>3</th>\n",
       "      <td>movie_akas</td>\n",
       "    </tr>\n",
       "    <tr>\n",
       "      <th>4</th>\n",
       "      <td>movie_ratings</td>\n",
       "    </tr>\n",
       "    <tr>\n",
       "      <th>5</th>\n",
       "      <td>persons</td>\n",
       "    </tr>\n",
       "    <tr>\n",
       "      <th>6</th>\n",
       "      <td>principals</td>\n",
       "    </tr>\n",
       "    <tr>\n",
       "      <th>7</th>\n",
       "      <td>writers</td>\n",
       "    </tr>\n",
       "  </tbody>\n",
       "</table>\n",
       "</div>"
      ],
      "text/plain": [
       "            name\n",
       "0   movie_basics\n",
       "1      directors\n",
       "2      known_for\n",
       "3     movie_akas\n",
       "4  movie_ratings\n",
       "5        persons\n",
       "6     principals\n",
       "7        writers"
      ]
     },
     "execution_count": 2,
     "metadata": {},
     "output_type": "execute_result"
    }
   ],
   "source": [
    "#Connect to database\n",
    "\n",
    "conn = sqlite3.connect(\"Data/im.db\")\n",
    "\n",
    "#Review tables\n",
    "imdb_tables = pd.read_sql(\"\"\"SELECT name FROM sqlite_master;\"\"\", conn)\n",
    "imdb_tables"
   ]
  },
  {
   "cell_type": "code",
   "execution_count": 3,
   "metadata": {},
   "outputs": [
    {
     "data": {
      "text/html": [
       "<div>\n",
       "<style scoped>\n",
       "    .dataframe tbody tr th:only-of-type {\n",
       "        vertical-align: middle;\n",
       "    }\n",
       "\n",
       "    .dataframe tbody tr th {\n",
       "        vertical-align: top;\n",
       "    }\n",
       "\n",
       "    .dataframe thead th {\n",
       "        text-align: right;\n",
       "    }\n",
       "</style>\n",
       "<table border=\"1\" class=\"dataframe\">\n",
       "  <thead>\n",
       "    <tr style=\"text-align: right;\">\n",
       "      <th></th>\n",
       "      <th>movie_id</th>\n",
       "      <th>primary_title</th>\n",
       "      <th>original_title</th>\n",
       "      <th>start_year</th>\n",
       "      <th>runtime_minutes</th>\n",
       "      <th>genres</th>\n",
       "    </tr>\n",
       "  </thead>\n",
       "  <tbody>\n",
       "    <tr>\n",
       "      <th>0</th>\n",
       "      <td>tt0063540</td>\n",
       "      <td>Sunghursh</td>\n",
       "      <td>Sunghursh</td>\n",
       "      <td>2013</td>\n",
       "      <td>175.0</td>\n",
       "      <td>Action,Crime,Drama</td>\n",
       "    </tr>\n",
       "    <tr>\n",
       "      <th>1</th>\n",
       "      <td>tt0066787</td>\n",
       "      <td>One Day Before the Rainy Season</td>\n",
       "      <td>Ashad Ka Ek Din</td>\n",
       "      <td>2019</td>\n",
       "      <td>114.0</td>\n",
       "      <td>Biography,Drama</td>\n",
       "    </tr>\n",
       "    <tr>\n",
       "      <th>2</th>\n",
       "      <td>tt0069049</td>\n",
       "      <td>The Other Side of the Wind</td>\n",
       "      <td>The Other Side of the Wind</td>\n",
       "      <td>2018</td>\n",
       "      <td>122.0</td>\n",
       "      <td>Drama</td>\n",
       "    </tr>\n",
       "    <tr>\n",
       "      <th>3</th>\n",
       "      <td>tt0069204</td>\n",
       "      <td>Sabse Bada Sukh</td>\n",
       "      <td>Sabse Bada Sukh</td>\n",
       "      <td>2018</td>\n",
       "      <td>NaN</td>\n",
       "      <td>Comedy,Drama</td>\n",
       "    </tr>\n",
       "    <tr>\n",
       "      <th>4</th>\n",
       "      <td>tt0100275</td>\n",
       "      <td>The Wandering Soap Opera</td>\n",
       "      <td>La Telenovela Errante</td>\n",
       "      <td>2017</td>\n",
       "      <td>80.0</td>\n",
       "      <td>Comedy,Drama,Fantasy</td>\n",
       "    </tr>\n",
       "  </tbody>\n",
       "</table>\n",
       "</div>"
      ],
      "text/plain": [
       "    movie_id                    primary_title              original_title  \\\n",
       "0  tt0063540                        Sunghursh                   Sunghursh   \n",
       "1  tt0066787  One Day Before the Rainy Season             Ashad Ka Ek Din   \n",
       "2  tt0069049       The Other Side of the Wind  The Other Side of the Wind   \n",
       "3  tt0069204                  Sabse Bada Sukh             Sabse Bada Sukh   \n",
       "4  tt0100275         The Wandering Soap Opera       La Telenovela Errante   \n",
       "\n",
       "   start_year  runtime_minutes                genres  \n",
       "0        2013            175.0    Action,Crime,Drama  \n",
       "1        2019            114.0       Biography,Drama  \n",
       "2        2018            122.0                 Drama  \n",
       "3        2018              NaN          Comedy,Drama  \n",
       "4        2017             80.0  Comedy,Drama,Fantasy  "
      ]
     },
     "execution_count": 3,
     "metadata": {},
     "output_type": "execute_result"
    }
   ],
   "source": [
    "#Query tables \n",
    "movie_basics = pd.read_sql(\"\"\"SELECT * FROM movie_basics LIMIT 10;\"\"\", conn)\n",
    "movie_basics.head()"
   ]
  },
  {
   "cell_type": "code",
   "execution_count": 4,
   "metadata": {},
   "outputs": [
    {
     "data": {
      "text/html": [
       "<div>\n",
       "<style scoped>\n",
       "    .dataframe tbody tr th:only-of-type {\n",
       "        vertical-align: middle;\n",
       "    }\n",
       "\n",
       "    .dataframe tbody tr th {\n",
       "        vertical-align: top;\n",
       "    }\n",
       "\n",
       "    .dataframe thead th {\n",
       "        text-align: right;\n",
       "    }\n",
       "</style>\n",
       "<table border=\"1\" class=\"dataframe\">\n",
       "  <thead>\n",
       "    <tr style=\"text-align: right;\">\n",
       "      <th></th>\n",
       "      <th>movie_id</th>\n",
       "    </tr>\n",
       "  </thead>\n",
       "  <tbody>\n",
       "    <tr>\n",
       "      <th>0</th>\n",
       "      <td>tt10027708</td>\n",
       "    </tr>\n",
       "    <tr>\n",
       "      <th>1</th>\n",
       "      <td>tt10027708</td>\n",
       "    </tr>\n",
       "    <tr>\n",
       "      <th>2</th>\n",
       "      <td>tt1014759</td>\n",
       "    </tr>\n",
       "    <tr>\n",
       "      <th>3</th>\n",
       "      <td>tt1014759</td>\n",
       "    </tr>\n",
       "    <tr>\n",
       "      <th>4</th>\n",
       "      <td>tt10225354</td>\n",
       "    </tr>\n",
       "    <tr>\n",
       "      <th>5</th>\n",
       "      <td>tt10225420</td>\n",
       "    </tr>\n",
       "    <tr>\n",
       "      <th>6</th>\n",
       "      <td>tt10308634</td>\n",
       "    </tr>\n",
       "    <tr>\n",
       "      <th>7</th>\n",
       "      <td>tt1182315</td>\n",
       "    </tr>\n",
       "    <tr>\n",
       "      <th>8</th>\n",
       "      <td>tt1233259</td>\n",
       "    </tr>\n",
       "    <tr>\n",
       "      <th>9</th>\n",
       "      <td>tt1263750</td>\n",
       "    </tr>\n",
       "    <tr>\n",
       "      <th>10</th>\n",
       "      <td>tt1272051</td>\n",
       "    </tr>\n",
       "    <tr>\n",
       "      <th>11</th>\n",
       "      <td>tt1280013</td>\n",
       "    </tr>\n",
       "    <tr>\n",
       "      <th>12</th>\n",
       "      <td>tt1284451</td>\n",
       "    </tr>\n",
       "    <tr>\n",
       "      <th>13</th>\n",
       "      <td>tt1305797</td>\n",
       "    </tr>\n",
       "    <tr>\n",
       "      <th>14</th>\n",
       "      <td>tt1308729</td>\n",
       "    </tr>\n",
       "    <tr>\n",
       "      <th>15</th>\n",
       "      <td>tt1322257</td>\n",
       "    </tr>\n",
       "    <tr>\n",
       "      <th>16</th>\n",
       "      <td>tt1336601</td>\n",
       "    </tr>\n",
       "    <tr>\n",
       "      <th>17</th>\n",
       "      <td>tt1340801</td>\n",
       "    </tr>\n",
       "    <tr>\n",
       "      <th>18</th>\n",
       "      <td>tt1343727</td>\n",
       "    </tr>\n",
       "    <tr>\n",
       "      <th>19</th>\n",
       "      <td>tt1343727</td>\n",
       "    </tr>\n",
       "  </tbody>\n",
       "</table>\n",
       "</div>"
      ],
      "text/plain": [
       "      movie_id\n",
       "0   tt10027708\n",
       "1   tt10027708\n",
       "2    tt1014759\n",
       "3    tt1014759\n",
       "4   tt10225354\n",
       "5   tt10225420\n",
       "6   tt10308634\n",
       "7    tt1182315\n",
       "8    tt1233259\n",
       "9    tt1263750\n",
       "10   tt1272051\n",
       "11   tt1280013\n",
       "12   tt1284451\n",
       "13   tt1305797\n",
       "14   tt1308729\n",
       "15   tt1322257\n",
       "16   tt1336601\n",
       "17   tt1340801\n",
       "18   tt1343727\n",
       "19   tt1343727"
      ]
     },
     "execution_count": 4,
     "metadata": {},
     "output_type": "execute_result"
    }
   ],
   "source": [
    "movie_akas = pd.read_sql(\"\"\"\n",
    "SELECT movie_id\n",
    "FROM movie_akas\n",
    "WHERE language = 'en'\n",
    ";\"\"\", conn)\n",
    "movie_akas.head(20)"
   ]
  },
  {
   "cell_type": "markdown",
   "metadata": {},
   "source": [
    "Based on these initial queries, I will need to connect the additional tables to add the directors per film."
   ]
  },
  {
   "cell_type": "markdown",
   "metadata": {},
   "source": [
    "### 2.2 The Numbers"
   ]
  },
  {
   "cell_type": "markdown",
   "metadata": {},
   "source": [
    "For this dataset, the goal is to calculate the Return on Investment per film. Additionally, films will be categorized by budget so that the budget can be discribed as low, mid, or high. Eventually, I can tie this information to the IMDB table and identify which films and directors have produced high ROIs. "
   ]
  },
  {
   "cell_type": "code",
   "execution_count": 5,
   "metadata": {},
   "outputs": [
    {
     "data": {
      "text/html": [
       "<div>\n",
       "<style scoped>\n",
       "    .dataframe tbody tr th:only-of-type {\n",
       "        vertical-align: middle;\n",
       "    }\n",
       "\n",
       "    .dataframe tbody tr th {\n",
       "        vertical-align: top;\n",
       "    }\n",
       "\n",
       "    .dataframe thead th {\n",
       "        text-align: right;\n",
       "    }\n",
       "</style>\n",
       "<table border=\"1\" class=\"dataframe\">\n",
       "  <thead>\n",
       "    <tr style=\"text-align: right;\">\n",
       "      <th></th>\n",
       "      <th>id</th>\n",
       "      <th>release_date</th>\n",
       "      <th>movie</th>\n",
       "      <th>production_budget</th>\n",
       "      <th>domestic_gross</th>\n",
       "      <th>worldwide_gross</th>\n",
       "    </tr>\n",
       "  </thead>\n",
       "  <tbody>\n",
       "    <tr>\n",
       "      <th>0</th>\n",
       "      <td>1</td>\n",
       "      <td>Dec 18, 2009</td>\n",
       "      <td>Avatar</td>\n",
       "      <td>$425,000,000</td>\n",
       "      <td>$760,507,625</td>\n",
       "      <td>$2,776,345,279</td>\n",
       "    </tr>\n",
       "    <tr>\n",
       "      <th>1</th>\n",
       "      <td>2</td>\n",
       "      <td>May 20, 2011</td>\n",
       "      <td>Pirates of the Caribbean: On Stranger Tides</td>\n",
       "      <td>$410,600,000</td>\n",
       "      <td>$241,063,875</td>\n",
       "      <td>$1,045,663,875</td>\n",
       "    </tr>\n",
       "    <tr>\n",
       "      <th>2</th>\n",
       "      <td>3</td>\n",
       "      <td>Jun 7, 2019</td>\n",
       "      <td>Dark Phoenix</td>\n",
       "      <td>$350,000,000</td>\n",
       "      <td>$42,762,350</td>\n",
       "      <td>$149,762,350</td>\n",
       "    </tr>\n",
       "    <tr>\n",
       "      <th>3</th>\n",
       "      <td>4</td>\n",
       "      <td>May 1, 2015</td>\n",
       "      <td>Avengers: Age of Ultron</td>\n",
       "      <td>$330,600,000</td>\n",
       "      <td>$459,005,868</td>\n",
       "      <td>$1,403,013,963</td>\n",
       "    </tr>\n",
       "    <tr>\n",
       "      <th>4</th>\n",
       "      <td>5</td>\n",
       "      <td>Dec 15, 2017</td>\n",
       "      <td>Star Wars Ep. VIII: The Last Jedi</td>\n",
       "      <td>$317,000,000</td>\n",
       "      <td>$620,181,382</td>\n",
       "      <td>$1,316,721,747</td>\n",
       "    </tr>\n",
       "  </tbody>\n",
       "</table>\n",
       "</div>"
      ],
      "text/plain": [
       "   id  release_date                                        movie  \\\n",
       "0   1  Dec 18, 2009                                       Avatar   \n",
       "1   2  May 20, 2011  Pirates of the Caribbean: On Stranger Tides   \n",
       "2   3   Jun 7, 2019                                 Dark Phoenix   \n",
       "3   4   May 1, 2015                      Avengers: Age of Ultron   \n",
       "4   5  Dec 15, 2017            Star Wars Ep. VIII: The Last Jedi   \n",
       "\n",
       "  production_budget domestic_gross worldwide_gross  \n",
       "0      $425,000,000   $760,507,625  $2,776,345,279  \n",
       "1      $410,600,000   $241,063,875  $1,045,663,875  \n",
       "2      $350,000,000    $42,762,350    $149,762,350  \n",
       "3      $330,600,000   $459,005,868  $1,403,013,963  \n",
       "4      $317,000,000   $620,181,382  $1,316,721,747  "
      ]
     },
     "execution_count": 5,
     "metadata": {},
     "output_type": "execute_result"
    }
   ],
   "source": [
    "#Import data\n",
    "numbers_df = pd.read_csv('Data/tn.movie_budgets.csv.gz')\n",
    "\n",
    "#Preview table\n",
    "numbers_df.head()"
   ]
  },
  {
   "cell_type": "code",
   "execution_count": 6,
   "metadata": {},
   "outputs": [
    {
     "name": "stdout",
     "output_type": "stream",
     "text": [
      "<class 'pandas.core.frame.DataFrame'>\n",
      "RangeIndex: 5782 entries, 0 to 5781\n",
      "Data columns (total 6 columns):\n",
      " #   Column             Non-Null Count  Dtype \n",
      "---  ------             --------------  ----- \n",
      " 0   id                 5782 non-null   int64 \n",
      " 1   release_date       5782 non-null   object\n",
      " 2   movie              5782 non-null   object\n",
      " 3   production_budget  5782 non-null   object\n",
      " 4   domestic_gross     5782 non-null   object\n",
      " 5   worldwide_gross    5782 non-null   object\n",
      "dtypes: int64(1), object(5)\n",
      "memory usage: 271.2+ KB\n"
     ]
    }
   ],
   "source": [
    "#Review data structure\n",
    "numbers_df.info()"
   ]
  },
  {
   "cell_type": "markdown",
   "metadata": {},
   "source": [
    "The initial assessment is that this data will need to be converted in the following ways:\n",
    "\n",
    "- The budget and gross data columns need to be converted to integers. \n",
    "- The release_date column needs to be coverted to datetime object.\n",
    "- There are no null values, but I will need to further examine to make sure that the values are valid ."
   ]
  },
  {
   "cell_type": "markdown",
   "metadata": {},
   "source": [
    "### 2.3 The Academy Awards"
   ]
  },
  {
   "cell_type": "markdown",
   "metadata": {},
   "source": [
    "This dataset will be critical in providing information on which films and directors have been critically accalimed. "
   ]
  },
  {
   "cell_type": "code",
   "execution_count": 7,
   "metadata": {},
   "outputs": [
    {
     "data": {
      "text/html": [
       "<div>\n",
       "<style scoped>\n",
       "    .dataframe tbody tr th:only-of-type {\n",
       "        vertical-align: middle;\n",
       "    }\n",
       "\n",
       "    .dataframe tbody tr th {\n",
       "        vertical-align: top;\n",
       "    }\n",
       "\n",
       "    .dataframe thead th {\n",
       "        text-align: right;\n",
       "    }\n",
       "</style>\n",
       "<table border=\"1\" class=\"dataframe\">\n",
       "  <thead>\n",
       "    <tr style=\"text-align: right;\">\n",
       "      <th></th>\n",
       "      <th>year_film</th>\n",
       "      <th>year_ceremony</th>\n",
       "      <th>ceremony</th>\n",
       "      <th>category</th>\n",
       "      <th>name</th>\n",
       "      <th>film</th>\n",
       "      <th>winner</th>\n",
       "    </tr>\n",
       "  </thead>\n",
       "  <tbody>\n",
       "    <tr>\n",
       "      <th>0</th>\n",
       "      <td>1927</td>\n",
       "      <td>1928</td>\n",
       "      <td>1</td>\n",
       "      <td>ACTOR</td>\n",
       "      <td>Richard Barthelmess</td>\n",
       "      <td>The Noose</td>\n",
       "      <td>False</td>\n",
       "    </tr>\n",
       "    <tr>\n",
       "      <th>1</th>\n",
       "      <td>1927</td>\n",
       "      <td>1928</td>\n",
       "      <td>1</td>\n",
       "      <td>ACTOR</td>\n",
       "      <td>Emil Jannings</td>\n",
       "      <td>The Last Command</td>\n",
       "      <td>True</td>\n",
       "    </tr>\n",
       "    <tr>\n",
       "      <th>2</th>\n",
       "      <td>1927</td>\n",
       "      <td>1928</td>\n",
       "      <td>1</td>\n",
       "      <td>ACTRESS</td>\n",
       "      <td>Louise Dresser</td>\n",
       "      <td>A Ship Comes In</td>\n",
       "      <td>False</td>\n",
       "    </tr>\n",
       "    <tr>\n",
       "      <th>3</th>\n",
       "      <td>1927</td>\n",
       "      <td>1928</td>\n",
       "      <td>1</td>\n",
       "      <td>ACTRESS</td>\n",
       "      <td>Janet Gaynor</td>\n",
       "      <td>7th Heaven</td>\n",
       "      <td>True</td>\n",
       "    </tr>\n",
       "    <tr>\n",
       "      <th>4</th>\n",
       "      <td>1927</td>\n",
       "      <td>1928</td>\n",
       "      <td>1</td>\n",
       "      <td>ACTRESS</td>\n",
       "      <td>Gloria Swanson</td>\n",
       "      <td>Sadie Thompson</td>\n",
       "      <td>False</td>\n",
       "    </tr>\n",
       "  </tbody>\n",
       "</table>\n",
       "</div>"
      ],
      "text/plain": [
       "   year_film  year_ceremony  ceremony category                 name  \\\n",
       "0       1927           1928         1    ACTOR  Richard Barthelmess   \n",
       "1       1927           1928         1    ACTOR        Emil Jannings   \n",
       "2       1927           1928         1  ACTRESS       Louise Dresser   \n",
       "3       1927           1928         1  ACTRESS         Janet Gaynor   \n",
       "4       1927           1928         1  ACTRESS       Gloria Swanson   \n",
       "\n",
       "               film  winner  \n",
       "0         The Noose   False  \n",
       "1  The Last Command    True  \n",
       "2   A Ship Comes In   False  \n",
       "3        7th Heaven    True  \n",
       "4    Sadie Thompson   False  "
      ]
     },
     "execution_count": 7,
     "metadata": {},
     "output_type": "execute_result"
    }
   ],
   "source": [
    "#Import Data\n",
    "oscars_df = pd.read_csv('Data/the_oscar_award.csv')\n",
    "\n",
    "#Preview Data\n",
    "oscars_df.head()"
   ]
  },
  {
   "cell_type": "code",
   "execution_count": 8,
   "metadata": {},
   "outputs": [
    {
     "name": "stdout",
     "output_type": "stream",
     "text": [
      "<class 'pandas.core.frame.DataFrame'>\n",
      "RangeIndex: 10765 entries, 0 to 10764\n",
      "Data columns (total 7 columns):\n",
      " #   Column         Non-Null Count  Dtype \n",
      "---  ------         --------------  ----- \n",
      " 0   year_film      10765 non-null  int64 \n",
      " 1   year_ceremony  10765 non-null  int64 \n",
      " 2   ceremony       10765 non-null  int64 \n",
      " 3   category       10765 non-null  object\n",
      " 4   name           10761 non-null  object\n",
      " 5   film           10450 non-null  object\n",
      " 6   winner         10765 non-null  bool  \n",
      "dtypes: bool(1), int64(3), object(3)\n",
      "memory usage: 515.2+ KB\n"
     ]
    }
   ],
   "source": [
    "#Review data structure \n",
    "\n",
    "oscars_df.info()"
   ]
  },
  {
   "cell_type": "markdown",
   "metadata": {},
   "source": [
    "Based on this preliminary review, I will need to do the following:\n",
    "- Make sure that the name column belongs to only people.\n",
    "- Find out the missing data from films\n",
    "- Filter by relevant categories - in this analysis, we will only look at films that won were either nominated or won  in recognizable categories like Best Picture, etc. "
   ]
  },
  {
   "cell_type": "markdown",
   "metadata": {},
   "source": [
    "## 3.0 Data Preparation"
   ]
  },
  {
   "cell_type": "markdown",
   "metadata": {},
   "source": [
    "Now that we have a good understanding of our data, the next step is to clean the datasets and engineer some features."
   ]
  },
  {
   "cell_type": "markdown",
   "metadata": {},
   "source": [
    "### 3.1 IMDB"
   ]
  },
  {
   "cell_type": "markdown",
   "metadata": {},
   "source": [
    "#### 3.1.1 Movie Genres"
   ]
  },
  {
   "cell_type": "markdown",
   "metadata": {},
   "source": [
    "For the IMDB dataset, I will need the film name, release year, director, and genre."
   ]
  },
  {
   "cell_type": "code",
   "execution_count": 73,
   "metadata": {},
   "outputs": [
    {
     "data": {
      "text/html": [
       "<div>\n",
       "<style scoped>\n",
       "    .dataframe tbody tr th:only-of-type {\n",
       "        vertical-align: middle;\n",
       "    }\n",
       "\n",
       "    .dataframe tbody tr th {\n",
       "        vertical-align: top;\n",
       "    }\n",
       "\n",
       "    .dataframe thead th {\n",
       "        text-align: right;\n",
       "    }\n",
       "</style>\n",
       "<table border=\"1\" class=\"dataframe\">\n",
       "  <thead>\n",
       "    <tr style=\"text-align: right;\">\n",
       "      <th></th>\n",
       "      <th>title</th>\n",
       "      <th>start_year</th>\n",
       "      <th>genres</th>\n",
       "      <th>director</th>\n",
       "    </tr>\n",
       "  </thead>\n",
       "  <tbody>\n",
       "    <tr>\n",
       "      <th>0</th>\n",
       "      <td>One Day Before the Rainy Season</td>\n",
       "      <td>2019</td>\n",
       "      <td>Biography,Drama</td>\n",
       "      <td>Mani Kaul</td>\n",
       "    </tr>\n",
       "    <tr>\n",
       "      <th>1</th>\n",
       "      <td>Sabse Bada Sukh</td>\n",
       "      <td>2018</td>\n",
       "      <td>Comedy,Drama</td>\n",
       "      <td>Hrishikesh Mukherjee</td>\n",
       "    </tr>\n",
       "    <tr>\n",
       "      <th>2</th>\n",
       "      <td>The Wandering Soap Opera</td>\n",
       "      <td>2017</td>\n",
       "      <td>Comedy,Drama,Fantasy</td>\n",
       "      <td>Raoul Ruiz</td>\n",
       "    </tr>\n",
       "    <tr>\n",
       "      <th>3</th>\n",
       "      <td>The Wandering Soap Opera</td>\n",
       "      <td>2017</td>\n",
       "      <td>Comedy,Drama,Fantasy</td>\n",
       "      <td>Raoul Ruiz</td>\n",
       "    </tr>\n",
       "    <tr>\n",
       "      <th>4</th>\n",
       "      <td>The Wandering Soap Opera</td>\n",
       "      <td>2017</td>\n",
       "      <td>Comedy,Drama,Fantasy</td>\n",
       "      <td>Valeria Sarmiento</td>\n",
       "    </tr>\n",
       "  </tbody>\n",
       "</table>\n",
       "</div>"
      ],
      "text/plain": [
       "                             title  start_year                genres  \\\n",
       "0  One Day Before the Rainy Season        2019       Biography,Drama   \n",
       "1                  Sabse Bada Sukh        2018          Comedy,Drama   \n",
       "2         The Wandering Soap Opera        2017  Comedy,Drama,Fantasy   \n",
       "3         The Wandering Soap Opera        2017  Comedy,Drama,Fantasy   \n",
       "4         The Wandering Soap Opera        2017  Comedy,Drama,Fantasy   \n",
       "\n",
       "               director  \n",
       "0             Mani Kaul  \n",
       "1  Hrishikesh Mukherjee  \n",
       "2            Raoul Ruiz  \n",
       "3            Raoul Ruiz  \n",
       "4     Valeria Sarmiento  "
      ]
     },
     "execution_count": 73,
     "metadata": {},
     "output_type": "execute_result"
    }
   ],
   "source": [
    "#Query relevant tables and preview data\n",
    "\n",
    "movies_data = pd.read_sql(\n",
    "\"\"\"\n",
    "SELECT primary_title AS title, \n",
    "       start_year, \n",
    "       genres,\n",
    "       primary_name AS director\n",
    "  FROM movie_basics\n",
    "      JOIN directors \n",
    "           USING(movie_id)\n",
    "      JOIN persons\n",
    "           USING(person_id)\n",
    "  WHERE start_year BETWEEN 1969 AND 2019\n",
    "  AND movie_id IN (SELECT movie_id\n",
    "                   FROM movie_akas\n",
    "                   WHERE language = 'en')\n",
    ";\"\"\", conn)\n",
    "\n",
    "movies_data.head()"
   ]
  },
  {
   "cell_type": "code",
   "execution_count": 74,
   "metadata": {},
   "outputs": [
    {
     "name": "stdout",
     "output_type": "stream",
     "text": [
      "<class 'pandas.core.frame.DataFrame'>\n",
      "RangeIndex: 43337 entries, 0 to 43336\n",
      "Data columns (total 4 columns):\n",
      " #   Column      Non-Null Count  Dtype \n",
      "---  ------      --------------  ----- \n",
      " 0   title       43337 non-null  object\n",
      " 1   start_year  43337 non-null  int64 \n",
      " 2   genres      42802 non-null  object\n",
      " 3   director    43337 non-null  object\n",
      "dtypes: int64(1), object(3)\n",
      "memory usage: 1.3+ MB\n"
     ]
    }
   ],
   "source": [
    "movies_data.info()"
   ]
  },
  {
   "cell_type": "code",
   "execution_count": 75,
   "metadata": {},
   "outputs": [
    {
     "name": "stdout",
     "output_type": "stream",
     "text": [
      "22016\n"
     ]
    },
    {
     "data": {
      "text/html": [
       "<div>\n",
       "<style scoped>\n",
       "    .dataframe tbody tr th:only-of-type {\n",
       "        vertical-align: middle;\n",
       "    }\n",
       "\n",
       "    .dataframe tbody tr th {\n",
       "        vertical-align: top;\n",
       "    }\n",
       "\n",
       "    .dataframe thead th {\n",
       "        text-align: right;\n",
       "    }\n",
       "</style>\n",
       "<table border=\"1\" class=\"dataframe\">\n",
       "  <thead>\n",
       "    <tr style=\"text-align: right;\">\n",
       "      <th></th>\n",
       "      <th>title</th>\n",
       "      <th>start_year</th>\n",
       "      <th>genres</th>\n",
       "      <th>director</th>\n",
       "    </tr>\n",
       "  </thead>\n",
       "  <tbody>\n",
       "    <tr>\n",
       "      <th>3</th>\n",
       "      <td>The Wandering Soap Opera</td>\n",
       "      <td>2017</td>\n",
       "      <td>Comedy,Drama,Fantasy</td>\n",
       "      <td>Raoul Ruiz</td>\n",
       "    </tr>\n",
       "    <tr>\n",
       "      <th>5</th>\n",
       "      <td>The Wandering Soap Opera</td>\n",
       "      <td>2017</td>\n",
       "      <td>Comedy,Drama,Fantasy</td>\n",
       "      <td>Valeria Sarmiento</td>\n",
       "    </tr>\n",
       "    <tr>\n",
       "      <th>8</th>\n",
       "      <td>Children of the Green Dragon</td>\n",
       "      <td>2010</td>\n",
       "      <td>Drama</td>\n",
       "      <td>Bence Miklauzic</td>\n",
       "    </tr>\n",
       "    <tr>\n",
       "      <th>9</th>\n",
       "      <td>Children of the Green Dragon</td>\n",
       "      <td>2010</td>\n",
       "      <td>Drama</td>\n",
       "      <td>Bence Miklauzic</td>\n",
       "    </tr>\n",
       "    <tr>\n",
       "      <th>11</th>\n",
       "      <td>The Tragedy of Man</td>\n",
       "      <td>2011</td>\n",
       "      <td>Animation,Drama,History</td>\n",
       "      <td>Marcell Jankovics</td>\n",
       "    </tr>\n",
       "  </tbody>\n",
       "</table>\n",
       "</div>"
      ],
      "text/plain": [
       "                           title  start_year                   genres  \\\n",
       "3       The Wandering Soap Opera        2017     Comedy,Drama,Fantasy   \n",
       "5       The Wandering Soap Opera        2017     Comedy,Drama,Fantasy   \n",
       "8   Children of the Green Dragon        2010                    Drama   \n",
       "9   Children of the Green Dragon        2010                    Drama   \n",
       "11            The Tragedy of Man        2011  Animation,Drama,History   \n",
       "\n",
       "             director  \n",
       "3          Raoul Ruiz  \n",
       "5   Valeria Sarmiento  \n",
       "8     Bence Miklauzic  \n",
       "9     Bence Miklauzic  \n",
       "11  Marcell Jankovics  "
      ]
     },
     "execution_count": 75,
     "metadata": {},
     "output_type": "execute_result"
    }
   ],
   "source": [
    "#Check for duplicates\n",
    "duplicates = movies_data[movies_data.duplicated()]\n",
    "print(len(duplicates))\n",
    "duplicates.head()"
   ]
  },
  {
   "cell_type": "code",
   "execution_count": 76,
   "metadata": {},
   "outputs": [
    {
     "name": "stdout",
     "output_type": "stream",
     "text": [
      "21321\n"
     ]
    },
    {
     "data": {
      "text/html": [
       "<div>\n",
       "<style scoped>\n",
       "    .dataframe tbody tr th:only-of-type {\n",
       "        vertical-align: middle;\n",
       "    }\n",
       "\n",
       "    .dataframe tbody tr th {\n",
       "        vertical-align: top;\n",
       "    }\n",
       "\n",
       "    .dataframe thead th {\n",
       "        text-align: right;\n",
       "    }\n",
       "</style>\n",
       "<table border=\"1\" class=\"dataframe\">\n",
       "  <thead>\n",
       "    <tr style=\"text-align: right;\">\n",
       "      <th></th>\n",
       "      <th>title</th>\n",
       "      <th>start_year</th>\n",
       "      <th>genres</th>\n",
       "      <th>director</th>\n",
       "    </tr>\n",
       "  </thead>\n",
       "  <tbody>\n",
       "    <tr>\n",
       "      <th>0</th>\n",
       "      <td>One Day Before the Rainy Season</td>\n",
       "      <td>2019</td>\n",
       "      <td>Biography,Drama</td>\n",
       "      <td>Mani Kaul</td>\n",
       "    </tr>\n",
       "    <tr>\n",
       "      <th>1</th>\n",
       "      <td>Sabse Bada Sukh</td>\n",
       "      <td>2018</td>\n",
       "      <td>Comedy,Drama</td>\n",
       "      <td>Hrishikesh Mukherjee</td>\n",
       "    </tr>\n",
       "    <tr>\n",
       "      <th>2</th>\n",
       "      <td>The Wandering Soap Opera</td>\n",
       "      <td>2017</td>\n",
       "      <td>Comedy,Drama,Fantasy</td>\n",
       "      <td>Raoul Ruiz</td>\n",
       "    </tr>\n",
       "    <tr>\n",
       "      <th>4</th>\n",
       "      <td>The Wandering Soap Opera</td>\n",
       "      <td>2017</td>\n",
       "      <td>Comedy,Drama,Fantasy</td>\n",
       "      <td>Valeria Sarmiento</td>\n",
       "    </tr>\n",
       "    <tr>\n",
       "      <th>6</th>\n",
       "      <td>So Much for Justice!</td>\n",
       "      <td>2010</td>\n",
       "      <td>History</td>\n",
       "      <td>Miklós Jancsó</td>\n",
       "    </tr>\n",
       "  </tbody>\n",
       "</table>\n",
       "</div>"
      ],
      "text/plain": [
       "                             title  start_year                genres  \\\n",
       "0  One Day Before the Rainy Season        2019       Biography,Drama   \n",
       "1                  Sabse Bada Sukh        2018          Comedy,Drama   \n",
       "2         The Wandering Soap Opera        2017  Comedy,Drama,Fantasy   \n",
       "4         The Wandering Soap Opera        2017  Comedy,Drama,Fantasy   \n",
       "6             So Much for Justice!        2010               History   \n",
       "\n",
       "               director  \n",
       "0             Mani Kaul  \n",
       "1  Hrishikesh Mukherjee  \n",
       "2            Raoul Ruiz  \n",
       "4     Valeria Sarmiento  \n",
       "6         Miklós Jancsó  "
      ]
     },
     "execution_count": 76,
     "metadata": {},
     "output_type": "execute_result"
    }
   ],
   "source": [
    "# Remove Duplicates\n",
    "movies_data.drop_duplicates(inplace=True)\n",
    "print(len(movies_data))\n",
    "movies_data.head()"
   ]
  },
  {
   "cell_type": "code",
   "execution_count": 77,
   "metadata": {},
   "outputs": [
    {
     "name": "stdout",
     "output_type": "stream",
     "text": [
      "title \n",
      " ABCs of Death 2                      0.001454\n",
      "Hongmao and Lantu: Phoenix Rising    0.000750\n",
      "Secrets of the North Sea             0.000610\n",
      "Bridges of Sarajevo                  0.000610\n",
      "Wonderland                           0.000610\n",
      "Name: title, dtype: float64 \n",
      "\n",
      "start_year \n",
      " 2014    0.113222\n",
      "2015    0.113175\n",
      "2013    0.112284\n",
      "2012    0.108531\n",
      "2016    0.107312\n",
      "Name: start_year, dtype: float64 \n",
      "\n",
      "genres \n",
      " Drama            0.218079\n",
      "Documentary      0.140973\n",
      "Comedy           0.061009\n",
      "Comedy,Drama     0.039148\n",
      "Drama,Romance    0.026242\n",
      "Name: genres, dtype: float64 \n",
      "\n",
      "director \n",
      " Takashi Miike      0.000844\n",
      "Jing Wong          0.000844\n",
      "Poj Arnon          0.000797\n",
      "Koichi Sakamoto    0.000797\n",
      "Herman Yau         0.000797\n",
      "Name: director, dtype: float64 \n",
      "\n"
     ]
    }
   ],
   "source": [
    "#Check for extraneous values\n",
    "for col in movies_data.columns:\n",
    "    print(col, '\\n', movies_data[col].value_counts(normalize=True).head(), '\\n')"
   ]
  },
  {
   "cell_type": "code",
   "execution_count": 78,
   "metadata": {},
   "outputs": [
    {
     "data": {
      "text/plain": [
       "20997"
      ]
     },
     "execution_count": 78,
     "metadata": {},
     "output_type": "execute_result"
    }
   ],
   "source": [
    "#Drop Null values\n",
    "movies_data.dropna(inplace=True)\n",
    "len(movies_data)"
   ]
  },
  {
   "cell_type": "markdown",
   "metadata": {},
   "source": [
    "### 3.2 The Numbers"
   ]
  },
  {
   "cell_type": "markdown",
   "metadata": {},
   "source": [
    "This dataset is key to findind out ROI numbers.  "
   ]
  },
  {
   "cell_type": "code",
   "execution_count": 15,
   "metadata": {},
   "outputs": [
    {
     "name": "stdout",
     "output_type": "stream",
     "text": [
      "0\n"
     ]
    }
   ],
   "source": [
    "#Check for duplicates\n",
    "duplicates = numbers_df[numbers_df.duplicated()]\n",
    "print(len(duplicates))"
   ]
  },
  {
   "cell_type": "code",
   "execution_count": 16,
   "metadata": {},
   "outputs": [
    {
     "name": "stdout",
     "output_type": "stream",
     "text": [
      "id \n",
      " 4     0.010031\n",
      "53    0.010031\n",
      "61    0.010031\n",
      "65    0.010031\n",
      "69    0.010031\n",
      "Name: id, dtype: float64 \n",
      "\n",
      "\n",
      "release_date \n",
      " Dec 31, 2014    0.004151\n",
      "Dec 31, 2015    0.003978\n",
      "Dec 31, 2010    0.002594\n",
      "Dec 31, 2008    0.002421\n",
      "Dec 31, 2013    0.002248\n",
      "Name: release_date, dtype: float64 \n",
      "\n",
      "\n",
      "movie \n",
      " Halloween          0.000519\n",
      "Home               0.000519\n",
      "King Kong          0.000519\n",
      "Peteâs Dragon    0.000346\n",
      "The Square         0.000346\n",
      "Name: movie, dtype: float64 \n",
      "\n",
      "\n",
      "production_budget \n",
      " $20,000,000    0.039952\n",
      "$10,000,000    0.036666\n",
      "$30,000,000    0.030612\n",
      "$15,000,000    0.029920\n",
      "$25,000,000    0.029575\n",
      "Name: production_budget, dtype: float64 \n",
      "\n",
      "\n",
      "domestic_gross \n",
      " $0             0.094777\n",
      "$8,000,000     0.001557\n",
      "$7,000,000     0.001211\n",
      "$2,000,000     0.001211\n",
      "$10,000,000    0.001038\n",
      "Name: domestic_gross, dtype: float64 \n",
      "\n",
      "\n",
      "worldwide_gross \n",
      " $0             0.063473\n",
      "$8,000,000     0.001557\n",
      "$2,000,000     0.001038\n",
      "$7,000,000     0.001038\n",
      "$11,000,000    0.000692\n",
      "Name: worldwide_gross, dtype: float64 \n",
      "\n",
      "\n"
     ]
    }
   ],
   "source": [
    "#Check for extraneous values\n",
    "for col in numbers_df.columns:\n",
    "    print(col, '\\n', numbers_df[col].value_counts(normalize=True).head(), '\\n\\n')"
   ]
  },
  {
   "cell_type": "markdown",
   "metadata": {},
   "source": [
    "Unfortunately, this dataset contains some movies that do not have reported worldwide gross numbers. These will be dropped, but first, I will convert the columns to their appropiate data type. "
   ]
  },
  {
   "cell_type": "code",
   "execution_count": 17,
   "metadata": {},
   "outputs": [
    {
     "data": {
      "text/html": [
       "<div>\n",
       "<style scoped>\n",
       "    .dataframe tbody tr th:only-of-type {\n",
       "        vertical-align: middle;\n",
       "    }\n",
       "\n",
       "    .dataframe tbody tr th {\n",
       "        vertical-align: top;\n",
       "    }\n",
       "\n",
       "    .dataframe thead th {\n",
       "        text-align: right;\n",
       "    }\n",
       "</style>\n",
       "<table border=\"1\" class=\"dataframe\">\n",
       "  <thead>\n",
       "    <tr style=\"text-align: right;\">\n",
       "      <th></th>\n",
       "      <th>id</th>\n",
       "      <th>release_date</th>\n",
       "      <th>movie</th>\n",
       "      <th>production_budget</th>\n",
       "      <th>domestic_gross</th>\n",
       "      <th>worldwide_gross</th>\n",
       "    </tr>\n",
       "  </thead>\n",
       "  <tbody>\n",
       "    <tr>\n",
       "      <th>0</th>\n",
       "      <td>1</td>\n",
       "      <td>2009-12-18</td>\n",
       "      <td>Avatar</td>\n",
       "      <td>$425,000,000</td>\n",
       "      <td>$760,507,625</td>\n",
       "      <td>$2,776,345,279</td>\n",
       "    </tr>\n",
       "    <tr>\n",
       "      <th>1</th>\n",
       "      <td>2</td>\n",
       "      <td>2011-05-20</td>\n",
       "      <td>Pirates of the Caribbean: On Stranger Tides</td>\n",
       "      <td>$410,600,000</td>\n",
       "      <td>$241,063,875</td>\n",
       "      <td>$1,045,663,875</td>\n",
       "    </tr>\n",
       "    <tr>\n",
       "      <th>2</th>\n",
       "      <td>3</td>\n",
       "      <td>2019-06-07</td>\n",
       "      <td>Dark Phoenix</td>\n",
       "      <td>$350,000,000</td>\n",
       "      <td>$42,762,350</td>\n",
       "      <td>$149,762,350</td>\n",
       "    </tr>\n",
       "    <tr>\n",
       "      <th>3</th>\n",
       "      <td>4</td>\n",
       "      <td>2015-05-01</td>\n",
       "      <td>Avengers: Age of Ultron</td>\n",
       "      <td>$330,600,000</td>\n",
       "      <td>$459,005,868</td>\n",
       "      <td>$1,403,013,963</td>\n",
       "    </tr>\n",
       "    <tr>\n",
       "      <th>4</th>\n",
       "      <td>5</td>\n",
       "      <td>2017-12-15</td>\n",
       "      <td>Star Wars Ep. VIII: The Last Jedi</td>\n",
       "      <td>$317,000,000</td>\n",
       "      <td>$620,181,382</td>\n",
       "      <td>$1,316,721,747</td>\n",
       "    </tr>\n",
       "  </tbody>\n",
       "</table>\n",
       "</div>"
      ],
      "text/plain": [
       "   id release_date                                        movie  \\\n",
       "0   1   2009-12-18                                       Avatar   \n",
       "1   2   2011-05-20  Pirates of the Caribbean: On Stranger Tides   \n",
       "2   3   2019-06-07                                 Dark Phoenix   \n",
       "3   4   2015-05-01                      Avengers: Age of Ultron   \n",
       "4   5   2017-12-15            Star Wars Ep. VIII: The Last Jedi   \n",
       "\n",
       "  production_budget domestic_gross worldwide_gross  \n",
       "0      $425,000,000   $760,507,625  $2,776,345,279  \n",
       "1      $410,600,000   $241,063,875  $1,045,663,875  \n",
       "2      $350,000,000    $42,762,350    $149,762,350  \n",
       "3      $330,600,000   $459,005,868  $1,403,013,963  \n",
       "4      $317,000,000   $620,181,382  $1,316,721,747  "
      ]
     },
     "execution_count": 17,
     "metadata": {},
     "output_type": "execute_result"
    }
   ],
   "source": [
    "#Converting release_date column to datetime object\n",
    "numbers_df['release_date'] = pd.to_datetime(numbers_df['release_date'])\n",
    "\n",
    "#Filter results to movies released after 1969 - start of the New Hollywood Era \n",
    "numbers_df = numbers_df.loc[numbers_df['release_date'] >= '1969']\n",
    "\n",
    "#Create release_year column with datatype integer\n",
    "\n",
    "#Review results\n",
    "numbers_df.head()"
   ]
  },
  {
   "cell_type": "code",
   "execution_count": 18,
   "metadata": {},
   "outputs": [
    {
     "data": {
      "text/html": [
       "<div>\n",
       "<style scoped>\n",
       "    .dataframe tbody tr th:only-of-type {\n",
       "        vertical-align: middle;\n",
       "    }\n",
       "\n",
       "    .dataframe tbody tr th {\n",
       "        vertical-align: top;\n",
       "    }\n",
       "\n",
       "    .dataframe thead th {\n",
       "        text-align: right;\n",
       "    }\n",
       "</style>\n",
       "<table border=\"1\" class=\"dataframe\">\n",
       "  <thead>\n",
       "    <tr style=\"text-align: right;\">\n",
       "      <th></th>\n",
       "      <th>id</th>\n",
       "      <th>release_date</th>\n",
       "      <th>movie</th>\n",
       "      <th>production_budget</th>\n",
       "      <th>domestic_gross</th>\n",
       "      <th>worldwide_gross</th>\n",
       "    </tr>\n",
       "  </thead>\n",
       "  <tbody>\n",
       "    <tr>\n",
       "      <th>0</th>\n",
       "      <td>1</td>\n",
       "      <td>2009-12-18</td>\n",
       "      <td>Avatar</td>\n",
       "      <td>425000000</td>\n",
       "      <td>760507625</td>\n",
       "      <td>2776345279</td>\n",
       "    </tr>\n",
       "    <tr>\n",
       "      <th>1</th>\n",
       "      <td>2</td>\n",
       "      <td>2011-05-20</td>\n",
       "      <td>Pirates of the Caribbean: On Stranger Tides</td>\n",
       "      <td>410600000</td>\n",
       "      <td>241063875</td>\n",
       "      <td>1045663875</td>\n",
       "    </tr>\n",
       "    <tr>\n",
       "      <th>2</th>\n",
       "      <td>3</td>\n",
       "      <td>2019-06-07</td>\n",
       "      <td>Dark Phoenix</td>\n",
       "      <td>350000000</td>\n",
       "      <td>42762350</td>\n",
       "      <td>149762350</td>\n",
       "    </tr>\n",
       "    <tr>\n",
       "      <th>3</th>\n",
       "      <td>4</td>\n",
       "      <td>2015-05-01</td>\n",
       "      <td>Avengers: Age of Ultron</td>\n",
       "      <td>330600000</td>\n",
       "      <td>459005868</td>\n",
       "      <td>1403013963</td>\n",
       "    </tr>\n",
       "    <tr>\n",
       "      <th>4</th>\n",
       "      <td>5</td>\n",
       "      <td>2017-12-15</td>\n",
       "      <td>Star Wars Ep. VIII: The Last Jedi</td>\n",
       "      <td>317000000</td>\n",
       "      <td>620181382</td>\n",
       "      <td>1316721747</td>\n",
       "    </tr>\n",
       "  </tbody>\n",
       "</table>\n",
       "</div>"
      ],
      "text/plain": [
       "   id release_date                                        movie  \\\n",
       "0   1   2009-12-18                                       Avatar   \n",
       "1   2   2011-05-20  Pirates of the Caribbean: On Stranger Tides   \n",
       "2   3   2019-06-07                                 Dark Phoenix   \n",
       "3   4   2015-05-01                      Avengers: Age of Ultron   \n",
       "4   5   2017-12-15            Star Wars Ep. VIII: The Last Jedi   \n",
       "\n",
       "  production_budget domestic_gross worldwide_gross  \n",
       "0         425000000      760507625      2776345279  \n",
       "1         410600000      241063875      1045663875  \n",
       "2         350000000       42762350       149762350  \n",
       "3         330600000      459005868      1403013963  \n",
       "4         317000000      620181382      1316721747  "
      ]
     },
     "execution_count": 18,
     "metadata": {},
     "output_type": "execute_result"
    }
   ],
   "source": [
    "#Convert 'production_budget', 'domestic_gross', 'worldwide_gross' to integers\n",
    "\n",
    "#Remove extra symbols from string\n",
    "cols = ['production_budget', 'domestic_gross', 'worldwide_gross']\n",
    "\n",
    "for col in cols:\n",
    "    numbers_df[col] = numbers_df[col].str.replace('$','').str.replace(',','')\n",
    "numbers_df.head()"
   ]
  },
  {
   "cell_type": "code",
   "execution_count": 19,
   "metadata": {},
   "outputs": [
    {
     "name": "stdout",
     "output_type": "stream",
     "text": [
      "<class 'pandas.core.frame.DataFrame'>\n",
      "Int64Index: 5632 entries, 0 to 5781\n",
      "Data columns (total 6 columns):\n",
      " #   Column             Non-Null Count  Dtype         \n",
      "---  ------             --------------  -----         \n",
      " 0   id                 5632 non-null   int64         \n",
      " 1   release_date       5632 non-null   datetime64[ns]\n",
      " 2   movie              5632 non-null   object        \n",
      " 3   production_budget  5632 non-null   int64         \n",
      " 4   domestic_gross     5632 non-null   int64         \n",
      " 5   worldwide_gross    5632 non-null   int64         \n",
      "dtypes: datetime64[ns](1), int64(4), object(1)\n",
      "memory usage: 308.0+ KB\n"
     ]
    }
   ],
   "source": [
    "#Convert columns to integers\n",
    "\n",
    "cols = ['production_budget', 'domestic_gross', 'worldwide_gross']\n",
    "numbers_df[cols] = numbers_df[cols].apply(pd.to_numeric, axis=1)\n",
    "numbers_df.info()"
   ]
  },
  {
   "cell_type": "code",
   "execution_count": 20,
   "metadata": {},
   "outputs": [
    {
     "data": {
      "text/html": [
       "<div>\n",
       "<style scoped>\n",
       "    .dataframe tbody tr th:only-of-type {\n",
       "        vertical-align: middle;\n",
       "    }\n",
       "\n",
       "    .dataframe tbody tr th {\n",
       "        vertical-align: top;\n",
       "    }\n",
       "\n",
       "    .dataframe thead th {\n",
       "        text-align: right;\n",
       "    }\n",
       "</style>\n",
       "<table border=\"1\" class=\"dataframe\">\n",
       "  <thead>\n",
       "    <tr style=\"text-align: right;\">\n",
       "      <th></th>\n",
       "      <th>id</th>\n",
       "      <th>release_date</th>\n",
       "      <th>movie</th>\n",
       "      <th>production_budget</th>\n",
       "      <th>domestic_gross</th>\n",
       "      <th>worldwide_gross</th>\n",
       "    </tr>\n",
       "  </thead>\n",
       "  <tbody>\n",
       "    <tr>\n",
       "      <th>0</th>\n",
       "      <td>1</td>\n",
       "      <td>2009-12-18</td>\n",
       "      <td>Avatar</td>\n",
       "      <td>425000000</td>\n",
       "      <td>760507625</td>\n",
       "      <td>2776345279</td>\n",
       "    </tr>\n",
       "    <tr>\n",
       "      <th>1</th>\n",
       "      <td>2</td>\n",
       "      <td>2011-05-20</td>\n",
       "      <td>Pirates of the Caribbean: On Stranger Tides</td>\n",
       "      <td>410600000</td>\n",
       "      <td>241063875</td>\n",
       "      <td>1045663875</td>\n",
       "    </tr>\n",
       "    <tr>\n",
       "      <th>2</th>\n",
       "      <td>3</td>\n",
       "      <td>2019-06-07</td>\n",
       "      <td>Dark Phoenix</td>\n",
       "      <td>350000000</td>\n",
       "      <td>42762350</td>\n",
       "      <td>149762350</td>\n",
       "    </tr>\n",
       "    <tr>\n",
       "      <th>3</th>\n",
       "      <td>4</td>\n",
       "      <td>2015-05-01</td>\n",
       "      <td>Avengers: Age of Ultron</td>\n",
       "      <td>330600000</td>\n",
       "      <td>459005868</td>\n",
       "      <td>1403013963</td>\n",
       "    </tr>\n",
       "    <tr>\n",
       "      <th>4</th>\n",
       "      <td>5</td>\n",
       "      <td>2017-12-15</td>\n",
       "      <td>Star Wars Ep. VIII: The Last Jedi</td>\n",
       "      <td>317000000</td>\n",
       "      <td>620181382</td>\n",
       "      <td>1316721747</td>\n",
       "    </tr>\n",
       "    <tr>\n",
       "      <th>...</th>\n",
       "      <td>...</td>\n",
       "      <td>...</td>\n",
       "      <td>...</td>\n",
       "      <td>...</td>\n",
       "      <td>...</td>\n",
       "      <td>...</td>\n",
       "    </tr>\n",
       "    <tr>\n",
       "      <th>5775</th>\n",
       "      <td>76</td>\n",
       "      <td>2006-05-26</td>\n",
       "      <td>Cavite</td>\n",
       "      <td>7000</td>\n",
       "      <td>70071</td>\n",
       "      <td>71644</td>\n",
       "    </tr>\n",
       "    <tr>\n",
       "      <th>5776</th>\n",
       "      <td>77</td>\n",
       "      <td>2004-12-31</td>\n",
       "      <td>The Mongol King</td>\n",
       "      <td>7000</td>\n",
       "      <td>900</td>\n",
       "      <td>900</td>\n",
       "    </tr>\n",
       "    <tr>\n",
       "      <th>5778</th>\n",
       "      <td>79</td>\n",
       "      <td>1999-04-02</td>\n",
       "      <td>Following</td>\n",
       "      <td>6000</td>\n",
       "      <td>48482</td>\n",
       "      <td>240495</td>\n",
       "    </tr>\n",
       "    <tr>\n",
       "      <th>5779</th>\n",
       "      <td>80</td>\n",
       "      <td>2005-07-13</td>\n",
       "      <td>Return to the Land of Wonders</td>\n",
       "      <td>5000</td>\n",
       "      <td>1338</td>\n",
       "      <td>1338</td>\n",
       "    </tr>\n",
       "    <tr>\n",
       "      <th>5781</th>\n",
       "      <td>82</td>\n",
       "      <td>2005-08-05</td>\n",
       "      <td>My Date With Drew</td>\n",
       "      <td>1100</td>\n",
       "      <td>181041</td>\n",
       "      <td>181041</td>\n",
       "    </tr>\n",
       "  </tbody>\n",
       "</table>\n",
       "<p>5279 rows × 6 columns</p>\n",
       "</div>"
      ],
      "text/plain": [
       "      id release_date                                        movie  \\\n",
       "0      1   2009-12-18                                       Avatar   \n",
       "1      2   2011-05-20  Pirates of the Caribbean: On Stranger Tides   \n",
       "2      3   2019-06-07                                 Dark Phoenix   \n",
       "3      4   2015-05-01                      Avengers: Age of Ultron   \n",
       "4      5   2017-12-15            Star Wars Ep. VIII: The Last Jedi   \n",
       "...   ..          ...                                          ...   \n",
       "5775  76   2006-05-26                                       Cavite   \n",
       "5776  77   2004-12-31                              The Mongol King   \n",
       "5778  79   1999-04-02                                    Following   \n",
       "5779  80   2005-07-13                Return to the Land of Wonders   \n",
       "5781  82   2005-08-05                            My Date With Drew   \n",
       "\n",
       "      production_budget  domestic_gross  worldwide_gross  \n",
       "0             425000000       760507625       2776345279  \n",
       "1             410600000       241063875       1045663875  \n",
       "2             350000000        42762350        149762350  \n",
       "3             330600000       459005868       1403013963  \n",
       "4             317000000       620181382       1316721747  \n",
       "...                 ...             ...              ...  \n",
       "5775               7000           70071            71644  \n",
       "5776               7000             900              900  \n",
       "5778               6000           48482           240495  \n",
       "5779               5000            1338             1338  \n",
       "5781               1100          181041           181041  \n",
       "\n",
       "[5279 rows x 6 columns]"
      ]
     },
     "execution_count": 20,
     "metadata": {},
     "output_type": "execute_result"
    }
   ],
   "source": [
    "#Drop rows where worldwide_gross is 0. \n",
    "numbers_df = numbers_df.loc[numbers_df['worldwide_gross'] > 0]\n",
    "numbers_df"
   ]
  },
  {
   "cell_type": "markdown",
   "metadata": {},
   "source": [
    "Now that the data is clean, we can create the 'ROI' (Return on Investment) column with the following formula:"
   ]
  },
  {
   "cell_type": "markdown",
   "metadata": {},
   "source": [
    "$$\n",
    "ROI = \\frac{Net Gross}{Production Budget} * 100\n",
    "$$"
   ]
  },
  {
   "cell_type": "code",
   "execution_count": 51,
   "metadata": {},
   "outputs": [
    {
     "data": {
      "text/html": [
       "<div>\n",
       "<style scoped>\n",
       "    .dataframe tbody tr th:only-of-type {\n",
       "        vertical-align: middle;\n",
       "    }\n",
       "\n",
       "    .dataframe tbody tr th {\n",
       "        vertical-align: top;\n",
       "    }\n",
       "\n",
       "    .dataframe thead th {\n",
       "        text-align: right;\n",
       "    }\n",
       "</style>\n",
       "<table border=\"1\" class=\"dataframe\">\n",
       "  <thead>\n",
       "    <tr style=\"text-align: right;\">\n",
       "      <th></th>\n",
       "      <th>id</th>\n",
       "      <th>release_date</th>\n",
       "      <th>movie</th>\n",
       "      <th>production_budget</th>\n",
       "      <th>domestic_gross</th>\n",
       "      <th>worldwide_gross</th>\n",
       "      <th>ROI</th>\n",
       "      <th>release_year</th>\n",
       "      <th>budget_level</th>\n",
       "      <th>net_profit</th>\n",
       "    </tr>\n",
       "  </thead>\n",
       "  <tbody>\n",
       "    <tr>\n",
       "      <th>0</th>\n",
       "      <td>1</td>\n",
       "      <td>2009-12-18</td>\n",
       "      <td>Avatar</td>\n",
       "      <td>425000000</td>\n",
       "      <td>760507625</td>\n",
       "      <td>2776345279</td>\n",
       "      <td>553.26</td>\n",
       "      <td>2009</td>\n",
       "      <td>high</td>\n",
       "      <td>2351345279</td>\n",
       "    </tr>\n",
       "    <tr>\n",
       "      <th>1</th>\n",
       "      <td>2</td>\n",
       "      <td>2011-05-20</td>\n",
       "      <td>Pirates of the Caribbean: On Stranger Tides</td>\n",
       "      <td>410600000</td>\n",
       "      <td>241063875</td>\n",
       "      <td>1045663875</td>\n",
       "      <td>154.67</td>\n",
       "      <td>2011</td>\n",
       "      <td>high</td>\n",
       "      <td>635063875</td>\n",
       "    </tr>\n",
       "    <tr>\n",
       "      <th>2</th>\n",
       "      <td>3</td>\n",
       "      <td>2019-06-07</td>\n",
       "      <td>Dark Phoenix</td>\n",
       "      <td>350000000</td>\n",
       "      <td>42762350</td>\n",
       "      <td>149762350</td>\n",
       "      <td>-57.21</td>\n",
       "      <td>2019</td>\n",
       "      <td>high</td>\n",
       "      <td>-200237650</td>\n",
       "    </tr>\n",
       "    <tr>\n",
       "      <th>3</th>\n",
       "      <td>4</td>\n",
       "      <td>2015-05-01</td>\n",
       "      <td>Avengers: Age of Ultron</td>\n",
       "      <td>330600000</td>\n",
       "      <td>459005868</td>\n",
       "      <td>1403013963</td>\n",
       "      <td>324.38</td>\n",
       "      <td>2015</td>\n",
       "      <td>high</td>\n",
       "      <td>1072413963</td>\n",
       "    </tr>\n",
       "    <tr>\n",
       "      <th>4</th>\n",
       "      <td>5</td>\n",
       "      <td>2017-12-15</td>\n",
       "      <td>Star Wars Ep. VIII: The Last Jedi</td>\n",
       "      <td>317000000</td>\n",
       "      <td>620181382</td>\n",
       "      <td>1316721747</td>\n",
       "      <td>315.37</td>\n",
       "      <td>2017</td>\n",
       "      <td>high</td>\n",
       "      <td>999721747</td>\n",
       "    </tr>\n",
       "  </tbody>\n",
       "</table>\n",
       "</div>"
      ],
      "text/plain": [
       "   id release_date                                        movie  \\\n",
       "0   1   2009-12-18                                       Avatar   \n",
       "1   2   2011-05-20  Pirates of the Caribbean: On Stranger Tides   \n",
       "2   3   2019-06-07                                 Dark Phoenix   \n",
       "3   4   2015-05-01                      Avengers: Age of Ultron   \n",
       "4   5   2017-12-15            Star Wars Ep. VIII: The Last Jedi   \n",
       "\n",
       "   production_budget  domestic_gross  worldwide_gross     ROI  release_year  \\\n",
       "0          425000000       760507625       2776345279  553.26          2009   \n",
       "1          410600000       241063875       1045663875  154.67          2011   \n",
       "2          350000000        42762350        149762350  -57.21          2019   \n",
       "3          330600000       459005868       1403013963  324.38          2015   \n",
       "4          317000000       620181382       1316721747  315.37          2017   \n",
       "\n",
       "  budget_level  net_profit  \n",
       "0         high  2351345279  \n",
       "1         high   635063875  \n",
       "2         high  -200237650  \n",
       "3         high  1072413963  \n",
       "4         high   999721747  "
      ]
     },
     "execution_count": 51,
     "metadata": {},
     "output_type": "execute_result"
    }
   ],
   "source": [
    "#Adding Net Profit Column\n",
    "numbers_df['net_profit'] = numbers_df['worldwide_gross'] - numbers_df['production_budget']\n",
    "#Adding ROI Column\n",
    "numbers_df['ROI'] = numbers_df['net_profit'] / numbers_df['production_budget'] * 100\n",
    "\n",
    "numbers_df['ROI'] = numbers_df['ROI'].round(decimals=2)\n",
    "\n",
    "numbers_df.head()"
   ]
  },
  {
   "cell_type": "code",
   "execution_count": 52,
   "metadata": {},
   "outputs": [
    {
     "data": {
      "text/html": [
       "<div>\n",
       "<style scoped>\n",
       "    .dataframe tbody tr th:only-of-type {\n",
       "        vertical-align: middle;\n",
       "    }\n",
       "\n",
       "    .dataframe tbody tr th {\n",
       "        vertical-align: top;\n",
       "    }\n",
       "\n",
       "    .dataframe thead th {\n",
       "        text-align: right;\n",
       "    }\n",
       "</style>\n",
       "<table border=\"1\" class=\"dataframe\">\n",
       "  <thead>\n",
       "    <tr style=\"text-align: right;\">\n",
       "      <th></th>\n",
       "      <th>id</th>\n",
       "      <th>release_date</th>\n",
       "      <th>movie</th>\n",
       "      <th>production_budget</th>\n",
       "      <th>domestic_gross</th>\n",
       "      <th>worldwide_gross</th>\n",
       "      <th>ROI</th>\n",
       "      <th>release_year</th>\n",
       "      <th>budget_level</th>\n",
       "      <th>net_profit</th>\n",
       "    </tr>\n",
       "  </thead>\n",
       "  <tbody>\n",
       "    <tr>\n",
       "      <th>0</th>\n",
       "      <td>1</td>\n",
       "      <td>2009-12-18</td>\n",
       "      <td>Avatar</td>\n",
       "      <td>425000000</td>\n",
       "      <td>760507625</td>\n",
       "      <td>2776345279</td>\n",
       "      <td>553.26</td>\n",
       "      <td>2009</td>\n",
       "      <td>high</td>\n",
       "      <td>2351345279</td>\n",
       "    </tr>\n",
       "    <tr>\n",
       "      <th>1</th>\n",
       "      <td>2</td>\n",
       "      <td>2011-05-20</td>\n",
       "      <td>Pirates of the Caribbean: On Stranger Tides</td>\n",
       "      <td>410600000</td>\n",
       "      <td>241063875</td>\n",
       "      <td>1045663875</td>\n",
       "      <td>154.67</td>\n",
       "      <td>2011</td>\n",
       "      <td>high</td>\n",
       "      <td>635063875</td>\n",
       "    </tr>\n",
       "    <tr>\n",
       "      <th>2</th>\n",
       "      <td>3</td>\n",
       "      <td>2019-06-07</td>\n",
       "      <td>Dark Phoenix</td>\n",
       "      <td>350000000</td>\n",
       "      <td>42762350</td>\n",
       "      <td>149762350</td>\n",
       "      <td>-57.21</td>\n",
       "      <td>2019</td>\n",
       "      <td>high</td>\n",
       "      <td>-200237650</td>\n",
       "    </tr>\n",
       "    <tr>\n",
       "      <th>3</th>\n",
       "      <td>4</td>\n",
       "      <td>2015-05-01</td>\n",
       "      <td>Avengers: Age of Ultron</td>\n",
       "      <td>330600000</td>\n",
       "      <td>459005868</td>\n",
       "      <td>1403013963</td>\n",
       "      <td>324.38</td>\n",
       "      <td>2015</td>\n",
       "      <td>high</td>\n",
       "      <td>1072413963</td>\n",
       "    </tr>\n",
       "    <tr>\n",
       "      <th>4</th>\n",
       "      <td>5</td>\n",
       "      <td>2017-12-15</td>\n",
       "      <td>Star Wars Ep. VIII: The Last Jedi</td>\n",
       "      <td>317000000</td>\n",
       "      <td>620181382</td>\n",
       "      <td>1316721747</td>\n",
       "      <td>315.37</td>\n",
       "      <td>2017</td>\n",
       "      <td>high</td>\n",
       "      <td>999721747</td>\n",
       "    </tr>\n",
       "  </tbody>\n",
       "</table>\n",
       "</div>"
      ],
      "text/plain": [
       "   id release_date                                        movie  \\\n",
       "0   1   2009-12-18                                       Avatar   \n",
       "1   2   2011-05-20  Pirates of the Caribbean: On Stranger Tides   \n",
       "2   3   2019-06-07                                 Dark Phoenix   \n",
       "3   4   2015-05-01                      Avengers: Age of Ultron   \n",
       "4   5   2017-12-15            Star Wars Ep. VIII: The Last Jedi   \n",
       "\n",
       "   production_budget  domestic_gross  worldwide_gross     ROI  release_year  \\\n",
       "0          425000000       760507625       2776345279  553.26          2009   \n",
       "1          410600000       241063875       1045663875  154.67          2011   \n",
       "2          350000000        42762350        149762350  -57.21          2019   \n",
       "3          330600000       459005868       1403013963  324.38          2015   \n",
       "4          317000000       620181382       1316721747  315.37          2017   \n",
       "\n",
       "  budget_level  net_profit  \n",
       "0         high  2351345279  \n",
       "1         high   635063875  \n",
       "2         high  -200237650  \n",
       "3         high  1072413963  \n",
       "4         high   999721747  "
      ]
     },
     "execution_count": 52,
     "metadata": {},
     "output_type": "execute_result"
    }
   ],
   "source": [
    "#Add new column \"Year\" as integer\n",
    "numbers_df['release_year'] = pd.DatetimeIndex(numbers_df['release_date']).year\n",
    "\n",
    "numbers_df.head()"
   ]
  },
  {
   "cell_type": "code",
   "execution_count": 53,
   "metadata": {},
   "outputs": [],
   "source": [
    "#Budget ranking - first, define function\n",
    "\n",
    "def budget_ranking(budget):\n",
    "    if budget < 500000:\n",
    "        return \"low\"\n",
    "    elif budget > 50000000:\n",
    "        return \"high\"\n",
    "    else:\n",
    "        return \"mid\""
   ]
  },
  {
   "cell_type": "code",
   "execution_count": 54,
   "metadata": {},
   "outputs": [
    {
     "data": {
      "text/html": [
       "<div>\n",
       "<style scoped>\n",
       "    .dataframe tbody tr th:only-of-type {\n",
       "        vertical-align: middle;\n",
       "    }\n",
       "\n",
       "    .dataframe tbody tr th {\n",
       "        vertical-align: top;\n",
       "    }\n",
       "\n",
       "    .dataframe thead th {\n",
       "        text-align: right;\n",
       "    }\n",
       "</style>\n",
       "<table border=\"1\" class=\"dataframe\">\n",
       "  <thead>\n",
       "    <tr style=\"text-align: right;\">\n",
       "      <th></th>\n",
       "      <th>id</th>\n",
       "      <th>release_date</th>\n",
       "      <th>movie</th>\n",
       "      <th>production_budget</th>\n",
       "      <th>domestic_gross</th>\n",
       "      <th>worldwide_gross</th>\n",
       "      <th>ROI</th>\n",
       "      <th>release_year</th>\n",
       "      <th>budget_level</th>\n",
       "      <th>net_profit</th>\n",
       "    </tr>\n",
       "  </thead>\n",
       "  <tbody>\n",
       "    <tr>\n",
       "      <th>0</th>\n",
       "      <td>1</td>\n",
       "      <td>2009-12-18</td>\n",
       "      <td>Avatar</td>\n",
       "      <td>425000000</td>\n",
       "      <td>760507625</td>\n",
       "      <td>2776345279</td>\n",
       "      <td>553.26</td>\n",
       "      <td>2009</td>\n",
       "      <td>high</td>\n",
       "      <td>2351345279</td>\n",
       "    </tr>\n",
       "    <tr>\n",
       "      <th>1</th>\n",
       "      <td>2</td>\n",
       "      <td>2011-05-20</td>\n",
       "      <td>Pirates of the Caribbean: On Stranger Tides</td>\n",
       "      <td>410600000</td>\n",
       "      <td>241063875</td>\n",
       "      <td>1045663875</td>\n",
       "      <td>154.67</td>\n",
       "      <td>2011</td>\n",
       "      <td>high</td>\n",
       "      <td>635063875</td>\n",
       "    </tr>\n",
       "    <tr>\n",
       "      <th>2</th>\n",
       "      <td>3</td>\n",
       "      <td>2019-06-07</td>\n",
       "      <td>Dark Phoenix</td>\n",
       "      <td>350000000</td>\n",
       "      <td>42762350</td>\n",
       "      <td>149762350</td>\n",
       "      <td>-57.21</td>\n",
       "      <td>2019</td>\n",
       "      <td>high</td>\n",
       "      <td>-200237650</td>\n",
       "    </tr>\n",
       "    <tr>\n",
       "      <th>3</th>\n",
       "      <td>4</td>\n",
       "      <td>2015-05-01</td>\n",
       "      <td>Avengers: Age of Ultron</td>\n",
       "      <td>330600000</td>\n",
       "      <td>459005868</td>\n",
       "      <td>1403013963</td>\n",
       "      <td>324.38</td>\n",
       "      <td>2015</td>\n",
       "      <td>high</td>\n",
       "      <td>1072413963</td>\n",
       "    </tr>\n",
       "    <tr>\n",
       "      <th>4</th>\n",
       "      <td>5</td>\n",
       "      <td>2017-12-15</td>\n",
       "      <td>Star Wars Ep. VIII: The Last Jedi</td>\n",
       "      <td>317000000</td>\n",
       "      <td>620181382</td>\n",
       "      <td>1316721747</td>\n",
       "      <td>315.37</td>\n",
       "      <td>2017</td>\n",
       "      <td>high</td>\n",
       "      <td>999721747</td>\n",
       "    </tr>\n",
       "  </tbody>\n",
       "</table>\n",
       "</div>"
      ],
      "text/plain": [
       "   id release_date                                        movie  \\\n",
       "0   1   2009-12-18                                       Avatar   \n",
       "1   2   2011-05-20  Pirates of the Caribbean: On Stranger Tides   \n",
       "2   3   2019-06-07                                 Dark Phoenix   \n",
       "3   4   2015-05-01                      Avengers: Age of Ultron   \n",
       "4   5   2017-12-15            Star Wars Ep. VIII: The Last Jedi   \n",
       "\n",
       "   production_budget  domestic_gross  worldwide_gross     ROI  release_year  \\\n",
       "0          425000000       760507625       2776345279  553.26          2009   \n",
       "1          410600000       241063875       1045663875  154.67          2011   \n",
       "2          350000000        42762350        149762350  -57.21          2019   \n",
       "3          330600000       459005868       1403013963  324.38          2015   \n",
       "4          317000000       620181382       1316721747  315.37          2017   \n",
       "\n",
       "  budget_level  net_profit  \n",
       "0         high  2351345279  \n",
       "1         high   635063875  \n",
       "2         high  -200237650  \n",
       "3         high  1072413963  \n",
       "4         high   999721747  "
      ]
     },
     "execution_count": 54,
     "metadata": {},
     "output_type": "execute_result"
    }
   ],
   "source": [
    "#Create new column and apply function\n",
    "\n",
    "numbers_df['budget_level'] = numbers_df['production_budget'].apply(budget_ranking)\n",
    "numbers_df.head()"
   ]
  },
  {
   "cell_type": "markdown",
   "metadata": {},
   "source": [
    "### 3.3 The Academy Awards"
   ]
  },
  {
   "cell_type": "code",
   "execution_count": 55,
   "metadata": {},
   "outputs": [
    {
     "name": "stdout",
     "output_type": "stream",
     "text": [
      "Min year:  1969\n",
      "Max year:  2019\n"
     ]
    }
   ],
   "source": [
    "#Filtering for films made between 1969 and 2019\n",
    "\n",
    "oscars_df = oscars_df.loc[(oscars_df['year_film'] >= 1969) & (oscars_df['year_film'] <= 2019)]\n",
    "print(\"Min year: \", oscars_df['year_film'].min())\n",
    "print(\"Max year: \", oscars_df['year_film'].max())\n"
   ]
  },
  {
   "cell_type": "code",
   "execution_count": 56,
   "metadata": {},
   "outputs": [
    {
     "name": "stdout",
     "output_type": "stream",
     "text": [
      "0\n"
     ]
    }
   ],
   "source": [
    "#Check for duplicates\n",
    "duplicates = oscars_df[oscars_df.duplicated()]\n",
    "print(len(duplicates))"
   ]
  },
  {
   "cell_type": "code",
   "execution_count": 57,
   "metadata": {},
   "outputs": [
    {
     "data": {
      "text/html": [
       "<div>\n",
       "<style scoped>\n",
       "    .dataframe tbody tr th:only-of-type {\n",
       "        vertical-align: middle;\n",
       "    }\n",
       "\n",
       "    .dataframe tbody tr th {\n",
       "        vertical-align: top;\n",
       "    }\n",
       "\n",
       "    .dataframe thead th {\n",
       "        text-align: right;\n",
       "    }\n",
       "</style>\n",
       "<table border=\"1\" class=\"dataframe\">\n",
       "  <thead>\n",
       "    <tr style=\"text-align: right;\">\n",
       "      <th></th>\n",
       "      <th>year_film</th>\n",
       "      <th>year_ceremony</th>\n",
       "      <th>ceremony</th>\n",
       "      <th>category</th>\n",
       "      <th>name</th>\n",
       "      <th>film</th>\n",
       "      <th>winner</th>\n",
       "    </tr>\n",
       "  </thead>\n",
       "  <tbody>\n",
       "  </tbody>\n",
       "</table>\n",
       "</div>"
      ],
      "text/plain": [
       "Empty DataFrame\n",
       "Columns: [year_film, year_ceremony, ceremony, category, name, film, winner]\n",
       "Index: []"
      ]
     },
     "execution_count": 57,
     "metadata": {},
     "output_type": "execute_result"
    }
   ],
   "source": [
    "duplicates"
   ]
  },
  {
   "cell_type": "code",
   "execution_count": 58,
   "metadata": {},
   "outputs": [
    {
     "name": "stdout",
     "output_type": "stream",
     "text": [
      "year_film \n",
      " 2010    0.022250\n",
      "2009    0.022250\n",
      "2013    0.021615\n",
      "2011    0.021615\n",
      "2012    0.021615\n",
      "Name: year_film, dtype: float64 \n",
      "\n",
      "\n",
      "year_ceremony \n",
      " 2011    0.022250\n",
      "2010    0.022250\n",
      "2014    0.021615\n",
      "2012    0.021615\n",
      "2013    0.021615\n",
      "Name: year_ceremony, dtype: float64 \n",
      "\n",
      "\n",
      "ceremony \n",
      " 83    0.022250\n",
      "82    0.022250\n",
      "86    0.021615\n",
      "84    0.021615\n",
      "85    0.021615\n",
      "Name: ceremony, dtype: float64 \n",
      "\n",
      "\n",
      "category \n",
      " BEST PICTURE                    0.189447\n",
      "ACTRESS IN A SUPPORTING ROLE    0.162111\n",
      "ACTOR IN A SUPPORTING ROLE      0.162111\n",
      "DIRECTING                       0.162111\n",
      "ACTOR IN A LEADING ROLE         0.139860\n",
      "Name: category, dtype: float64 \n",
      "\n",
      "\n",
      "name \n",
      " Meryl Streep         0.013350\n",
      "Jack Nicholson       0.007629\n",
      "Martin Scorsese      0.005722\n",
      "Al Pacino            0.005722\n",
      "Denzel Washington    0.005086\n",
      "Name: name, dtype: float64 \n",
      "\n",
      "\n",
      "film \n",
      " Network                    0.004450\n",
      "The Godfather Part II      0.004450\n",
      "Rocky                      0.003814\n",
      "Silver Linings Playbook    0.003814\n",
      "American Hustle            0.003814\n",
      "Name: film, dtype: float64 \n",
      "\n",
      "\n",
      "winner \n",
      " False    0.805467\n",
      "True     0.194533\n",
      "Name: winner, dtype: float64 \n",
      "\n",
      "\n"
     ]
    }
   ],
   "source": [
    "#Check for extraneous values\n",
    "for col in oscars_df.columns:\n",
    "    print(col, '\\n', oscars_df[col].value_counts(normalize=True).head(), '\\n\\n')"
   ]
  },
  {
   "cell_type": "markdown",
   "metadata": {},
   "source": [
    "Some winners seem to be countries. This is an issue of who wins the award. For this analysis, we will only be looking at best actress, best actor, best director, and best picture awards. "
   ]
  },
  {
   "cell_type": "code",
   "execution_count": 59,
   "metadata": {},
   "outputs": [
    {
     "data": {
      "text/plain": [
       "array(['ACTOR', 'ACTOR IN A SUPPORTING ROLE', 'ACTRESS',\n",
       "       'ACTRESS IN A SUPPORTING ROLE', 'DIRECTING', 'BEST PICTURE',\n",
       "       'ACTOR IN A LEADING ROLE', 'ACTRESS IN A LEADING ROLE'],\n",
       "      dtype=object)"
      ]
     },
     "execution_count": 59,
     "metadata": {},
     "output_type": "execute_result"
    }
   ],
   "source": [
    "#Filter by award data types\n",
    "oscars_df['category'].unique()"
   ]
  },
  {
   "cell_type": "code",
   "execution_count": 60,
   "metadata": {},
   "outputs": [
    {
     "data": {
      "text/plain": [
       "array(['ACTOR', 'ACTOR IN A SUPPORTING ROLE', 'ACTRESS',\n",
       "       'ACTRESS IN A SUPPORTING ROLE', 'DIRECTING', 'BEST PICTURE',\n",
       "       'ACTOR IN A LEADING ROLE', 'ACTRESS IN A LEADING ROLE'],\n",
       "      dtype=object)"
      ]
     },
     "execution_count": 60,
     "metadata": {},
     "output_type": "execute_result"
    }
   ],
   "source": [
    "#Remove non-relevent awards\n",
    "oscars_df = oscars_df[(oscars_df['category'].str.contains('act|directing|picture', case=False)) & \\\n",
    "                      (~oscars_df['category'].str.contains('writing|music|short', case=False))]\n",
    "oscars_df['category'].unique()"
   ]
  },
  {
   "cell_type": "code",
   "execution_count": 61,
   "metadata": {},
   "outputs": [
    {
     "data": {
      "text/html": [
       "<div>\n",
       "<style scoped>\n",
       "    .dataframe tbody tr th:only-of-type {\n",
       "        vertical-align: middle;\n",
       "    }\n",
       "\n",
       "    .dataframe tbody tr th {\n",
       "        vertical-align: top;\n",
       "    }\n",
       "\n",
       "    .dataframe thead th {\n",
       "        text-align: right;\n",
       "    }\n",
       "</style>\n",
       "<table border=\"1\" class=\"dataframe\">\n",
       "  <thead>\n",
       "    <tr style=\"text-align: right;\">\n",
       "      <th></th>\n",
       "      <th>year_film</th>\n",
       "      <th>year_ceremony</th>\n",
       "      <th>ceremony</th>\n",
       "      <th>category</th>\n",
       "      <th>name</th>\n",
       "      <th>film</th>\n",
       "      <th>winner</th>\n",
       "    </tr>\n",
       "  </thead>\n",
       "  <tbody>\n",
       "    <tr>\n",
       "      <th>4668</th>\n",
       "      <td>1969</td>\n",
       "      <td>1970</td>\n",
       "      <td>42</td>\n",
       "      <td>ACTOR</td>\n",
       "      <td>Richard Burton</td>\n",
       "      <td>Anne of the Thousand Days</td>\n",
       "      <td>False</td>\n",
       "    </tr>\n",
       "    <tr>\n",
       "      <th>4669</th>\n",
       "      <td>1969</td>\n",
       "      <td>1970</td>\n",
       "      <td>42</td>\n",
       "      <td>ACTOR</td>\n",
       "      <td>Dustin Hoffman</td>\n",
       "      <td>Midnight Cowboy</td>\n",
       "      <td>False</td>\n",
       "    </tr>\n",
       "    <tr>\n",
       "      <th>4670</th>\n",
       "      <td>1969</td>\n",
       "      <td>1970</td>\n",
       "      <td>42</td>\n",
       "      <td>ACTOR</td>\n",
       "      <td>Peter O'Toole</td>\n",
       "      <td>Goodbye, Mr. Chips</td>\n",
       "      <td>False</td>\n",
       "    </tr>\n",
       "    <tr>\n",
       "      <th>4671</th>\n",
       "      <td>1969</td>\n",
       "      <td>1970</td>\n",
       "      <td>42</td>\n",
       "      <td>ACTOR</td>\n",
       "      <td>Jon Voight</td>\n",
       "      <td>Midnight Cowboy</td>\n",
       "      <td>False</td>\n",
       "    </tr>\n",
       "    <tr>\n",
       "      <th>4672</th>\n",
       "      <td>1969</td>\n",
       "      <td>1970</td>\n",
       "      <td>42</td>\n",
       "      <td>ACTOR</td>\n",
       "      <td>John Wayne</td>\n",
       "      <td>True Grit</td>\n",
       "      <td>True</td>\n",
       "    </tr>\n",
       "  </tbody>\n",
       "</table>\n",
       "</div>"
      ],
      "text/plain": [
       "      year_film  year_ceremony  ceremony category            name  \\\n",
       "4668       1969           1970        42    ACTOR  Richard Burton   \n",
       "4669       1969           1970        42    ACTOR  Dustin Hoffman   \n",
       "4670       1969           1970        42    ACTOR   Peter O'Toole   \n",
       "4671       1969           1970        42    ACTOR      Jon Voight   \n",
       "4672       1969           1970        42    ACTOR      John Wayne   \n",
       "\n",
       "                           film  winner  \n",
       "4668  Anne of the Thousand Days   False  \n",
       "4669            Midnight Cowboy   False  \n",
       "4670         Goodbye, Mr. Chips   False  \n",
       "4671            Midnight Cowboy   False  \n",
       "4672                  True Grit    True  "
      ]
     },
     "execution_count": 61,
     "metadata": {},
     "output_type": "execute_result"
    }
   ],
   "source": [
    "#Recheck table\n",
    "oscars_df.head()"
   ]
  },
  {
   "cell_type": "code",
   "execution_count": 62,
   "metadata": {},
   "outputs": [
    {
     "name": "stdout",
     "output_type": "stream",
     "text": [
      "<class 'pandas.core.frame.DataFrame'>\n",
      "Int64Index: 1573 entries, 4668 to 10350\n",
      "Data columns (total 7 columns):\n",
      " #   Column         Non-Null Count  Dtype \n",
      "---  ------         --------------  ----- \n",
      " 0   year_film      1573 non-null   int64 \n",
      " 1   year_ceremony  1573 non-null   int64 \n",
      " 2   ceremony       1573 non-null   int64 \n",
      " 3   category       1573 non-null   object\n",
      " 4   name           1573 non-null   object\n",
      " 5   film           1573 non-null   object\n",
      " 6   winner         1573 non-null   bool  \n",
      "dtypes: bool(1), int64(3), object(3)\n",
      "memory usage: 87.6+ KB\n"
     ]
    }
   ],
   "source": [
    "oscars_df.info()"
   ]
  },
  {
   "cell_type": "code",
   "execution_count": 63,
   "metadata": {},
   "outputs": [
    {
     "data": {
      "text/html": [
       "<div>\n",
       "<style scoped>\n",
       "    .dataframe tbody tr th:only-of-type {\n",
       "        vertical-align: middle;\n",
       "    }\n",
       "\n",
       "    .dataframe tbody tr th {\n",
       "        vertical-align: top;\n",
       "    }\n",
       "\n",
       "    .dataframe thead th {\n",
       "        text-align: right;\n",
       "    }\n",
       "</style>\n",
       "<table border=\"1\" class=\"dataframe\">\n",
       "  <thead>\n",
       "    <tr style=\"text-align: right;\">\n",
       "      <th></th>\n",
       "      <th>year_film</th>\n",
       "      <th>year_ceremony</th>\n",
       "      <th>ceremony</th>\n",
       "      <th>category</th>\n",
       "      <th>name</th>\n",
       "      <th>film</th>\n",
       "      <th>winner</th>\n",
       "    </tr>\n",
       "  </thead>\n",
       "  <tbody>\n",
       "    <tr>\n",
       "      <th>4743</th>\n",
       "      <td>1969</td>\n",
       "      <td>1970</td>\n",
       "      <td>42</td>\n",
       "      <td>BEST PICTURE</td>\n",
       "      <td>Hal B. Wallis, Producer</td>\n",
       "      <td>Anne of the Thousand Days</td>\n",
       "      <td>False</td>\n",
       "    </tr>\n",
       "    <tr>\n",
       "      <th>4744</th>\n",
       "      <td>1969</td>\n",
       "      <td>1970</td>\n",
       "      <td>42</td>\n",
       "      <td>BEST PICTURE</td>\n",
       "      <td>John Foreman, Producer</td>\n",
       "      <td>Butch Cassidy and the Sundance Kid</td>\n",
       "      <td>False</td>\n",
       "    </tr>\n",
       "    <tr>\n",
       "      <th>4745</th>\n",
       "      <td>1969</td>\n",
       "      <td>1970</td>\n",
       "      <td>42</td>\n",
       "      <td>BEST PICTURE</td>\n",
       "      <td>Ernest Lehman, Producer</td>\n",
       "      <td>Hello, Dolly!</td>\n",
       "      <td>False</td>\n",
       "    </tr>\n",
       "    <tr>\n",
       "      <th>4746</th>\n",
       "      <td>1969</td>\n",
       "      <td>1970</td>\n",
       "      <td>42</td>\n",
       "      <td>BEST PICTURE</td>\n",
       "      <td>Jerome Hellman, Producer</td>\n",
       "      <td>Midnight Cowboy</td>\n",
       "      <td>True</td>\n",
       "    </tr>\n",
       "    <tr>\n",
       "      <th>4747</th>\n",
       "      <td>1969</td>\n",
       "      <td>1970</td>\n",
       "      <td>42</td>\n",
       "      <td>BEST PICTURE</td>\n",
       "      <td>Jacques Perrin and Hamed Rachedi, Producers</td>\n",
       "      <td>Z</td>\n",
       "      <td>False</td>\n",
       "    </tr>\n",
       "  </tbody>\n",
       "</table>\n",
       "</div>"
      ],
      "text/plain": [
       "      year_film  year_ceremony  ceremony      category  \\\n",
       "4743       1969           1970        42  BEST PICTURE   \n",
       "4744       1969           1970        42  BEST PICTURE   \n",
       "4745       1969           1970        42  BEST PICTURE   \n",
       "4746       1969           1970        42  BEST PICTURE   \n",
       "4747       1969           1970        42  BEST PICTURE   \n",
       "\n",
       "                                             name  \\\n",
       "4743                      Hal B. Wallis, Producer   \n",
       "4744                       John Foreman, Producer   \n",
       "4745                      Ernest Lehman, Producer   \n",
       "4746                     Jerome Hellman, Producer   \n",
       "4747  Jacques Perrin and Hamed Rachedi, Producers   \n",
       "\n",
       "                                    film  winner  \n",
       "4743           Anne of the Thousand Days   False  \n",
       "4744  Butch Cassidy and the Sundance Kid   False  \n",
       "4745                       Hello, Dolly!   False  \n",
       "4746                     Midnight Cowboy    True  \n",
       "4747                                   Z   False  "
      ]
     },
     "execution_count": 63,
     "metadata": {},
     "output_type": "execute_result"
    }
   ],
   "source": [
    "#Separate best picture awards from film staff awards\n",
    "picture_awards = oscars_df[(oscars_df['category'].str.contains('picture', case=False)) &\n",
    "                           (~oscars_df['category'].str.contains('directing', case=False))]\n",
    "\n",
    "picture_awards.head()"
   ]
  },
  {
   "cell_type": "code",
   "execution_count": 64,
   "metadata": {},
   "outputs": [
    {
     "name": "stdout",
     "output_type": "stream",
     "text": [
      "<class 'pandas.core.frame.DataFrame'>\n",
      "Int64Index: 298 entries, 4743 to 10350\n",
      "Data columns (total 7 columns):\n",
      " #   Column         Non-Null Count  Dtype \n",
      "---  ------         --------------  ----- \n",
      " 0   year_film      298 non-null    int64 \n",
      " 1   year_ceremony  298 non-null    int64 \n",
      " 2   ceremony       298 non-null    int64 \n",
      " 3   category       298 non-null    object\n",
      " 4   name           298 non-null    object\n",
      " 5   film           298 non-null    object\n",
      " 6   winner         298 non-null    bool  \n",
      "dtypes: bool(1), int64(3), object(3)\n",
      "memory usage: 16.6+ KB\n"
     ]
    }
   ],
   "source": [
    "picture_awards.info()"
   ]
  },
  {
   "cell_type": "code",
   "execution_count": 65,
   "metadata": {},
   "outputs": [
    {
     "name": "stdout",
     "output_type": "stream",
     "text": [
      "category \n",
      " BEST PICTURE    1.0\n",
      "Name: category, dtype: float64 \n",
      "\n",
      "\n",
      "name \n",
      " Lawrence Bender, Producer                           0.010067\n",
      "Irwin Winkler and Robert Chartoff, Producers        0.010067\n",
      "Steven Spielberg and Kathleen Kennedy, Producers    0.010067\n",
      "Graham King, Producer                               0.006711\n",
      "Peter Yates, Producer                               0.006711\n",
      "Saul Zaentz, Producer                               0.006711\n",
      "Arnold Kopelson, Producer                           0.006711\n",
      "David Puttnam, Producer                             0.006711\n",
      "Stanley Kubrick, Producer                           0.006711\n",
      "John Boorman, Producer                              0.006711\n",
      "Name: name, dtype: float64 \n",
      "\n",
      "\n"
     ]
    }
   ],
   "source": [
    "cols = ['category', 'name']\n",
    "for col in cols:\n",
    "    print(col, '\\n', picture_awards[col].value_counts(normalize=True).head(10), '\\n\\n')"
   ]
  },
  {
   "cell_type": "code",
   "execution_count": 66,
   "metadata": {},
   "outputs": [
    {
     "name": "stdout",
     "output_type": "stream",
     "text": [
      "category \n",
      " DIRECTING    1.0\n",
      "Name: category, dtype: float64 \n",
      "\n",
      "\n",
      "name \n",
      " Martin Scorsese         0.035294\n",
      "Woody Allen             0.027451\n",
      "Steven Spielberg        0.027451\n",
      "Robert Altman           0.019608\n",
      "Clint Eastwood          0.015686\n",
      "Peter Weir              0.015686\n",
      "Sydney Pollack          0.011765\n",
      "Sidney Lumet            0.011765\n",
      "Francis Ford Coppola    0.011765\n",
      "Alexander Payne         0.011765\n",
      "Name: name, dtype: float64 \n",
      "\n",
      "\n"
     ]
    }
   ],
   "source": [
    "#Isolate directors\n",
    "director_awards = oscars_df[(~oscars_df['category'].str.contains('picture', case=False)) &\n",
    "                           (oscars_df['category'].str.contains('directing', case=False))]\n",
    "cols = ['category', 'name']\n",
    "for col in cols:\n",
    "    print(col, '\\n', director_awards[col].value_counts(normalize=True).head(10), '\\n\\n')"
   ]
  },
  {
   "cell_type": "markdown",
   "metadata": {},
   "source": [
    "## 4.0 Exploratory Data Analysis"
   ]
  },
  {
   "cell_type": "markdown",
   "metadata": {},
   "source": [
    "### 4.1 Does budget correlate to profits?"
   ]
  },
  {
   "cell_type": "markdown",
   "metadata": {},
   "source": [
    "First, lets examine what correlation between ROI and worldwide gross profit."
   ]
  },
  {
   "cell_type": "code",
   "execution_count": 86,
   "metadata": {},
   "outputs": [
    {
     "data": {
      "image/png": "[encoded data removed]",
      "text/plain": [
       "<Figure size 1008x432 with 1 Axes>"
      ]
     },
     "metadata": {
      "needs_background": "light"
     },
     "output_type": "display_data"
    }
   ],
   "source": [
    "# Set the width and height\n",
    "plt.figure(figsize=(14,6))\n",
    "\n",
    "#Add title\n",
    "plt.title('Correlation Between Production Budget and Net Profit')\n",
    "\n",
    "#Create plot\n",
    "sns.regplot(x=numbers_df['production_budget'],y=numbers_df['net_profit']);"
   ]
  },
  {
   "cell_type": "markdown",
   "metadata": {},
   "source": [
    "From the graph above, we can observe a modest positive correlation betweem budget and net profit. "
   ]
  },
  {
   "cell_type": "code",
   "execution_count": 85,
   "metadata": {},
   "outputs": [
    {
     "data": {
      "image/png": "[encoded data removed]",
      "text/plain": [
       "<Figure size 576x432 with 1 Axes>"
      ]
     },
     "metadata": {
      "needs_background": "light"
     },
     "output_type": "display_data"
    }
   ],
   "source": [
    "# Set the width and height\n",
    "plt.figure(figsize=(8,6))\n",
    "\n",
    "#Add title\n",
    "plt.title('Correlation Between Production Budget and Net Profit, by Budget Level')\n",
    "\n",
    "#Create plot\n",
    "sns.stripplot(x=numbers_df['budget_level'],y=numbers_df['net_profit']);"
   ]
  },
  {
   "cell_type": "markdown",
   "metadata": {},
   "source": [
    "While low budget movies can certainly be profitable, mid and high budgets have a better chance of earning much higher profits. "
   ]
  },
  {
   "cell_type": "markdown",
   "metadata": {},
   "source": [
    "### "
   ]
  },
  {
   "cell_type": "code",
   "execution_count": null,
   "metadata": {},
   "outputs": [],
   "source": []
  },
  {
   "cell_type": "markdown",
   "metadata": {},
   "source": [
    "## Recommendations"
   ]
  },
  {
   "cell_type": "code",
   "execution_count": null,
   "metadata": {},
   "outputs": [],
   "source": []
  },
  {
   "cell_type": "markdown",
   "metadata": {},
   "source": [
    "After this preliminary review, we recommend that Microsoft invests in the following strategies:\n",
    "\n",
    "\n",
    "\n",
    "However, much research is still to be done. The biggest recommendation is to continue this research and explore the following: "
   ]
  }
 ],
 "metadata": {
  "kernelspec": {
   "display_name": "Python (learn-env)",
   "language": "python",
   "name": "learn-env"
  },
  "language_info": {
   "codemirror_mode": {
    "name": "ipython",
    "version": 3
   },
   "file_extension": ".py",
   "mimetype": "text/x-python",
   "name": "python",
   "nbconvert_exporter": "python",
   "pygments_lexer": "ipython3",
   "version": "3.8.5"
  }
 },
 "nbformat": 4,
 "nbformat_minor": 4
}
